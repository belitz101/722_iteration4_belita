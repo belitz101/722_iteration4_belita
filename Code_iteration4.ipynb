{
 "cells": [
  {
   "cell_type": "code",
   "execution_count": 77,
   "id": "7c461989",
   "metadata": {},
   "outputs": [],
   "source": [
    "#Importing libraries\n",
    "import findspark\n",
    "findspark.init('/home/ubuntu/spark-3.2.1-bin-hadoop2.7')\n",
    "import pyspark\n",
    "from pyspark.sql import SparkSession\n",
    "spark = SparkSession.builder.appName('student_success_analysis').getOrCreate()"
   ]
  },
  {
   "cell_type": "code",
   "execution_count": 78,
   "id": "dd5f8c0a",
   "metadata": {},
   "outputs": [],
   "source": [
    "#Reading and loading the first dataset\n",
    "df1 = spark.read.load('student_data_second_part_tampered.csv', format = 'csv', header = 'true')"
   ]
  },
  {
   "cell_type": "code",
   "execution_count": 79,
   "id": "d8caf264",
   "metadata": {},
   "outputs": [],
   "source": [
    "#Reading and loading the second dataset\n",
    "df2 = spark.read.load('student_data_tampered.csv', format = 'csv', header = 'true')"
   ]
  },
  {
   "cell_type": "code",
   "execution_count": 80,
   "id": "9393593b",
   "metadata": {},
   "outputs": [
    {
     "name": "stdout",
     "output_type": "stream",
     "text": [
      "+---+----+----------+-------+------+--------+--------+------+--------+-----+----+----+------+--------+----+----+---+\n",
      "| ID|paid|activities|nursery|higher|internet|romantic|famrel|freetime|goout|Dalc|Walc|health|absences|  G1|  G2| G3|\n",
      "+---+----+----------+-------+------+--------+--------+------+--------+-----+----+----+------+--------+----+----+---+\n",
      "|  1|  no|        no|    yes|   yes|      no|      no|     4|       3|    4|   1|   1|     3|       6|null|   6|  6|\n",
      "|  2|  no|        no|     no|   yes|     yes|      no|     5|       3|    3|   1|   1|     3|       4|   5|   5|  6|\n",
      "|  3| yes|        no|    yes|   yes|     yes|      no|     4|       3|    2|   2|   3|     3|      10|   7|   8| 10|\n",
      "|  4| yes|       yes|    yes|   yes|     yes|     yes|     3|       2|    2|   1|   1|     5|       2|  15|  14| 15|\n",
      "|  5| yes|        no|    yes|   yes|      no|      no|     4|       3|    2|   1|   2|     5|       4|   6|  10| 10|\n",
      "|  6| yes|       yes|    yes|   yes|     yes|      no|     5|       4|    2|   1|   2|     5|      10|  15|  15| 15|\n",
      "|  7|  no|        no|    yes|   yes|     yes|      no|     4|       4|    4|   1|   1|     3|       0|  12|  12| 11|\n",
      "|  8|  no|        no|    yes|   yes|      no|      no|     4|       1|    4|   1|   1|     1|       6|   6|   5|  6|\n",
      "|  9| yes|        no|    yes|   yes|     yes|      no|     4|       2|    2|   1|   1|     1|       0|null|null| 19|\n",
      "| 10| yes|       yes|    yes|   yes|     yes|      no|     5|       5|    1|   1|   1|     5|       0|  14|  15| 15|\n",
      "| 11| yes|        no|    yes|   yes|     yes|      no|     3|       3|    3|   1|   2|     2|       0|  10|   8|  9|\n",
      "| 12|  no|       yes|    yes|   yes|     yes|      no|     5|       2|    2|   1|   1|     4|       4|  10|  12| 12|\n",
      "| 13| yes|       yes|    yes|   yes|     yes|      no|     4|       3|    3|   1|   3|     5|       2|  14|  14| 14|\n",
      "| 14| yes|        no|    yes|   yes|     yes|      no|     5|       4|    3|   1|   2|     3|       2|  10|  10| 11|\n",
      "| 15|  no|        no|    yes|   yes|     yes|     yes|     4|       5|    2|   1|   1|     3|       0|  14|  16| 16|\n",
      "| 16|  no|        no|    yes|   yes|     yes|      no|     4|       4|    4|   1|   2|     2|       4|  14|  14| 14|\n",
      "| 17| yes|       yes|    yes|   yes|     yes|      no|     3|       2|    3|   1|   2|     2|       6|  13|  14| 14|\n",
      "| 18|  no|       yes|    yes|   yes|      no|      no|     5|       3|    2|   1|   1|     4|       4|   8|  10| 10|\n",
      "| 19|  no|       yes|    yes|   yes|     yes|      no|     5|       5|    5|   2|   4|     5|      16|   6|   5|  5|\n",
      "| 20| yes|       yes|    yes|   yes|     yes|      no|     3|       1|    3|   1|   3|     5|       4|   8|  10| 10|\n",
      "+---+----+----------+-------+------+--------+--------+------+--------+-----+----+----+------+--------+----+----+---+\n",
      "only showing top 20 rows\n",
      "\n"
     ]
    }
   ],
   "source": [
    "#Data exploration\n",
    "#Visualising the first data frame df1, in which we can see there are 17 columns\n",
    "df1.show()"
   ]
  },
  {
   "cell_type": "code",
   "execution_count": 81,
   "id": "cf5ebe6d",
   "metadata": {},
   "outputs": [
    {
     "name": "stdout",
     "output_type": "stream",
     "text": [
      "+---+------+---+---+-------+-------+-------+----+----+--------+--------+----------+--------+----------+---------+--------+---------+------+\n",
      "| ID|school|sex|age|address|famsize|Pstatus|Medu|Fedu|    Mjob|    Fjob|    reason|guardian|traveltime|studytime|failures|schoolsup|famsup|\n",
      "+---+------+---+---+-------+-------+-------+----+----+--------+--------+----------+--------+----------+---------+--------+---------+------+\n",
      "|  1|    GP|  F| 18|      U|    GT3|      A|   4|   4| at_home| teacher|    course|  mother|         2|        2|       0|      yes|no yes|\n",
      "|  2|    GP|  F| 17|      U|    GT3|      T|   1|   1| at_home|   other|    course|  father|         1|        2|       0|       no|   yes|\n",
      "|  3|    GP|  F| 15|      U|    LE3|      T|   1|   1| at_home|   other|     other|  mother|         1|        2|       3|      yes|    no|\n",
      "|  4|    GP|  F| 15|      U|    GT3|      T|   4|   2|  health|services|      home|  mother|         1|        3|       0|       no|   yes|\n",
      "|  5|    GP|  F| 16|      U|    GT3|      T|   3|   3|   other|   other|      home|  father|         1|        2|       0|       no|   yes|\n",
      "|  6|    GP|  M| 16|      U|    LE3|      T|   4|   3|services|   other|reputation|  mother|         1|        2|       0|       no|   yes|\n",
      "|  7|    GP|  M| 16|      U|    LE3|      T|   2|   2|   other|   other|      home|  mother|         1|        2|       0|       no|    no|\n",
      "|  8|    GP|  F| 17|      U|    GT3|      A|   4|   4|   other| teacher|      home|  mother|         2|        2|       0|      yes|   yes|\n",
      "|  9|    GP|  M| 15|      U|    LE3|      A|   3|   2|services|   other|      home|  mother|         1|        2|       0|       no|   yes|\n",
      "| 10|    GP|  M| 15|      U|    GT3|      T|   3|   4|   other|   other|      home|  mother|         1|        2|       0|       no|   yes|\n",
      "| 11|    GP|  F| 15|      U|    GT3|      T|   4|   4| teacher|  health|reputation|  mother|         1|        2|       0|       no|   yes|\n",
      "| 12|    GP|  F| 15|      U|    GT3|      T|   2|   1|services|   other|reputation|  father|         3|        3|       0|       no|   yes|\n",
      "| 13|    GP|  M| 15|      U|    LE3|      T|   4|   4|  health|services|    course|  father|         1|        1|       0|       no|   yes|\n",
      "| 14|    GP|  M| 15|      U|    GT3|      T|   4|   3| teacher|   other|    course|  mother|         2|        2|       0|       no|   yes|\n",
      "| 15|    GP|  M| 15|      U|    GT3|      A|   2|   2|   other|   other|      home|   other|         1|        3|       0|       no|   yes|\n",
      "| 16|    GP|  F| 16|      U|    GT3|      T|   4|   4|  health|   other|      home|  mother|         1|        1|       0|       no|   yes|\n",
      "| 17|    GP|  F| 16|      U|    GT3|      T|   4|   4|services|services|reputation|  mother|         1|        3|       0|       no|   yes|\n",
      "| 18|    GP|  F| 16|      U|    GT3|      T|   3|   3|   other|   other|reputation|  mother|     three|        2|       0|      yes|   yes|\n",
      "| 19|    GP|  M| 17|      U|    GT3|      T|   3|   2|services|services|    course|  mother|         1|        1|       3|       no|   yes|\n",
      "| 20|    GP|  M| 16|      U|    LE3|      T|   4|   3|  health|   other|      home|  father|         1|        1|       0|       no|    no|\n",
      "+---+------+---+---+-------+-------+-------+----+----+--------+--------+----------+--------+----------+---------+--------+---------+------+\n",
      "only showing top 20 rows\n",
      "\n"
     ]
    }
   ],
   "source": [
    "#Visualising the second data frame df2, in which we can see there are 18 columns\n",
    "df2.show()\n"
   ]
  },
  {
   "cell_type": "code",
   "execution_count": 82,
   "id": "5b692852",
   "metadata": {},
   "outputs": [],
   "source": [
    "#Joining the two datasets into one dataset\n",
    "master_data = df1.join(df2, \"ID\", how = 'left_outer')"
   ]
  },
  {
   "cell_type": "code",
   "execution_count": 83,
   "id": "424df9fb",
   "metadata": {},
   "outputs": [
    {
     "data": {
      "text/plain": [
       "['ID',\n",
       " 'paid',\n",
       " 'activities',\n",
       " 'nursery',\n",
       " 'higher',\n",
       " 'internet',\n",
       " 'romantic',\n",
       " 'famrel',\n",
       " 'freetime',\n",
       " 'goout',\n",
       " 'Dalc',\n",
       " 'Walc',\n",
       " 'health',\n",
       " 'absences',\n",
       " 'G1',\n",
       " 'G2',\n",
       " 'G3',\n",
       " 'school',\n",
       " 'sex',\n",
       " 'age',\n",
       " 'address',\n",
       " 'famsize',\n",
       " 'Pstatus',\n",
       " 'Medu',\n",
       " 'Fedu',\n",
       " 'Mjob',\n",
       " 'Fjob',\n",
       " 'reason',\n",
       " 'guardian',\n",
       " 'traveltime',\n",
       " 'studytime',\n",
       " 'failures',\n",
       " 'schoolsup',\n",
       " 'famsup']"
      ]
     },
     "execution_count": 83,
     "metadata": {},
     "output_type": "execute_result"
    }
   ],
   "source": [
    "#Visualising the data columns in the master dataset\n",
    "master_data.columns"
   ]
  },
  {
   "cell_type": "code",
   "execution_count": 84,
   "id": "8c92788d",
   "metadata": {},
   "outputs": [
    {
     "name": "stderr",
     "output_type": "stream",
     "text": [
      "\r",
      "[Stage 327:>                                                        (0 + 1) / 1]\r"
     ]
    },
    {
     "name": "stdout",
     "output_type": "stream",
     "text": [
      "+-------+------------------+----+----------+-------+------+--------+--------+------------------+------------------+------------------+------------------+------------------+------------------+-----------------+------------------+------------------+------------------+------+----+------------------+-------+-------+-------+-----------------+------------------+-------+-------+----------+--------+------------------+------------------+------------------+---------+------+\n",
      "|summary|                ID|paid|activities|nursery|higher|internet|romantic|            famrel|          freetime|             goout|              Dalc|              Walc|            health|         absences|                G1|                G2|                G3|school| sex|               age|address|famsize|Pstatus|             Medu|              Fedu|   Mjob|   Fjob|    reason|guardian|        traveltime|         studytime|          failures|schoolsup|famsup|\n",
      "+-------+------------------+----+----------+-------+------+--------+--------+------------------+------------------+------------------+------------------+------------------+------------------+-----------------+------------------+------------------+------------------+------+----+------------------+-------+-------+-------+-----------------+------------------+-------+-------+----------+--------+------------------+------------------+------------------+---------+------+\n",
      "|  count|               395| 395|       395|    395|   395|     395|     395|               395|               395|               395|               395|               395|               395|              395|               393|               394|               395|   395| 395|               395|    395|    395|    395|              395|               395|    395|    395|       394|     395|               395|               395|               395|      395|   395|\n",
      "|   mean|             198.0|null|      null|   null|  null|    null|    null|3.9443037974683546|10.822784810126583| 3.108860759493671| 1.481012658227848|2.2911392405063293|3.5544303797468353|5.708860759493671|10.910941475826972|10.695431472081218|10.415189873417722|  null|null|16.741772151898733|   null|   null|   null|2.751898734177215|2.5215189873417723|   null|   null|      null|    null|1.4467005076142132|27.349367088607593|0.3341772151898734|     null|  null|\n",
      "| stddev|114.17092449481173|null|      null|   null|  null|    null|    null|0.8966586076885046|150.78686671910884|1.1132781740183422|0.8907414280909668|1.2878965924510932|1.3903033913095773|8.003095687108182|3.3042501046711408| 3.748265680936297|4.5814426109978434|  null|null|1.4856853000880261|   null|   null|   null|1.096471123071355|1.0882005458269433|   null|   null|      null|    null|0.6941791987295868| 503.0527562814763|0.7436509736062509|     null|  null|\n",
      "|    min|                 1|  no|        no|     no|    no|      no|      no|                 1|                 1|                 1|                 1|                 1|                 1|                0|                10|                 0|                 0|    GP|   F|                15|      R|    GT3|      A|                0|                 0|at_home|at_home|    course|  fathar|                 1|                 1|                 0|       no|    no|\n",
      "|    max|                99| yes|       yes|    yes|   yes|     yes|     yes|                 5|                 5|                 5|                 5|                 5|                 5|                9|                 9|                 9|                 9|    MS|   M|                32|  Urban|    LE3|      T|                4|                 4|teacher|teacher|reputation|   other|             three|                 4|                 3|      yes|   yes|\n",
      "+-------+------------------+----+----------+-------+------+--------+--------+------------------+------------------+------------------+------------------+------------------+------------------+-----------------+------------------+------------------+------------------+------+----+------------------+-------+-------+-------+-----------------+------------------+-------+-------+----------+--------+------------------+------------------+------------------+---------+------+\n",
      "\n"
     ]
    },
    {
     "name": "stderr",
     "output_type": "stream",
     "text": [
      "\r",
      "                                                                                \r"
     ]
    }
   ],
   "source": [
    "#Describing our data with some general statistics\n",
    "master_data.describe().show()"
   ]
  },
  {
   "cell_type": "code",
   "execution_count": 85,
   "id": "6def1b6e",
   "metadata": {
    "scrolled": true
   },
   "outputs": [
    {
     "name": "stdout",
     "output_type": "stream",
     "text": [
      "+-------+------------------+----+-------+-----------------+-------+------------------+------------------+\n",
      "|summary|                ID| sex|   Mjob|             Medu|   Fjob|              Fedu|                G3|\n",
      "+-------+------------------+----+-------+-----------------+-------+------------------+------------------+\n",
      "|  count|               395| 395|    395|              395|    395|               395|               395|\n",
      "|   mean|             198.0|null|   null|2.751898734177215|   null|2.5215189873417723|10.415189873417722|\n",
      "| stddev|114.17092449481173|null|   null|1.096471123071355|   null|1.0882005458269433|4.5814426109978434|\n",
      "|    min|                 1|   F|at_home|                0|at_home|                 0|                 0|\n",
      "|    max|                99|   M|teacher|                4|teacher|                 4|                 9|\n",
      "+-------+------------------+----+-------+-----------------+-------+------------------+------------------+\n",
      "\n"
     ]
    }
   ],
   "source": [
    "#Describing selected data with some general statistics\n",
    "master_data.select(\"ID\", \"sex\", \"Mjob\", \"Medu\", \"Fjob\", \"Fedu\", \"G3\" ).describe().show()"
   ]
  },
  {
   "cell_type": "code",
   "execution_count": 86,
   "id": "e21ac4c3",
   "metadata": {},
   "outputs": [
    {
     "data": {
      "text/plain": [
       "DataFrame[summary: string, ID: string, paid: string, activities: string, nursery: string, higher: string, internet: string, romantic: string, famrel: string, freetime: string, goout: string, Dalc: string, Walc: string, health: string, absences: string, G1: string, G2: string, G3: string, school: string, sex: string, age: string, address: string, famsize: string, Pstatus: string, Medu: string, Fedu: string, Mjob: string, Fjob: string, reason: string, guardian: string, traveltime: string, studytime: string, failures: string, schoolsup: string, famsup: string]"
      ]
     },
     "execution_count": 86,
     "metadata": {},
     "output_type": "execute_result"
    }
   ],
   "source": [
    "#Viewing data types\n",
    "master_data.describe()"
   ]
  },
  {
   "cell_type": "code",
   "execution_count": 87,
   "id": "b097e80a",
   "metadata": {},
   "outputs": [
    {
     "data": {
      "image/png": "[encoded data removed]",
      "text/plain": [
       "<Figure size 432x288 with 1 Axes>"
      ]
     },
     "metadata": {
      "needs_background": "light"
     },
     "output_type": "display_data"
    }
   ],
   "source": [
    "#Data visualisation \n",
    "#importing python libraries\n",
    "import numpy as np\n",
    "import matplotlib.pyplot as plt\n",
    "%matplotlib inline\n",
    "\n",
    "#converting age into an array using Numpy and plotting it using pyplot\n",
    "age_array = np.array(master_data.select('age').collect())\n",
    "plt.hist(age_array)\n",
    "plt.show()"
   ]
  },
  {
   "cell_type": "code",
   "execution_count": 88,
   "id": "300d0150",
   "metadata": {
    "scrolled": false
   },
   "outputs": [
    {
     "data": {
      "image/png": "[encoded data removed]",
      "text/plain": [
       "<Figure size 432x288 with 1 Axes>"
      ]
     },
     "metadata": {
      "needs_background": "light"
     },
     "output_type": "display_data"
    }
   ],
   "source": [
    "#converting Pstatus into an array using Numpy and plotting it using pyplot\n",
    "pstatus_array = np.array(master_data.select('Pstatus').collect())\n",
    "plt.hist(pstatus_array)\n",
    "plt.show()"
   ]
  },
  {
   "cell_type": "code",
   "execution_count": 89,
   "id": "9064cc49",
   "metadata": {},
   "outputs": [
    {
     "name": "stdout",
     "output_type": "stream",
     "text": [
      "+---+----+----------+-------+------+--------+--------+------+--------+-----+----+----+------+--------+---+---+---+------+---+---+-------+-------+-------+----+----+----+----+------+--------+----------+---------+--------+---------+------+\n",
      "| ID|paid|activities|nursery|higher|internet|romantic|famrel|freetime|goout|Dalc|Walc|health|absences| G1| G2| G3|school|sex|age|address|famsize|Pstatus|Medu|Fedu|Mjob|Fjob|reason|guardian|traveltime|studytime|failures|schoolsup|famsup|\n",
      "+---+----+----------+-------+------+--------+--------+------+--------+-----+----+----+------+--------+---+---+---+------+---+---+-------+-------+-------+----+----+----+----+------+--------+----------+---------+--------+---------+------+\n",
      "|  0|   0|         0|      0|     0|       0|       0|     0|       0|    0|   0|   0|     0|       0|  2|  1|  0|     0|  0|  0|      0|      0|      0|   0|   0|   0|   0|     1|       0|         0|        0|       0|        0|     0|\n",
      "+---+----+----------+-------+------+--------+--------+------+--------+-----+----+----+------+--------+---+---+---+------+---+---+-------+-------+-------+----+----+----+----+------+--------+----------+---------+--------+---------+------+\n",
      "\n"
     ]
    }
   ],
   "source": [
    "#verifying data quality\n",
    "#finding null values \n",
    "\n",
    "from pyspark.sql.functions import col,isnan, when, count\n",
    "master_data.select([count(when(isnan(x) | col(x).isNull(), x)).alias(x) for x in master_data.columns]).show()"
   ]
  },
  {
   "cell_type": "code",
   "execution_count": 90,
   "id": "d2424bc2",
   "metadata": {},
   "outputs": [],
   "source": [
    "#dropping na\n",
    "master_data = master_data.dropna()"
   ]
  },
  {
   "cell_type": "code",
   "execution_count": 91,
   "id": "3e589474",
   "metadata": {},
   "outputs": [
    {
     "name": "stdout",
     "output_type": "stream",
     "text": [
      "+---+----+----------+-------+------+--------+--------+------+--------+-----+----+----+------+--------+---+---+---+------+---+---+-------+-------+-------+----+----+----+----+------+--------+----------+---------+--------+---------+------+\n",
      "| ID|paid|activities|nursery|higher|internet|romantic|famrel|freetime|goout|Dalc|Walc|health|absences| G1| G2| G3|school|sex|age|address|famsize|Pstatus|Medu|Fedu|Mjob|Fjob|reason|guardian|traveltime|studytime|failures|schoolsup|famsup|\n",
      "+---+----+----------+-------+------+--------+--------+------+--------+-----+----+----+------+--------+---+---+---+------+---+---+-------+-------+-------+----+----+----+----+------+--------+----------+---------+--------+---------+------+\n",
      "|  0|   0|         0|      0|     0|       0|       0|     0|       0|    0|   0|   0|     0|       0|  0|  0|  0|     0|  0|  0|      0|      0|      0|   0|   0|   0|   0|     0|       0|         0|        0|       0|        0|     0|\n",
      "+---+----+----------+-------+------+--------+--------+------+--------+-----+----+----+------+--------+---+---+---+------+---+---+-------+-------+-------+----+----+----+----+------+--------+----------+---------+--------+---------+------+\n",
      "\n"
     ]
    }
   ],
   "source": [
    "#displaying the number of NA in columns after the drop na function\n",
    "master_data.select([count(when(isnan(y) | col(y).isNull(), y)).alias(y) for y in master_data.columns]).show()"
   ]
  },
  {
   "cell_type": "code",
   "execution_count": 92,
   "id": "04d1dc17",
   "metadata": {},
   "outputs": [
    {
     "name": "stdout",
     "output_type": "stream",
     "text": [
      "+-------+------------------+\n",
      "|summary|                ID|\n",
      "+-------+------------------+\n",
      "|  count|               392|\n",
      "|   mean|198.84438775510205|\n",
      "| stddev|113.73630726336036|\n",
      "|    min|                10|\n",
      "|    max|                99|\n",
      "+-------+------------------+\n",
      "\n"
     ]
    }
   ],
   "source": [
    "#viewing number of rows in master dataset after dropping NA values\n",
    "master_data.select(\"ID\").describe().show()"
   ]
  },
  {
   "cell_type": "code",
   "execution_count": 93,
   "id": "e02d1129",
   "metadata": {},
   "outputs": [
    {
     "name": "stdout",
     "output_type": "stream",
     "text": [
      "+-------+------------------+\n",
      "|summary|               age|\n",
      "+-------+------------------+\n",
      "|  count|               392|\n",
      "|   mean|16.739795918367346|\n",
      "| stddev|1.4860469400783718|\n",
      "|    min|                15|\n",
      "|    max|                32|\n",
      "+-------+------------------+\n",
      "\n"
     ]
    }
   ],
   "source": [
    "#viewing the age column statistics to find out count of rows\n",
    "master_data.select(\"age\").describe().show()"
   ]
  },
  {
   "cell_type": "code",
   "execution_count": 94,
   "id": "97ad2fec",
   "metadata": {},
   "outputs": [],
   "source": [
    "#discarding records with student ages over 19 years old\n",
    "master_data = master_data.filter(master_data.age <= 19)"
   ]
  },
  {
   "cell_type": "code",
   "execution_count": 95,
   "id": "5685afe0",
   "metadata": {},
   "outputs": [
    {
     "name": "stdout",
     "output_type": "stream",
     "text": [
      "+-------+------------------+\n",
      "|summary|               age|\n",
      "+-------+------------------+\n",
      "|  count|               386|\n",
      "|   mean|16.650259067357513|\n",
      "| stddev|1.1949949454800117|\n",
      "|    min|                15|\n",
      "|    max|                19|\n",
      "+-------+------------------+\n",
      "\n"
     ]
    }
   ],
   "source": [
    "#viewing the age column statistics to find out count of rows\n",
    "master_data.select(\"age\").describe().show()"
   ]
  },
  {
   "cell_type": "code",
   "execution_count": 96,
   "id": "1124253b",
   "metadata": {},
   "outputs": [
    {
     "name": "stdout",
     "output_type": "stream",
     "text": [
      "+--------+\n",
      "|guardian|\n",
      "+--------+\n",
      "|father  |\n",
      "|fathar  |\n",
      "|mother  |\n",
      "|other   |\n",
      "+--------+\n",
      "\n"
     ]
    }
   ],
   "source": [
    "#viewing unique values in column guardian\n",
    "master_data.dropDuplicates(([\"guardian\"])).select(\"guardian\").show(truncate=False)"
   ]
  },
  {
   "cell_type": "code",
   "execution_count": 97,
   "id": "c265e0ae",
   "metadata": {},
   "outputs": [
    {
     "name": "stdout",
     "output_type": "stream",
     "text": [
      "+-------+\n",
      "|address|\n",
      "+-------+\n",
      "|Urban  |\n",
      "|U      |\n",
      "|R      |\n",
      "|Rural  |\n",
      "+-------+\n",
      "\n"
     ]
    }
   ],
   "source": [
    "#viewing unique values in column address\n",
    "master_data.dropDuplicates(([\"address\"])).select(\"address\").show(truncate=False)"
   ]
  },
  {
   "cell_type": "code",
   "execution_count": 98,
   "id": "ba68d4b9",
   "metadata": {},
   "outputs": [
    {
     "name": "stdout",
     "output_type": "stream",
     "text": [
      "+----------+\n",
      "|traveltime|\n",
      "+----------+\n",
      "|3         |\n",
      "|three     |\n",
      "|1         |\n",
      "|4         |\n",
      "|2         |\n",
      "+----------+\n",
      "\n"
     ]
    }
   ],
   "source": [
    "#viewing unique values in column traveltime\n",
    "master_data.dropDuplicates(([\"traveltime\"])).select(\"traveltime\").show(truncate=False)"
   ]
  },
  {
   "cell_type": "code",
   "execution_count": 99,
   "id": "97043ae9",
   "metadata": {},
   "outputs": [],
   "source": [
    "#discarding records with incorrectly typed data for column guardian, address, and traveltime\n",
    "master_data = master_data.filter((master_data.guardian != \"fathar\") & (master_data.address != \"Urban\") & (master_data.address != \"Rural\") & (master_data.traveltime != \"three\")) "
   ]
  },
  {
   "cell_type": "code",
   "execution_count": 100,
   "id": "d8988632",
   "metadata": {},
   "outputs": [
    {
     "name": "stdout",
     "output_type": "stream",
     "text": [
      "+--------+\n",
      "|guardian|\n",
      "+--------+\n",
      "|father  |\n",
      "|mother  |\n",
      "|other   |\n",
      "+--------+\n",
      "\n",
      "+-------+\n",
      "|address|\n",
      "+-------+\n",
      "|U      |\n",
      "|R      |\n",
      "+-------+\n",
      "\n",
      "+----------+\n",
      "|traveltime|\n",
      "+----------+\n",
      "|3         |\n",
      "|1         |\n",
      "|4         |\n",
      "|2         |\n",
      "+----------+\n",
      "\n"
     ]
    }
   ],
   "source": [
    "#viewing unique values in column guardian\n",
    "master_data.dropDuplicates(([\"guardian\"])).select(\"guardian\").show(truncate=False)\n",
    "\n",
    "#viewing unique values in column address\n",
    "master_data.dropDuplicates(([\"address\"])).select(\"address\").show(truncate=False)\n",
    "\n",
    "#viewing unique values in column traveltime\n",
    "master_data.dropDuplicates(([\"traveltime\"])).select(\"traveltime\").show(truncate=False)"
   ]
  },
  {
   "cell_type": "code",
   "execution_count": 101,
   "id": "8392b3e6",
   "metadata": {},
   "outputs": [
    {
     "name": "stdout",
     "output_type": "stream",
     "text": [
      "+-------+------------------+\n",
      "|summary|                ID|\n",
      "+-------+------------------+\n",
      "|  count|               379|\n",
      "|   mean|197.47757255936676|\n",
      "| stddev|112.54662243064861|\n",
      "|    min|                10|\n",
      "|    max|                99|\n",
      "+-------+------------------+\n",
      "\n"
     ]
    }
   ],
   "source": [
    "#viewing the ID column statistics to find out count of rows\n",
    "master_data.select(\"ID\").describe().show()"
   ]
  },
  {
   "cell_type": "code",
   "execution_count": 102,
   "id": "8e2d0eea",
   "metadata": {},
   "outputs": [
    {
     "data": {
      "text/plain": [
       "DataFrame[summary: string, ID: string, paid: string, activities: string, nursery: string, higher: string, internet: string, romantic: string, famrel: string, freetime: string, goout: string, Dalc: string, Walc: string, health: string, absences: string, G1: string, G2: string, G3: string, school: string, sex: string, age: string, address: string, famsize: string, Pstatus: string, Medu: string, Fedu: string, Mjob: string, Fjob: string, reason: string, guardian: string, traveltime: string, studytime: string, failures: string, schoolsup: string, famsup: string]"
      ]
     },
     "execution_count": 102,
     "metadata": {},
     "output_type": "execute_result"
    }
   ],
   "source": [
    "#Viewing data types to find the columns with data type string\n",
    "master_data.describe()"
   ]
  },
  {
   "cell_type": "code",
   "execution_count": 103,
   "id": "974da679",
   "metadata": {},
   "outputs": [],
   "source": [
    "#Contruction of data\n",
    "\n",
    "#importing necessary libraries\n",
    "from pyspark.ml.feature import StringIndexer\n",
    "from pyspark.ml.feature import OneHotEncoder\n",
    "\n",
    "#numeric indexing for string columns, with index starting from 0\n",
    "#fitting the indexer model and using it to transform the strings into numeric indices\n",
    "indexer = StringIndexer(inputCol=\"school\", outputCol=\"schoolNumericIndex\")\n",
    "master_data = indexer.fit(master_data).transform(master_data)\n",
    "ohe = OneHotEncoder(inputCol=\"schoolNumericIndex\", outputCol=\"schoolVector\")\n",
    "master_data = ohe.fit(master_data).transform(master_data)\n",
    "\n",
    "indexer = StringIndexer(inputCol=\"sex\", outputCol=\"sexNumericIndex\")\n",
    "master_data = indexer.fit(master_data).transform(master_data)\n",
    "ohe = OneHotEncoder(inputCol=\"sexNumericIndex\", outputCol=\"sexVector\")\n",
    "master_data = ohe.fit(master_data).transform(master_data)\n",
    "\n",
    "indexer = StringIndexer(inputCol=\"address\", outputCol=\"addressNumericIndex\")\n",
    "master_data = indexer.fit(master_data).transform(master_data)\n",
    "ohe = OneHotEncoder(inputCol=\"addressNumericIndex\", outputCol=\"addressVector\")\n",
    "master_data = ohe.fit(master_data).transform(master_data)\n",
    "\n",
    "indexer = StringIndexer(inputCol=\"famsize\", outputCol=\"famsizeNumericIndex\")\n",
    "master_data = indexer.fit(master_data).transform(master_data)\n",
    "ohe = OneHotEncoder(inputCol=\"famsizeNumericIndex\", outputCol=\"famsizeVector\")\n",
    "master_data = ohe.fit(master_data).transform(master_data)\n",
    "\n",
    "indexer = StringIndexer(inputCol=\"Pstatus\", outputCol=\"PstatusNumericIndex\")\n",
    "master_data = indexer.fit(master_data).transform(master_data)\n",
    "ohe = OneHotEncoder(inputCol=\"PstatusNumericIndex\", outputCol=\"PstatusVector\")\n",
    "master_data = ohe.fit(master_data).transform(master_data)\n",
    "\n",
    "indexer = StringIndexer(inputCol=\"schoolsup\", outputCol=\"schoolsupNumericIndex\")\n",
    "master_data = indexer.fit(master_data).transform(master_data)\n",
    "ohe = OneHotEncoder(inputCol=\"schoolsupNumericIndex\", outputCol=\"schoolsupVector\")\n",
    "master_data = ohe.fit(master_data).transform(master_data)\n",
    "\n",
    "indexer = StringIndexer(inputCol=\"famsup\", outputCol=\"famsupNumericIndex\")\n",
    "master_data = indexer.fit(master_data).transform(master_data)\n",
    "ohe = OneHotEncoder(inputCol=\"famsupNumericIndex\", outputCol=\"famsupVector\")\n",
    "master_data = ohe.fit(master_data).transform(master_data)\n",
    "\n",
    "indexer = StringIndexer(inputCol=\"paid\", outputCol=\"paidNumericIndex\")\n",
    "master_data = indexer.fit(master_data).transform(master_data)\n",
    "ohe = OneHotEncoder(inputCol=\"paidNumericIndex\", outputCol=\"paidVector\")\n",
    "master_data = ohe.fit(master_data).transform(master_data)\n",
    "\n",
    "indexer = StringIndexer(inputCol=\"activities\", outputCol=\"activitiesNumericIndex\")\n",
    "master_data = indexer.fit(master_data).transform(master_data)\n",
    "ohe = OneHotEncoder(inputCol=\"activitiesNumericIndex\", outputCol=\"activitiesVector\")\n",
    "master_data = ohe.fit(master_data).transform(master_data)\n",
    "\n",
    "indexer = StringIndexer(inputCol=\"nursery\", outputCol=\"nurseryNumericIndex\")\n",
    "master_data = indexer.fit(master_data).transform(master_data)\n",
    "ohe = OneHotEncoder(inputCol=\"nurseryNumericIndex\", outputCol=\"nurseryVector\")\n",
    "master_data = ohe.fit(master_data).transform(master_data)\n",
    "\n",
    "indexer = StringIndexer(inputCol=\"higher\", outputCol=\"higherNumericIndex\")\n",
    "master_data = indexer.fit(master_data).transform(master_data)\n",
    "ohe = OneHotEncoder(inputCol=\"higherNumericIndex\", outputCol=\"higherVector\")\n",
    "master_data = ohe.fit(master_data).transform(master_data)\n",
    "\n",
    "indexer = StringIndexer(inputCol=\"internet\", outputCol=\"internetNumericIndex\")\n",
    "master_data = indexer.fit(master_data).transform(master_data)\n",
    "ohe = OneHotEncoder(inputCol=\"internetNumericIndex\", outputCol=\"internetVector\")\n",
    "master_data = ohe.fit(master_data).transform(master_data)\n",
    "\n",
    "indexer = StringIndexer(inputCol=\"romantic\", outputCol=\"romanticNumericIndex\")\n",
    "master_data = indexer.fit(master_data).transform(master_data)\n",
    "ohe = OneHotEncoder(inputCol=\"romanticNumericIndex\", outputCol=\"romanticVector\")\n",
    "master_data = ohe.fit(master_data).transform(master_data)\n",
    "\n",
    "indexer = StringIndexer(inputCol=\"Mjob\", outputCol=\"MjobNumericIndex\")\n",
    "master_data = indexer.fit(master_data).transform(master_data)\n",
    "ohe = OneHotEncoder(inputCol=\"MjobNumericIndex\", outputCol=\"MjobVector\")\n",
    "master_data = ohe.fit(master_data).transform(master_data)\n",
    "\n",
    "indexer = StringIndexer(inputCol=\"Fjob\", outputCol=\"FjobNumericIndex\")\n",
    "master_data = indexer.fit(master_data).transform(master_data)\n",
    "ohe = OneHotEncoder(inputCol=\"FjobNumericIndex\", outputCol=\"FjobVector\")\n",
    "master_data = ohe.fit(master_data).transform(master_data)\n",
    "\n",
    "indexer = StringIndexer(inputCol=\"reason\", outputCol=\"reasonNumericIndex\")\n",
    "master_data = indexer.fit(master_data).transform(master_data)\n",
    "ohe = OneHotEncoder(inputCol=\"reasonNumericIndex\", outputCol=\"reasonVector\")\n",
    "master_data = ohe.fit(master_data).transform(master_data)\n",
    "\n",
    "indexer = StringIndexer(inputCol=\"guardian\", outputCol=\"guardianNumericIndex\")\n",
    "master_data = indexer.fit(master_data).transform(master_data)\n",
    "ohe = OneHotEncoder(inputCol=\"guardianNumericIndex\", outputCol=\"guardianVector\")\n",
    "master_data = ohe.fit(master_data).transform(master_data)"
   ]
  },
  {
   "cell_type": "code",
   "execution_count": 104,
   "id": "f142f1b3",
   "metadata": {},
   "outputs": [
    {
     "name": "stdout",
     "output_type": "stream",
     "text": [
      "+---+----+----------+-------+------+--------+--------+------+--------+-----+----+----+------+--------+---+---+---+------+---+---+-------+-------+-------+----+----+--------+--------+----------+--------+----------+---------+--------+---------+------+------------------+-------------+---------------+-------------+-------------------+-------------+-------------------+-------------+-------------------+-------------+---------------------+---------------+------------------+-------------+----------------+-------------+----------------------+----------------+-------------------+-------------+------------------+-------------+--------------------+--------------+--------------------+--------------+----------------+-------------+----------------+-------------+------------------+-------------+--------------------+--------------+\n",
      "| ID|paid|activities|nursery|higher|internet|romantic|famrel|freetime|goout|Dalc|Walc|health|absences| G1| G2| G3|school|sex|age|address|famsize|Pstatus|Medu|Fedu|    Mjob|    Fjob|    reason|guardian|traveltime|studytime|failures|schoolsup|famsup|schoolNumericIndex| schoolVector|sexNumericIndex|    sexVector|addressNumericIndex|addressVector|famsizeNumericIndex|famsizeVector|PstatusNumericIndex|PstatusVector|schoolsupNumericIndex|schoolsupVector|famsupNumericIndex| famsupVector|paidNumericIndex|   paidVector|activitiesNumericIndex|activitiesVector|nurseryNumericIndex|nurseryVector|higherNumericIndex| higherVector|internetNumericIndex|internetVector|romanticNumericIndex|romanticVector|MjobNumericIndex|   MjobVector|FjobNumericIndex|   FjobVector|reasonNumericIndex| reasonVector|guardianNumericIndex|guardianVector|\n",
      "+---+----+----------+-------+------+--------+--------+------+--------+-----+----+----+------+--------+---+---+---+------+---+---+-------+-------+-------+----+----+--------+--------+----------+--------+----------+---------+--------+---------+------+------------------+-------------+---------------+-------------+-------------------+-------------+-------------------+-------------+-------------------+-------------+---------------------+---------------+------------------+-------------+----------------+-------------+----------------------+----------------+-------------------+-------------+------------------+-------------+--------------------+--------------+--------------------+--------------+----------------+-------------+----------------+-------------+------------------+-------------+--------------------+--------------+\n",
      "|  2|  no|        no|     no|   yes|     yes|      no|     5|       3|    3|   1|   1|     3|       4|  5|  5|  6|    GP|  F| 17|      U|    GT3|      T|   1|   1| at_home|   other|    course|  father|         1|        2|       0|       no|   yes|               0.0|(1,[0],[1.0])|            0.0|(1,[0],[1.0])|                0.0|(1,[0],[1.0])|                0.0|(1,[0],[1.0])|                0.0|(1,[0],[1.0])|                  0.0|  (1,[0],[1.0])|               0.0|(1,[0],[1.0])|             0.0|(1,[0],[1.0])|                   1.0|       (1,[],[])|                1.0|    (1,[],[])|               0.0|(1,[0],[1.0])|                 0.0| (1,[0],[1.0])|                 0.0| (1,[0],[1.0])|             2.0|(4,[2],[1.0])|             0.0|(4,[0],[1.0])|               0.0|(3,[0],[1.0])|                 1.0| (2,[1],[1.0])|\n",
      "|  3| yes|        no|    yes|   yes|     yes|      no|     4|       3|    2|   2|   3|     3|      10|  7|  8| 10|    GP|  F| 15|      U|    LE3|      T|   1|   1| at_home|   other|     other|  mother|         1|        2|       3|      yes|    no|               0.0|(1,[0],[1.0])|            0.0|(1,[0],[1.0])|                0.0|(1,[0],[1.0])|                1.0|    (1,[],[])|                0.0|(1,[0],[1.0])|                  1.0|      (1,[],[])|               1.0|    (1,[],[])|             1.0|    (1,[],[])|                   1.0|       (1,[],[])|                0.0|(1,[0],[1.0])|               0.0|(1,[0],[1.0])|                 0.0| (1,[0],[1.0])|                 0.0| (1,[0],[1.0])|             2.0|(4,[2],[1.0])|             0.0|(4,[0],[1.0])|               3.0|    (3,[],[])|                 0.0| (2,[0],[1.0])|\n",
      "|  4| yes|       yes|    yes|   yes|     yes|     yes|     3|       2|    2|   1|   1|     5|       2| 15| 14| 15|    GP|  F| 15|      U|    GT3|      T|   4|   2|  health|services|      home|  mother|         1|        3|       0|       no|   yes|               0.0|(1,[0],[1.0])|            0.0|(1,[0],[1.0])|                0.0|(1,[0],[1.0])|                0.0|(1,[0],[1.0])|                0.0|(1,[0],[1.0])|                  0.0|  (1,[0],[1.0])|               0.0|(1,[0],[1.0])|             1.0|    (1,[],[])|                   0.0|   (1,[0],[1.0])|                0.0|(1,[0],[1.0])|               0.0|(1,[0],[1.0])|                 0.0| (1,[0],[1.0])|                 1.0|     (1,[],[])|             4.0|    (4,[],[])|             1.0|(4,[1],[1.0])|               1.0|(3,[1],[1.0])|                 0.0| (2,[0],[1.0])|\n",
      "|  5| yes|        no|    yes|   yes|      no|      no|     4|       3|    2|   1|   2|     5|       4|  6| 10| 10|    GP|  F| 16|      U|    GT3|      T|   3|   3|   other|   other|      home|  father|         1|        2|       0|       no|   yes|               0.0|(1,[0],[1.0])|            0.0|(1,[0],[1.0])|                0.0|(1,[0],[1.0])|                0.0|(1,[0],[1.0])|                0.0|(1,[0],[1.0])|                  0.0|  (1,[0],[1.0])|               0.0|(1,[0],[1.0])|             1.0|    (1,[],[])|                   1.0|       (1,[],[])|                0.0|(1,[0],[1.0])|               0.0|(1,[0],[1.0])|                 1.0|     (1,[],[])|                 0.0| (1,[0],[1.0])|             0.0|(4,[0],[1.0])|             0.0|(4,[0],[1.0])|               1.0|(3,[1],[1.0])|                 1.0| (2,[1],[1.0])|\n",
      "|  6| yes|       yes|    yes|   yes|     yes|      no|     5|       4|    2|   1|   2|     5|      10| 15| 15| 15|    GP|  M| 16|      U|    LE3|      T|   4|   3|services|   other|reputation|  mother|         1|        2|       0|       no|   yes|               0.0|(1,[0],[1.0])|            1.0|    (1,[],[])|                0.0|(1,[0],[1.0])|                1.0|    (1,[],[])|                0.0|(1,[0],[1.0])|                  0.0|  (1,[0],[1.0])|               0.0|(1,[0],[1.0])|             1.0|    (1,[],[])|                   0.0|   (1,[0],[1.0])|                0.0|(1,[0],[1.0])|               0.0|(1,[0],[1.0])|                 0.0| (1,[0],[1.0])|                 0.0| (1,[0],[1.0])|             1.0|(4,[1],[1.0])|             0.0|(4,[0],[1.0])|               2.0|(3,[2],[1.0])|                 0.0| (2,[0],[1.0])|\n",
      "|  7|  no|        no|    yes|   yes|     yes|      no|     4|       4|    4|   1|   1|     3|       0| 12| 12| 11|    GP|  M| 16|      U|    LE3|      T|   2|   2|   other|   other|      home|  mother|         1|        2|       0|       no|    no|               0.0|(1,[0],[1.0])|            1.0|    (1,[],[])|                0.0|(1,[0],[1.0])|                1.0|    (1,[],[])|                0.0|(1,[0],[1.0])|                  0.0|  (1,[0],[1.0])|               1.0|    (1,[],[])|             0.0|(1,[0],[1.0])|                   1.0|       (1,[],[])|                0.0|(1,[0],[1.0])|               0.0|(1,[0],[1.0])|                 0.0| (1,[0],[1.0])|                 0.0| (1,[0],[1.0])|             0.0|(4,[0],[1.0])|             0.0|(4,[0],[1.0])|               1.0|(3,[1],[1.0])|                 0.0| (2,[0],[1.0])|\n",
      "|  8|  no|        no|    yes|   yes|      no|      no|     4|       1|    4|   1|   1|     1|       6|  6|  5|  6|    GP|  F| 17|      U|    GT3|      A|   4|   4|   other| teacher|      home|  mother|         2|        2|       0|      yes|   yes|               0.0|(1,[0],[1.0])|            0.0|(1,[0],[1.0])|                0.0|(1,[0],[1.0])|                0.0|(1,[0],[1.0])|                1.0|    (1,[],[])|                  1.0|      (1,[],[])|               0.0|(1,[0],[1.0])|             0.0|(1,[0],[1.0])|                   1.0|       (1,[],[])|                0.0|(1,[0],[1.0])|               0.0|(1,[0],[1.0])|                 1.0|     (1,[],[])|                 0.0| (1,[0],[1.0])|             0.0|(4,[0],[1.0])|             2.0|(4,[2],[1.0])|               1.0|(3,[1],[1.0])|                 0.0| (2,[0],[1.0])|\n",
      "| 10| yes|       yes|    yes|   yes|     yes|      no|     5|       5|    1|   1|   1|     5|       0| 14| 15| 15|    GP|  M| 15|      U|    GT3|      T|   3|   4|   other|   other|      home|  mother|         1|        2|       0|       no|   yes|               0.0|(1,[0],[1.0])|            1.0|    (1,[],[])|                0.0|(1,[0],[1.0])|                0.0|(1,[0],[1.0])|                0.0|(1,[0],[1.0])|                  0.0|  (1,[0],[1.0])|               0.0|(1,[0],[1.0])|             1.0|    (1,[],[])|                   0.0|   (1,[0],[1.0])|                0.0|(1,[0],[1.0])|               0.0|(1,[0],[1.0])|                 0.0| (1,[0],[1.0])|                 0.0| (1,[0],[1.0])|             0.0|(4,[0],[1.0])|             0.0|(4,[0],[1.0])|               1.0|(3,[1],[1.0])|                 0.0| (2,[0],[1.0])|\n",
      "| 11| yes|        no|    yes|   yes|     yes|      no|     3|       3|    3|   1|   2|     2|       0| 10|  8|  9|    GP|  F| 15|      U|    GT3|      T|   4|   4| teacher|  health|reputation|  mother|         1|        2|       0|       no|   yes|               0.0|(1,[0],[1.0])|            0.0|(1,[0],[1.0])|                0.0|(1,[0],[1.0])|                0.0|(1,[0],[1.0])|                0.0|(1,[0],[1.0])|                  0.0|  (1,[0],[1.0])|               0.0|(1,[0],[1.0])|             1.0|    (1,[],[])|                   1.0|       (1,[],[])|                0.0|(1,[0],[1.0])|               0.0|(1,[0],[1.0])|                 0.0| (1,[0],[1.0])|                 0.0| (1,[0],[1.0])|             3.0|(4,[3],[1.0])|             4.0|    (4,[],[])|               2.0|(3,[2],[1.0])|                 0.0| (2,[0],[1.0])|\n",
      "| 12|  no|       yes|    yes|   yes|     yes|      no|     5|       2|    2|   1|   1|     4|       4| 10| 12| 12|    GP|  F| 15|      U|    GT3|      T|   2|   1|services|   other|reputation|  father|         3|        3|       0|       no|   yes|               0.0|(1,[0],[1.0])|            0.0|(1,[0],[1.0])|                0.0|(1,[0],[1.0])|                0.0|(1,[0],[1.0])|                0.0|(1,[0],[1.0])|                  0.0|  (1,[0],[1.0])|               0.0|(1,[0],[1.0])|             0.0|(1,[0],[1.0])|                   0.0|   (1,[0],[1.0])|                0.0|(1,[0],[1.0])|               0.0|(1,[0],[1.0])|                 0.0| (1,[0],[1.0])|                 0.0| (1,[0],[1.0])|             1.0|(4,[1],[1.0])|             0.0|(4,[0],[1.0])|               2.0|(3,[2],[1.0])|                 1.0| (2,[1],[1.0])|\n",
      "| 13| yes|       yes|    yes|   yes|     yes|      no|     4|       3|    3|   1|   3|     5|       2| 14| 14| 14|    GP|  M| 15|      U|    LE3|      T|   4|   4|  health|services|    course|  father|         1|        1|       0|       no|   yes|               0.0|(1,[0],[1.0])|            1.0|    (1,[],[])|                0.0|(1,[0],[1.0])|                1.0|    (1,[],[])|                0.0|(1,[0],[1.0])|                  0.0|  (1,[0],[1.0])|               0.0|(1,[0],[1.0])|             1.0|    (1,[],[])|                   0.0|   (1,[0],[1.0])|                0.0|(1,[0],[1.0])|               0.0|(1,[0],[1.0])|                 0.0| (1,[0],[1.0])|                 0.0| (1,[0],[1.0])|             4.0|    (4,[],[])|             1.0|(4,[1],[1.0])|               0.0|(3,[0],[1.0])|                 1.0| (2,[1],[1.0])|\n",
      "| 14| yes|        no|    yes|   yes|     yes|      no|     5|       4|    3|   1|   2|     3|       2| 10| 10| 11|    GP|  M| 15|      U|    GT3|      T|   4|   3| teacher|   other|    course|  mother|         2|        2|       0|       no|   yes|               0.0|(1,[0],[1.0])|            1.0|    (1,[],[])|                0.0|(1,[0],[1.0])|                0.0|(1,[0],[1.0])|                0.0|(1,[0],[1.0])|                  0.0|  (1,[0],[1.0])|               0.0|(1,[0],[1.0])|             1.0|    (1,[],[])|                   1.0|       (1,[],[])|                0.0|(1,[0],[1.0])|               0.0|(1,[0],[1.0])|                 0.0| (1,[0],[1.0])|                 0.0| (1,[0],[1.0])|             3.0|(4,[3],[1.0])|             0.0|(4,[0],[1.0])|               0.0|(3,[0],[1.0])|                 0.0| (2,[0],[1.0])|\n",
      "| 15|  no|        no|    yes|   yes|     yes|     yes|     4|       5|    2|   1|   1|     3|       0| 14| 16| 16|    GP|  M| 15|      U|    GT3|      A|   2|   2|   other|   other|      home|   other|         1|        3|       0|       no|   yes|               0.0|(1,[0],[1.0])|            1.0|    (1,[],[])|                0.0|(1,[0],[1.0])|                0.0|(1,[0],[1.0])|                1.0|    (1,[],[])|                  0.0|  (1,[0],[1.0])|               0.0|(1,[0],[1.0])|             0.0|(1,[0],[1.0])|                   1.0|       (1,[],[])|                0.0|(1,[0],[1.0])|               0.0|(1,[0],[1.0])|                 0.0| (1,[0],[1.0])|                 1.0|     (1,[],[])|             0.0|(4,[0],[1.0])|             0.0|(4,[0],[1.0])|               1.0|(3,[1],[1.0])|                 2.0|     (2,[],[])|\n",
      "| 16|  no|        no|    yes|   yes|     yes|      no|     4|       4|    4|   1|   2|     2|       4| 14| 14| 14|    GP|  F| 16|      U|    GT3|      T|   4|   4|  health|   other|      home|  mother|         1|        1|       0|       no|   yes|               0.0|(1,[0],[1.0])|            0.0|(1,[0],[1.0])|                0.0|(1,[0],[1.0])|                0.0|(1,[0],[1.0])|                0.0|(1,[0],[1.0])|                  0.0|  (1,[0],[1.0])|               0.0|(1,[0],[1.0])|             0.0|(1,[0],[1.0])|                   1.0|       (1,[],[])|                0.0|(1,[0],[1.0])|               0.0|(1,[0],[1.0])|                 0.0| (1,[0],[1.0])|                 0.0| (1,[0],[1.0])|             4.0|    (4,[],[])|             0.0|(4,[0],[1.0])|               1.0|(3,[1],[1.0])|                 0.0| (2,[0],[1.0])|\n",
      "| 17| yes|       yes|    yes|   yes|     yes|      no|     3|       2|    3|   1|   2|     2|       6| 13| 14| 14|    GP|  F| 16|      U|    GT3|      T|   4|   4|services|services|reputation|  mother|         1|        3|       0|       no|   yes|               0.0|(1,[0],[1.0])|            0.0|(1,[0],[1.0])|                0.0|(1,[0],[1.0])|                0.0|(1,[0],[1.0])|                0.0|(1,[0],[1.0])|                  0.0|  (1,[0],[1.0])|               0.0|(1,[0],[1.0])|             1.0|    (1,[],[])|                   0.0|   (1,[0],[1.0])|                0.0|(1,[0],[1.0])|               0.0|(1,[0],[1.0])|                 0.0| (1,[0],[1.0])|                 0.0| (1,[0],[1.0])|             1.0|(4,[1],[1.0])|             1.0|(4,[1],[1.0])|               2.0|(3,[2],[1.0])|                 0.0| (2,[0],[1.0])|\n",
      "| 19|  no|       yes|    yes|   yes|     yes|      no|     5|       5|    5|   2|   4|     5|      16|  6|  5|  5|    GP|  M| 17|      U|    GT3|      T|   3|   2|services|services|    course|  mother|         1|        1|       3|       no|   yes|               0.0|(1,[0],[1.0])|            1.0|    (1,[],[])|                0.0|(1,[0],[1.0])|                0.0|(1,[0],[1.0])|                0.0|(1,[0],[1.0])|                  0.0|  (1,[0],[1.0])|               0.0|(1,[0],[1.0])|             0.0|(1,[0],[1.0])|                   0.0|   (1,[0],[1.0])|                0.0|(1,[0],[1.0])|               0.0|(1,[0],[1.0])|                 0.0| (1,[0],[1.0])|                 0.0| (1,[0],[1.0])|             1.0|(4,[1],[1.0])|             1.0|(4,[1],[1.0])|               0.0|(3,[0],[1.0])|                 0.0| (2,[0],[1.0])|\n",
      "| 20| yes|       yes|    yes|   yes|     yes|      no|     3|       1|    3|   1|   3|     5|       4|  8| 10| 10|    GP|  M| 16|      U|    LE3|      T|   4|   3|  health|   other|      home|  father|         1|        1|       0|       no|    no|               0.0|(1,[0],[1.0])|            1.0|    (1,[],[])|                0.0|(1,[0],[1.0])|                1.0|    (1,[],[])|                0.0|(1,[0],[1.0])|                  0.0|  (1,[0],[1.0])|               1.0|    (1,[],[])|             1.0|    (1,[],[])|                   0.0|   (1,[0],[1.0])|                0.0|(1,[0],[1.0])|               0.0|(1,[0],[1.0])|                 0.0| (1,[0],[1.0])|                 0.0| (1,[0],[1.0])|             4.0|    (4,[],[])|             0.0|(4,[0],[1.0])|               1.0|(3,[1],[1.0])|                 1.0| (2,[1],[1.0])|\n",
      "| 21|  no|        no|    yes|   yes|     yes|      no|     4|       4|    1|   1|   1|     1|       0| 13| 14| 15|    GP|  M| 15|      U|    GT3|      T|   4|   3| teacher|   other|reputation|  mother|         1|        2|       0|       no|    no|               0.0|(1,[0],[1.0])|            1.0|    (1,[],[])|                0.0|(1,[0],[1.0])|                0.0|(1,[0],[1.0])|                0.0|(1,[0],[1.0])|                  0.0|  (1,[0],[1.0])|               1.0|    (1,[],[])|             0.0|(1,[0],[1.0])|                   1.0|       (1,[],[])|                0.0|(1,[0],[1.0])|               0.0|(1,[0],[1.0])|                 0.0| (1,[0],[1.0])|                 0.0| (1,[0],[1.0])|             3.0|(4,[3],[1.0])|             0.0|(4,[0],[1.0])|               2.0|(3,[2],[1.0])|                 0.0| (2,[0],[1.0])|\n",
      "| 22| yes|        no|    yes|   yes|     yes|      no|     5|       4|    2|   1|   1|     5|       0| 12| 15| 15|    GP|  M| 15|      U|    GT3|      T|   4|   4|  health|  health|     other|  father|         1|        1|       0|       no|   yes|               0.0|(1,[0],[1.0])|            1.0|    (1,[],[])|                0.0|(1,[0],[1.0])|                0.0|(1,[0],[1.0])|                0.0|(1,[0],[1.0])|                  0.0|  (1,[0],[1.0])|               0.0|(1,[0],[1.0])|             1.0|    (1,[],[])|                   1.0|       (1,[],[])|                0.0|(1,[0],[1.0])|               0.0|(1,[0],[1.0])|                 0.0| (1,[0],[1.0])|                 0.0| (1,[0],[1.0])|             4.0|    (4,[],[])|             4.0|    (4,[],[])|               3.0|    (3,[],[])|                 1.0| (2,[1],[1.0])|\n",
      "| 23|  no|       yes|    yes|   yes|     yes|      no|     4|       5|    1|   1|   3|     5|       2| 15| 15| 16|    GP|  M| 16|      U|    LE3|      T|   4|   2| teacher|   other|    course|  mother|         1|        2|       0|       no|    no|               0.0|(1,[0],[1.0])|            1.0|    (1,[],[])|                0.0|(1,[0],[1.0])|                1.0|    (1,[],[])|                0.0|(1,[0],[1.0])|                  0.0|  (1,[0],[1.0])|               1.0|    (1,[],[])|             0.0|(1,[0],[1.0])|                   0.0|   (1,[0],[1.0])|                0.0|(1,[0],[1.0])|               0.0|(1,[0],[1.0])|                 0.0| (1,[0],[1.0])|                 0.0| (1,[0],[1.0])|             3.0|(4,[3],[1.0])|             0.0|(4,[0],[1.0])|               0.0|(3,[0],[1.0])|                 0.0| (2,[0],[1.0])|\n",
      "+---+----+----------+-------+------+--------+--------+------+--------+-----+----+----+------+--------+---+---+---+------+---+---+-------+-------+-------+----+----+--------+--------+----------+--------+----------+---------+--------+---------+------+------------------+-------------+---------------+-------------+-------------------+-------------+-------------------+-------------+-------------------+-------------+---------------------+---------------+------------------+-------------+----------------+-------------+----------------------+----------------+-------------------+-------------+------------------+-------------+--------------------+--------------+--------------------+--------------+----------------+-------------+----------------+-------------+------------------+-------------+--------------------+--------------+\n",
      "only showing top 20 rows\n",
      "\n"
     ]
    }
   ],
   "source": [
    "master_data.show()"
   ]
  },
  {
   "cell_type": "code",
   "execution_count": 105,
   "id": "f2875a47",
   "metadata": {},
   "outputs": [
    {
     "name": "stderr",
     "output_type": "stream",
     "text": [
      "                                                                                \r"
     ]
    },
    {
     "data": {
      "text/plain": [
       "DataFrame[summary: string, ID: string, paid: string, activities: string, nursery: string, higher: string, internet: string, romantic: string, famrel: string, freetime: string, goout: string, Dalc: string, Walc: string, health: string, absences: string, G1: string, G2: string, G3: string, school: string, sex: string, age: string, address: string, famsize: string, Pstatus: string, Medu: string, Fedu: string, Mjob: string, Fjob: string, reason: string, guardian: string, traveltime: string, studytime: string, failures: string, schoolsup: string, famsup: string, schoolNumericIndex: string, sexNumericIndex: string, addressNumericIndex: string, famsizeNumericIndex: string, PstatusNumericIndex: string, schoolsupNumericIndex: string, famsupNumericIndex: string, paidNumericIndex: string, activitiesNumericIndex: string, nurseryNumericIndex: string, higherNumericIndex: string, internetNumericIndex: string, romanticNumericIndex: string, MjobNumericIndex: string, FjobNumericIndex: string, reasonNumericIndex: string, guardianNumericIndex: string]"
      ]
     },
     "execution_count": 105,
     "metadata": {},
     "output_type": "execute_result"
    }
   ],
   "source": [
    "#Viewing data types to verify data types\n",
    "master_data.describe()"
   ]
  },
  {
   "cell_type": "code",
   "execution_count": 106,
   "id": "e0f887d5",
   "metadata": {},
   "outputs": [],
   "source": [
    "#updating datatypes \n",
    "from pyspark.sql.types import IntegerType\n",
    "\n",
    "column_list_to_int = (\"ID\", \"age\", \"Medu\", \"Fedu\", \"traveltime\", \"studytime\", \"failures\", \"famrel\", \"freetime\", \"goout\", \"Dalc\", \"Walc\", \"health\", \"absences\", \"G1\", \"G2\", \"G3\")\n",
    "\n",
    "for z in column_list_to_int:\n",
    "    master_data = master_data.withColumn(z, master_data[z].cast(IntegerType()))"
   ]
  },
  {
   "cell_type": "code",
   "execution_count": 107,
   "id": "f6d616de",
   "metadata": {},
   "outputs": [
    {
     "data": {
      "text/plain": [
       "[('ID', 'int'),\n",
       " ('paid', 'string'),\n",
       " ('activities', 'string'),\n",
       " ('nursery', 'string'),\n",
       " ('higher', 'string'),\n",
       " ('internet', 'string'),\n",
       " ('romantic', 'string'),\n",
       " ('famrel', 'int'),\n",
       " ('freetime', 'int'),\n",
       " ('goout', 'int'),\n",
       " ('Dalc', 'int'),\n",
       " ('Walc', 'int'),\n",
       " ('health', 'int'),\n",
       " ('absences', 'int'),\n",
       " ('G1', 'int'),\n",
       " ('G2', 'int'),\n",
       " ('G3', 'int'),\n",
       " ('school', 'string'),\n",
       " ('sex', 'string'),\n",
       " ('age', 'int'),\n",
       " ('address', 'string'),\n",
       " ('famsize', 'string'),\n",
       " ('Pstatus', 'string'),\n",
       " ('Medu', 'int'),\n",
       " ('Fedu', 'int'),\n",
       " ('Mjob', 'string'),\n",
       " ('Fjob', 'string'),\n",
       " ('reason', 'string'),\n",
       " ('guardian', 'string'),\n",
       " ('traveltime', 'int'),\n",
       " ('studytime', 'int'),\n",
       " ('failures', 'int'),\n",
       " ('schoolsup', 'string'),\n",
       " ('famsup', 'string'),\n",
       " ('schoolNumericIndex', 'double'),\n",
       " ('schoolVector', 'vector'),\n",
       " ('sexNumericIndex', 'double'),\n",
       " ('sexVector', 'vector'),\n",
       " ('addressNumericIndex', 'double'),\n",
       " ('addressVector', 'vector'),\n",
       " ('famsizeNumericIndex', 'double'),\n",
       " ('famsizeVector', 'vector'),\n",
       " ('PstatusNumericIndex', 'double'),\n",
       " ('PstatusVector', 'vector'),\n",
       " ('schoolsupNumericIndex', 'double'),\n",
       " ('schoolsupVector', 'vector'),\n",
       " ('famsupNumericIndex', 'double'),\n",
       " ('famsupVector', 'vector'),\n",
       " ('paidNumericIndex', 'double'),\n",
       " ('paidVector', 'vector'),\n",
       " ('activitiesNumericIndex', 'double'),\n",
       " ('activitiesVector', 'vector'),\n",
       " ('nurseryNumericIndex', 'double'),\n",
       " ('nurseryVector', 'vector'),\n",
       " ('higherNumericIndex', 'double'),\n",
       " ('higherVector', 'vector'),\n",
       " ('internetNumericIndex', 'double'),\n",
       " ('internetVector', 'vector'),\n",
       " ('romanticNumericIndex', 'double'),\n",
       " ('romanticVector', 'vector'),\n",
       " ('MjobNumericIndex', 'double'),\n",
       " ('MjobVector', 'vector'),\n",
       " ('FjobNumericIndex', 'double'),\n",
       " ('FjobVector', 'vector'),\n",
       " ('reasonNumericIndex', 'double'),\n",
       " ('reasonVector', 'vector'),\n",
       " ('guardianNumericIndex', 'double'),\n",
       " ('guardianVector', 'vector')]"
      ]
     },
     "execution_count": 107,
     "metadata": {},
     "output_type": "execute_result"
    }
   ],
   "source": [
    "master_data.dtypes"
   ]
  },
  {
   "cell_type": "code",
   "execution_count": 108,
   "id": "1f752d80",
   "metadata": {},
   "outputs": [],
   "source": [
    "#FINDING OUTLIERS\n",
    "\n",
    "columns_list_outliers = (\"Dalc\", \"absences\", \"studytime\", \"freetime\")\n",
    "\n",
    "bounds = {}\n",
    "for y in columns_list_outliers:\n",
    "    quantiles = master_data.approxQuantile(y,[0.25,0.75],0.05)\n",
    "    IQR= quantiles[1]-quantiles[0]\n",
    "    \n",
    "    bounds[y]= [quantiles[0] - 1.5 * IQR, quantiles[1] + 1.5 * IQR]"
   ]
  },
  {
   "cell_type": "code",
   "execution_count": 109,
   "id": "cb7bee0f",
   "metadata": {},
   "outputs": [
    {
     "data": {
      "text/plain": [
       "{'Dalc': [-0.5, 3.5],\n",
       " 'absences': [-10.5, 17.5],\n",
       " 'studytime': [-0.5, 3.5],\n",
       " 'freetime': [1.5, 5.5]}"
      ]
     },
     "execution_count": 109,
     "metadata": {},
     "output_type": "execute_result"
    }
   ],
   "source": [
    "bounds"
   ]
  },
  {
   "cell_type": "code",
   "execution_count": 110,
   "id": "15d9c6d6",
   "metadata": {},
   "outputs": [
    {
     "name": "stdout",
     "output_type": "stream",
     "text": [
      "+---+------+----------+-----------+----------+\n",
      "| ID|Dalc_o|absences_o|studytime_o|freetime_o|\n",
      "+---+------+----------+-----------+----------+\n",
      "|  2| false|     false|      false|     false|\n",
      "|  3| false|     false|      false|     false|\n",
      "|  4| false|     false|      false|     false|\n",
      "|  5| false|     false|      false|     false|\n",
      "|  6| false|     false|      false|     false|\n",
      "|  7| false|     false|      false|     false|\n",
      "|  8| false|     false|      false|      true|\n",
      "| 10| false|     false|      false|     false|\n",
      "| 11| false|     false|      false|     false|\n",
      "| 12| false|     false|      false|     false|\n",
      "| 13| false|     false|      false|     false|\n",
      "| 14| false|     false|      false|     false|\n",
      "| 15| false|     false|      false|     false|\n",
      "| 16| false|     false|      false|     false|\n",
      "| 17| false|     false|      false|     false|\n",
      "| 19| false|     false|      false|     false|\n",
      "| 20| false|     false|      false|      true|\n",
      "| 21| false|     false|      false|     false|\n",
      "| 22| false|     false|      false|     false|\n",
      "| 23| false|     false|      false|     false|\n",
      "+---+------+----------+-----------+----------+\n",
      "only showing top 20 rows\n",
      "\n"
     ]
    }
   ],
   "source": [
    "outliers = master_data.select(*[\"ID\"] + [\n",
    "    (\n",
    "        (master_data[c] < bounds[c][0]) |\n",
    "        (master_data[c] > bounds[c][1])\n",
    "    ).alias(c+'_o') for c in columns_list_outliers\n",
    "])\n",
    "outliers.show()"
   ]
  },
  {
   "cell_type": "code",
   "execution_count": 111,
   "id": "3c338096",
   "metadata": {},
   "outputs": [
    {
     "name": "stdout",
     "output_type": "stream",
     "text": [
      "+---+----+\n",
      "| ID|Dalc|\n",
      "+---+----+\n",
      "| 30|   5|\n",
      "| 55|   4|\n",
      "| 62|   5|\n",
      "| 67|   5|\n",
      "|101|   5|\n",
      "|160|   4|\n",
      "|176|   4|\n",
      "|193|   4|\n",
      "|212|   4|\n",
      "|224|   5|\n",
      "|229|   4|\n",
      "|237|   5|\n",
      "|328|   5|\n",
      "|350|   5|\n",
      "|370|   4|\n",
      "|385|   4|\n",
      "+---+----+\n",
      "\n",
      "+---+--------+\n",
      "| ID|absences|\n",
      "+---+--------+\n",
      "| 41|      25|\n",
      "| 75|      54|\n",
      "| 90|      18|\n",
      "|104|      26|\n",
      "|124|      18|\n",
      "|184|      56|\n",
      "|199|      24|\n",
      "|204|      18|\n",
      "|206|      28|\n",
      "|217|      22|\n",
      "|235|      18|\n",
      "|238|      20|\n",
      "|261|      21|\n",
      "|277|      75|\n",
      "|278|      22|\n",
      "|281|      30|\n",
      "|282|      19|\n",
      "|305|      20|\n",
      "|308|      38|\n",
      "|310|      18|\n",
      "|312|      20|\n",
      "|314|      22|\n",
      "|316|      40|\n",
      "|321|      23|\n",
      "+---+--------+\n",
      "\n",
      "+---+---------+\n",
      "| ID|studytime|\n",
      "+---+---------+\n",
      "| 48|        4|\n",
      "| 67|        4|\n",
      "| 68|        4|\n",
      "| 70|        4|\n",
      "| 71|        4|\n",
      "| 72|        4|\n",
      "| 77|        4|\n",
      "| 78|        4|\n",
      "| 95|        4|\n",
      "| 96|        4|\n",
      "| 99|    10000|\n",
      "|106|        4|\n",
      "|107|        4|\n",
      "|109|        4|\n",
      "|122|        4|\n",
      "|141|        4|\n",
      "|205|        4|\n",
      "|211|        4|\n",
      "|257|        4|\n",
      "|260|        4|\n",
      "|272|        4|\n",
      "|283|        4|\n",
      "|294|        4|\n",
      "|299|        4|\n",
      "|304|        4|\n",
      "|331|        4|\n",
      "|335|        4|\n",
      "|339|        4|\n",
      "+---+---------+\n",
      "\n",
      "+---+--------+\n",
      "| ID|freetime|\n",
      "+---+--------+\n",
      "|  8|       1|\n",
      "| 20|       1|\n",
      "| 49|    3000|\n",
      "| 69|       1|\n",
      "| 90|       1|\n",
      "| 96|       1|\n",
      "|107|       1|\n",
      "|112|       1|\n",
      "|113|       1|\n",
      "|169|       1|\n",
      "|190|       1|\n",
      "|239|       1|\n",
      "|261|       1|\n",
      "|277|       1|\n",
      "|294|       1|\n",
      "|302|       1|\n",
      "|315|       1|\n",
      "|316|       1|\n",
      "|379|       1|\n",
      "|390|       1|\n",
      "+---+--------+\n",
      "\n"
     ]
    }
   ],
   "source": [
    "master_data = master_data.join(outliers, on =\"ID\")\n",
    "master_data.filter(\"Dalc_o\").select(\"ID\", \"Dalc\").show(379)\n",
    "master_data.filter(\"absences_o\").select(\"ID\", \"absences\").show(379)\n",
    "master_data.filter(\"studytime_o\").select(\"ID\", \"studytime\").show(379)\n",
    "master_data.filter(\"freetime_o\").select(\"ID\", \"freetime\").show(379)"
   ]
  },
  {
   "cell_type": "code",
   "execution_count": 112,
   "id": "ed651836",
   "metadata": {},
   "outputs": [],
   "source": [
    "#discarding outliers\n",
    "master_data = master_data.filter((master_data.absences < 18) & (master_data.studytime < 5) & (master_data.freetime < 6))"
   ]
  },
  {
   "cell_type": "code",
   "execution_count": 113,
   "id": "a8eab6c5",
   "metadata": {},
   "outputs": [
    {
     "name": "stdout",
     "output_type": "stream",
     "text": [
      "+-------+------------------+\n",
      "|summary|                ID|\n",
      "+-------+------------------+\n",
      "|  count|               353|\n",
      "|   mean|196.07365439093485|\n",
      "| stddev| 113.8590397081199|\n",
      "|    min|                 2|\n",
      "|    max|               394|\n",
      "+-------+------------------+\n",
      "\n"
     ]
    }
   ],
   "source": [
    "master_data.select(\"ID\").describe().show()"
   ]
  },
  {
   "cell_type": "code",
   "execution_count": 114,
   "id": "5c2f3050",
   "metadata": {},
   "outputs": [
    {
     "data": {
      "text/plain": [
       "[('ID', 'int'),\n",
       " ('paid', 'string'),\n",
       " ('activities', 'string'),\n",
       " ('nursery', 'string'),\n",
       " ('higher', 'string'),\n",
       " ('internet', 'string'),\n",
       " ('romantic', 'string'),\n",
       " ('famrel', 'int'),\n",
       " ('freetime', 'int'),\n",
       " ('goout', 'int'),\n",
       " ('Dalc', 'int'),\n",
       " ('Walc', 'int'),\n",
       " ('health', 'int'),\n",
       " ('absences', 'int'),\n",
       " ('G1', 'int'),\n",
       " ('G2', 'int'),\n",
       " ('G3', 'int'),\n",
       " ('school', 'string'),\n",
       " ('sex', 'string'),\n",
       " ('age', 'int'),\n",
       " ('address', 'string'),\n",
       " ('famsize', 'string'),\n",
       " ('Pstatus', 'string'),\n",
       " ('Medu', 'int'),\n",
       " ('Fedu', 'int'),\n",
       " ('Mjob', 'string'),\n",
       " ('Fjob', 'string'),\n",
       " ('reason', 'string'),\n",
       " ('guardian', 'string'),\n",
       " ('traveltime', 'int'),\n",
       " ('studytime', 'int'),\n",
       " ('failures', 'int'),\n",
       " ('schoolsup', 'string'),\n",
       " ('famsup', 'string'),\n",
       " ('schoolNumericIndex', 'double'),\n",
       " ('schoolVector', 'vector'),\n",
       " ('sexNumericIndex', 'double'),\n",
       " ('sexVector', 'vector'),\n",
       " ('addressNumericIndex', 'double'),\n",
       " ('addressVector', 'vector'),\n",
       " ('famsizeNumericIndex', 'double'),\n",
       " ('famsizeVector', 'vector'),\n",
       " ('PstatusNumericIndex', 'double'),\n",
       " ('PstatusVector', 'vector'),\n",
       " ('schoolsupNumericIndex', 'double'),\n",
       " ('schoolsupVector', 'vector'),\n",
       " ('famsupNumericIndex', 'double'),\n",
       " ('famsupVector', 'vector'),\n",
       " ('paidNumericIndex', 'double'),\n",
       " ('paidVector', 'vector'),\n",
       " ('activitiesNumericIndex', 'double'),\n",
       " ('activitiesVector', 'vector'),\n",
       " ('nurseryNumericIndex', 'double'),\n",
       " ('nurseryVector', 'vector'),\n",
       " ('higherNumericIndex', 'double'),\n",
       " ('higherVector', 'vector'),\n",
       " ('internetNumericIndex', 'double'),\n",
       " ('internetVector', 'vector'),\n",
       " ('romanticNumericIndex', 'double'),\n",
       " ('romanticVector', 'vector'),\n",
       " ('MjobNumericIndex', 'double'),\n",
       " ('MjobVector', 'vector'),\n",
       " ('FjobNumericIndex', 'double'),\n",
       " ('FjobVector', 'vector'),\n",
       " ('reasonNumericIndex', 'double'),\n",
       " ('reasonVector', 'vector'),\n",
       " ('guardianNumericIndex', 'double'),\n",
       " ('guardianVector', 'vector'),\n",
       " ('Dalc_o', 'boolean'),\n",
       " ('absences_o', 'boolean'),\n",
       " ('studytime_o', 'boolean'),\n",
       " ('freetime_o', 'boolean')]"
      ]
     },
     "execution_count": 114,
     "metadata": {},
     "output_type": "execute_result"
    }
   ],
   "source": [
    "master_data.dtypes"
   ]
  },
  {
   "cell_type": "code",
   "execution_count": 139,
   "id": "6b95c194",
   "metadata": {},
   "outputs": [
    {
     "data": {
      "text/plain": [
       "[('ID', 'int'),\n",
       " ('paid', 'string'),\n",
       " ('activities', 'string'),\n",
       " ('nursery', 'string'),\n",
       " ('higher', 'string'),\n",
       " ('internet', 'string'),\n",
       " ('romantic', 'string'),\n",
       " ('famrel', 'int'),\n",
       " ('freetime', 'int'),\n",
       " ('goout', 'int'),\n",
       " ('Dalc', 'int'),\n",
       " ('Walc', 'int'),\n",
       " ('health', 'int'),\n",
       " ('absences', 'int'),\n",
       " ('G1', 'int'),\n",
       " ('G2', 'int'),\n",
       " ('G3', 'int'),\n",
       " ('school', 'string'),\n",
       " ('sex', 'string'),\n",
       " ('age', 'int'),\n",
       " ('address', 'string'),\n",
       " ('famsize', 'string'),\n",
       " ('Pstatus', 'string'),\n",
       " ('Medu', 'int'),\n",
       " ('Fedu', 'int'),\n",
       " ('Mjob', 'string'),\n",
       " ('Fjob', 'string'),\n",
       " ('reason', 'string'),\n",
       " ('guardian', 'string'),\n",
       " ('traveltime', 'int'),\n",
       " ('studytime', 'int'),\n",
       " ('failures', 'int'),\n",
       " ('schoolsup', 'string'),\n",
       " ('famsup', 'string'),\n",
       " ('schoolNumericIndex', 'double'),\n",
       " ('schoolVector', 'vector'),\n",
       " ('sexNumericIndex', 'double'),\n",
       " ('sexVector', 'vector'),\n",
       " ('addressNumericIndex', 'double'),\n",
       " ('addressVector', 'vector'),\n",
       " ('famsizeNumericIndex', 'double'),\n",
       " ('famsizeVector', 'vector'),\n",
       " ('PstatusNumericIndex', 'double'),\n",
       " ('PstatusVector', 'vector'),\n",
       " ('schoolsupNumericIndex', 'double'),\n",
       " ('schoolsupVector', 'vector'),\n",
       " ('famsupNumericIndex', 'double'),\n",
       " ('famsupVector', 'vector'),\n",
       " ('paidNumericIndex', 'double'),\n",
       " ('paidVector', 'vector'),\n",
       " ('activitiesNumericIndex', 'double'),\n",
       " ('activitiesVector', 'vector'),\n",
       " ('nurseryNumericIndex', 'double'),\n",
       " ('nurseryVector', 'vector'),\n",
       " ('higherNumericIndex', 'double'),\n",
       " ('higherVector', 'vector'),\n",
       " ('internetNumericIndex', 'double'),\n",
       " ('internetVector', 'vector'),\n",
       " ('romanticNumericIndex', 'double'),\n",
       " ('romanticVector', 'vector'),\n",
       " ('MjobNumericIndex', 'double'),\n",
       " ('MjobVector', 'vector'),\n",
       " ('FjobNumericIndex', 'double'),\n",
       " ('FjobVector', 'vector'),\n",
       " ('reasonNumericIndex', 'double'),\n",
       " ('reasonVector', 'vector'),\n",
       " ('guardianNumericIndex', 'double'),\n",
       " ('guardianVector', 'vector'),\n",
       " ('Dalc_o', 'boolean'),\n",
       " ('absences_o', 'boolean'),\n",
       " ('studytime_o', 'boolean'),\n",
       " ('freetime_o', 'boolean'),\n",
       " ('features', 'vector')]"
      ]
     },
     "execution_count": 139,
     "metadata": {},
     "output_type": "execute_result"
    }
   ],
   "source": [
    "#make our column list of features\n",
    "from pyspark.ml.feature import VectorAssembler\n",
    "\n",
    "features_vector_list = ('schoolVector', 'sexVector', 'addressVector', 'famsizeVector', 'PstatusVector', 'schoolsupVector', 'famsupVector', 'paidVector', 'activitiesVector', 'nurseryVector', 'higherVector', 'internetVector', 'romanticVector', 'MjobVector', 'FjobVector', 'reasonVector', 'guardianVector', 'famrel', 'freetime', 'goout', 'Dalc', 'Walc', 'health', 'absences', 'age', 'Medu', 'Fedu', 'traveltime', 'studytime', 'failures')\n",
    "assembler = VectorAssembler(inputCols = features_vector_list, outputCol = \"features\")\n",
    "\n",
    "mining_data = assembler.transform(master_data)\n",
    "mining_data.dtypes\n"
   ]
  },
  {
   "cell_type": "code",
   "execution_count": 140,
   "id": "aacbcbd3",
   "metadata": {},
   "outputs": [
    {
     "name": "stdout",
     "output_type": "stream",
     "text": [
      "ChiSqSelector output with top 10 features selected\n",
      "+---+----+----------+-------+------+--------+--------+------+--------+-----+----+----+------+--------+---+---+---+------+---+---+-------+-------+-------+----+----+--------+--------+----------+--------+----------+---------+--------+---------+------+------------------+-------------+---------------+-------------+-------------------+-------------+-------------------+-------------+-------------------+-------------+---------------------+---------------+------------------+-------------+----------------+-------------+----------------------+----------------+-------------------+-------------+------------------+-------------+--------------------+--------------+--------------------+--------------+----------------+-------------+----------------+-------------+------------------+-------------+--------------------+--------------+------+----------+-----------+----------+--------------------+--------------------+\n",
      "| ID|paid|activities|nursery|higher|internet|romantic|famrel|freetime|goout|Dalc|Walc|health|absences| G1| G2| G3|school|sex|age|address|famsize|Pstatus|Medu|Fedu|    Mjob|    Fjob|    reason|guardian|traveltime|studytime|failures|schoolsup|famsup|schoolNumericIndex| schoolVector|sexNumericIndex|    sexVector|addressNumericIndex|addressVector|famsizeNumericIndex|famsizeVector|PstatusNumericIndex|PstatusVector|schoolsupNumericIndex|schoolsupVector|famsupNumericIndex| famsupVector|paidNumericIndex|   paidVector|activitiesNumericIndex|activitiesVector|nurseryNumericIndex|nurseryVector|higherNumericIndex| higherVector|internetNumericIndex|internetVector|romanticNumericIndex|romanticVector|MjobNumericIndex|   MjobVector|FjobNumericIndex|   FjobVector|reasonNumericIndex| reasonVector|guardianNumericIndex|guardianVector|Dalc_o|absences_o|studytime_o|freetime_o|            features|    selectedFeatures|\n",
      "+---+----+----------+-------+------+--------+--------+------+--------+-----+----+----+------+--------+---+---+---+------+---+---+-------+-------+-------+----+----+--------+--------+----------+--------+----------+---------+--------+---------+------+------------------+-------------+---------------+-------------+-------------------+-------------+-------------------+-------------+-------------------+-------------+---------------------+---------------+------------------+-------------+----------------+-------------+----------------------+----------------+-------------------+-------------+------------------+-------------+--------------------+--------------+--------------------+--------------+----------------+-------------+----------------+-------------+------------------+-------------+--------------------+--------------+------+----------+-----------+----------+--------------------+--------------------+\n",
      "|148| yes|        no|     no|   yes|     yes|      no|     4|       3|    2|   1|   1|     5|       2| 10| 11| 11|    GP|  F| 15|      U|    GT3|      T|   1|   2| at_home|   other|    course|  mother|         1|        2|       0|       no|   yes|               0.0|(1,[0],[1.0])|            0.0|(1,[0],[1.0])|                0.0|(1,[0],[1.0])|                0.0|(1,[0],[1.0])|                0.0|(1,[0],[1.0])|                  0.0|  (1,[0],[1.0])|               0.0|(1,[0],[1.0])|             1.0|    (1,[],[])|                   1.0|       (1,[],[])|                1.0|    (1,[],[])|               0.0|(1,[0],[1.0])|                 0.0| (1,[0],[1.0])|                 0.0| (1,[0],[1.0])|             2.0|(4,[2],[1.0])|             0.0|(4,[0],[1.0])|               0.0|(3,[0],[1.0])|                 0.0| (2,[0],[1.0])| false|     false|      false|     false|[1.0,1.0,1.0,1.0,...|[1.0,1.0,0.0,1.0,...|\n",
      "|243|  no|       yes|     no|   yes|     yes|      no|     5|       4|    5|   1|   1|     3|       0|  6|  0|  0|    GP|  M| 16|      U|    LE3|      T|   4|   3| teacher|   other|    course|  mother|         1|        1|       0|       no|    no|               0.0|(1,[0],[1.0])|            1.0|    (1,[],[])|                0.0|(1,[0],[1.0])|                1.0|    (1,[],[])|                0.0|(1,[0],[1.0])|                  0.0|  (1,[0],[1.0])|               1.0|    (1,[],[])|             0.0|(1,[0],[1.0])|                   0.0|   (1,[0],[1.0])|                1.0|    (1,[],[])|               0.0|(1,[0],[1.0])|                 0.0| (1,[0],[1.0])|                 0.0| (1,[0],[1.0])|             3.0|(4,[3],[1.0])|             0.0|(4,[0],[1.0])|               0.0|(3,[0],[1.0])|                 0.0| (2,[0],[1.0])| false|     false|      false|     false|(39,[0,2,4,5,7,8,...|(10,[0,1,2,3,8],[...|\n",
      "|392|  no|        no|     no|   yes|     yes|      no|     2|       4|    5|   3|   4|     2|       3| 14| 16| 16|    MS|  M| 17|      U|    LE3|      T|   3|   1|services|services|    course|  mother|         2|        1|       0|       no|    no|               1.0|    (1,[],[])|            1.0|    (1,[],[])|                0.0|(1,[0],[1.0])|                1.0|    (1,[],[])|                0.0|(1,[0],[1.0])|                  0.0|  (1,[0],[1.0])|               1.0|    (1,[],[])|             0.0|(1,[0],[1.0])|                   1.0|       (1,[],[])|                1.0|    (1,[],[])|               0.0|(1,[0],[1.0])|                 0.0| (1,[0],[1.0])|                 0.0| (1,[0],[1.0])|             1.0|(4,[1],[1.0])|             1.0|(4,[1],[1.0])|               0.0|(3,[0],[1.0])|                 0.0| (2,[0],[1.0])| false|     false|      false|     false|(39,[2,4,5,7,10,1...|(10,[0,1,2,3,4,7,...|\n",
      "| 31| yes|        no|     no|   yes|     yes|      no|     5|       4|    2|   3|   4|     5|       0|  9| 11| 12|    GP|  M| 15|      U|    GT3|      T|   4|   4|  health|services|      home|  mother|         1|        2|       0|       no|   yes|               0.0|(1,[0],[1.0])|            1.0|    (1,[],[])|                0.0|(1,[0],[1.0])|                0.0|(1,[0],[1.0])|                0.0|(1,[0],[1.0])|                  0.0|  (1,[0],[1.0])|               0.0|(1,[0],[1.0])|             1.0|    (1,[],[])|                   1.0|       (1,[],[])|                1.0|    (1,[],[])|               0.0|(1,[0],[1.0])|                 0.0| (1,[0],[1.0])|                 0.0| (1,[0],[1.0])|             4.0|    (4,[],[])|             1.0|(4,[1],[1.0])|               1.0|(3,[1],[1.0])|                 0.0| (2,[0],[1.0])| false|     false|      false|     false|(39,[0,2,3,4,5,6,...|(10,[0,1,3,8],[1....|\n",
      "| 85|  no|       yes|     no|   yes|     yes|      no|     4|       3|    2|   2|   3|     4|       2|  9| 10| 10|    GP|  F| 15|      U|    GT3|      T|   1|   1|   other|   other|      home|  father|         1|        2|       0|       no|   yes|               0.0|(1,[0],[1.0])|            0.0|(1,[0],[1.0])|                0.0|(1,[0],[1.0])|                0.0|(1,[0],[1.0])|                0.0|(1,[0],[1.0])|                  0.0|  (1,[0],[1.0])|               0.0|(1,[0],[1.0])|             0.0|(1,[0],[1.0])|                   0.0|   (1,[0],[1.0])|                1.0|    (1,[],[])|               0.0|(1,[0],[1.0])|                 0.0| (1,[0],[1.0])|                 0.0| (1,[0],[1.0])|             0.0|(4,[0],[1.0])|             0.0|(4,[0],[1.0])|               1.0|(3,[1],[1.0])|                 1.0| (2,[1],[1.0])| false|     false|      false|     false|[1.0,1.0,1.0,1.0,...|[1.0,1.0,1.0,1.0,...|\n",
      "|137|  no|        no|    yes|   yes|      no|      no|     5|       4|    5|   2|   4|     5|       0| 10|  0|  0|    GP|  M| 17|      R|    GT3|      T|   3|   4| at_home|   other|    course|  mother|         3|        2|       0|       no|    no|               0.0|(1,[0],[1.0])|            1.0|    (1,[],[])|                1.0|    (1,[],[])|                0.0|(1,[0],[1.0])|                0.0|(1,[0],[1.0])|                  0.0|  (1,[0],[1.0])|               1.0|    (1,[],[])|             0.0|(1,[0],[1.0])|                   1.0|       (1,[],[])|                0.0|(1,[0],[1.0])|               0.0|(1,[0],[1.0])|                 1.0|     (1,[],[])|                 0.0| (1,[0],[1.0])|             2.0|(4,[2],[1.0])|             0.0|(4,[0],[1.0])|               0.0|(3,[0],[1.0])|                 0.0| (2,[0],[1.0])| false|     false|      false|     false|(39,[0,3,4,5,7,9,...|(10,[1,2,3,5,8],[...|\n",
      "|251|  no|        no|    yes|    no|     yes|      no|     4|       4|    5|   2|   4|     5|       0|  6|  8|  8|    GP|  M| 18|      U|    GT3|      T|   3|   2|services|   other|    course|  mother|         2|        1|       1|       no|    no|               0.0|(1,[0],[1.0])|            1.0|    (1,[],[])|                0.0|(1,[0],[1.0])|                0.0|(1,[0],[1.0])|                0.0|(1,[0],[1.0])|                  0.0|  (1,[0],[1.0])|               1.0|    (1,[],[])|             0.0|(1,[0],[1.0])|                   1.0|       (1,[],[])|                0.0|(1,[0],[1.0])|               1.0|    (1,[],[])|                 0.0| (1,[0],[1.0])|                 0.0| (1,[0],[1.0])|             1.0|(4,[1],[1.0])|             0.0|(4,[0],[1.0])|               0.0|(3,[0],[1.0])|                 0.0| (2,[0],[1.0])| false|     false|      false|     false|[1.0,0.0,1.0,1.0,...|[1.0,1.0,1.0,1.0,...|\n",
      "| 65|  no|       yes|    yes|   yes|     yes|     yes|     4|       4|    4|   2|   4|     2|       0| 10| 10| 10|    GP|  F| 15|      U|    LE3|      T|   4|   3|services|services|reputation|  father|         1|        2|       0|      yes|    no|               0.0|(1,[0],[1.0])|            0.0|(1,[0],[1.0])|                0.0|(1,[0],[1.0])|                1.0|    (1,[],[])|                0.0|(1,[0],[1.0])|                  1.0|      (1,[],[])|               1.0|    (1,[],[])|             0.0|(1,[0],[1.0])|                   0.0|   (1,[0],[1.0])|                0.0|(1,[0],[1.0])|               0.0|(1,[0],[1.0])|                 0.0| (1,[0],[1.0])|                 1.0|     (1,[],[])|             1.0|(4,[1],[1.0])|             1.0|(4,[1],[1.0])|               2.0|(3,[2],[1.0])|                 1.0| (2,[1],[1.0])| false|     false|      false|     false|(39,[0,1,2,4,7,8,...|(10,[0,2,4,8],[1....|\n",
      "| 53|  no|        no|    yes|   yes|      no|      no|     5|       5|    5|   3|   4|     5|       6| 11| 11| 10|    GP|  M| 15|      U|    LE3|      A|   4|   2|  health|  health|     other|  father|         2|        1|       1|       no|    no|               0.0|(1,[0],[1.0])|            1.0|    (1,[],[])|                0.0|(1,[0],[1.0])|                1.0|    (1,[],[])|                1.0|    (1,[],[])|                  0.0|  (1,[0],[1.0])|               1.0|    (1,[],[])|             0.0|(1,[0],[1.0])|                   1.0|       (1,[],[])|                0.0|(1,[0],[1.0])|               0.0|(1,[0],[1.0])|                 1.0|     (1,[],[])|                 0.0| (1,[0],[1.0])|             4.0|    (4,[],[])|             4.0|    (4,[],[])|               3.0|    (3,[],[])|                 1.0| (2,[1],[1.0])| false|     false|      false|     false|(39,[0,2,5,7,9,10...|(10,[0,1,2,3,7,8,...|\n",
      "|255|  no|        no|     no|   yes|     yes|      no|     4|       4|    2|   2|   4|     5|       0|  8| 12| 12|    GP|  M| 17|      R|    GT3|      T|   2|   1|   other|   other|    course|  mother|         1|        1|       0|       no|    no|               0.0|(1,[0],[1.0])|            1.0|    (1,[],[])|                1.0|    (1,[],[])|                0.0|(1,[0],[1.0])|                0.0|(1,[0],[1.0])|                  0.0|  (1,[0],[1.0])|               1.0|    (1,[],[])|             0.0|(1,[0],[1.0])|                   1.0|       (1,[],[])|                1.0|    (1,[],[])|               0.0|(1,[0],[1.0])|                 0.0| (1,[0],[1.0])|                 0.0| (1,[0],[1.0])|             0.0|(4,[0],[1.0])|             0.0|(4,[0],[1.0])|               0.0|(3,[0],[1.0])|                 0.0| (2,[0],[1.0])| false|     false|      false|     false|(39,[0,3,4,5,7,10...|(10,[1,2,3,8],[1....|\n",
      "|133|  no|        no|    yes|   yes|     yes|     yes|     3|       4|    4|   1|   3|     5|      12| 10| 13| 12|    GP|  F| 17|      U|    LE3|      T|   2|   2|   other|   other|    course|  father|         1|        1|       0|       no|   yes|               0.0|(1,[0],[1.0])|            0.0|(1,[0],[1.0])|                0.0|(1,[0],[1.0])|                1.0|    (1,[],[])|                0.0|(1,[0],[1.0])|                  0.0|  (1,[0],[1.0])|               0.0|(1,[0],[1.0])|             0.0|(1,[0],[1.0])|                   1.0|       (1,[],[])|                0.0|(1,[0],[1.0])|               0.0|(1,[0],[1.0])|                 0.0| (1,[0],[1.0])|                 1.0|     (1,[],[])|             0.0|(4,[0],[1.0])|             0.0|(4,[0],[1.0])|               0.0|(3,[0],[1.0])|                 1.0| (2,[1],[1.0])| false|     false|      false|     false|[1.0,1.0,1.0,0.0,...|[1.0,1.0,1.0,0.0,...|\n",
      "|296| yes|        no|    yes|   yes|     yes|      no|     4|       4|    3|   1|   3|     5|       4| 14| 12| 11|    GP|  M| 17|      U|    GT3|      T|   3|   3|  health|   other|      home|  mother|         1|        1|       0|       no|   yes|               0.0|(1,[0],[1.0])|            1.0|    (1,[],[])|                0.0|(1,[0],[1.0])|                0.0|(1,[0],[1.0])|                0.0|(1,[0],[1.0])|                  0.0|  (1,[0],[1.0])|               0.0|(1,[0],[1.0])|             1.0|    (1,[],[])|                   1.0|       (1,[],[])|                0.0|(1,[0],[1.0])|               0.0|(1,[0],[1.0])|                 0.0| (1,[0],[1.0])|                 0.0| (1,[0],[1.0])|             4.0|    (4,[],[])|             0.0|(4,[0],[1.0])|               1.0|(3,[1],[1.0])|                 0.0| (2,[0],[1.0])| false|     false|      false|     false|[1.0,0.0,1.0,1.0,...|[1.0,1.0,0.0,1.0,...|\n",
      "| 78| yes|        no|    yes|   yes|     yes|     yes|     5|       2|    3|   1|   3|     3|       0| 11| 11| 11|    GP|  F| 16|      U|    GT3|      T|   2|   2|   other|   other|reputation|  mother|         1|        4|       0|       no|    no|               0.0|(1,[0],[1.0])|            0.0|(1,[0],[1.0])|                0.0|(1,[0],[1.0])|                0.0|(1,[0],[1.0])|                0.0|(1,[0],[1.0])|                  0.0|  (1,[0],[1.0])|               1.0|    (1,[],[])|             1.0|    (1,[],[])|                   1.0|       (1,[],[])|                0.0|(1,[0],[1.0])|               0.0|(1,[0],[1.0])|                 0.0| (1,[0],[1.0])|                 1.0|     (1,[],[])|             0.0|(4,[0],[1.0])|             0.0|(4,[0],[1.0])|               2.0|(3,[2],[1.0])|                 0.0| (2,[0],[1.0])| false|     false|       true|     false|(39,[0,1,2,3,4,5,...|(10,[0,1,8],[1.0,...|\n",
      "|322|  no|        no|    yes|   yes|      no|     yes|     4|       2|    2|   1|   1|     3|      12| 11|  9|  9|    GP|  F| 17|      U|    GT3|      T|   2|   2|   other|   other|    course|  mother|         1|        2|       0|       no|   yes|               0.0|(1,[0],[1.0])|            0.0|(1,[0],[1.0])|                0.0|(1,[0],[1.0])|                0.0|(1,[0],[1.0])|                0.0|(1,[0],[1.0])|                  0.0|  (1,[0],[1.0])|               0.0|(1,[0],[1.0])|             0.0|(1,[0],[1.0])|                   1.0|       (1,[],[])|                0.0|(1,[0],[1.0])|               0.0|(1,[0],[1.0])|                 1.0|     (1,[],[])|                 1.0|     (1,[],[])|             0.0|(4,[0],[1.0])|             0.0|(4,[0],[1.0])|               0.0|(3,[0],[1.0])|                 0.0| (2,[0],[1.0])| false|     false|      false|     false|[1.0,1.0,1.0,1.0,...|[1.0,1.0,1.0,0.0,...|\n",
      "|362|  no|       yes|     no|    no|      no|      no|     4|       4|    3|   2|   3|     5|       2| 13| 12| 12|    MS|  M| 18|      R|    LE3|      T|   1|   1| at_home|   other|     other|  mother|         2|        2|       1|       no|    no|               1.0|    (1,[],[])|            1.0|    (1,[],[])|                1.0|    (1,[],[])|                1.0|    (1,[],[])|                0.0|(1,[0],[1.0])|                  0.0|  (1,[0],[1.0])|               1.0|    (1,[],[])|             0.0|(1,[0],[1.0])|                   0.0|   (1,[0],[1.0])|                1.0|    (1,[],[])|               1.0|    (1,[],[])|                 1.0|     (1,[],[])|                 0.0| (1,[0],[1.0])|             2.0|(4,[2],[1.0])|             0.0|(4,[0],[1.0])|               3.0|    (3,[],[])|                 0.0| (2,[0],[1.0])| false|     false|      false|     false|(39,[4,5,7,8,12,1...|(10,[1,2,3,5,7,8,...|\n",
      "|375|  no|        no|    yes|   yes|     yes|      no|     5|       4|    4|   1|   1|     1|       0| 19| 18| 19|    MS|  F| 18|      R|    LE3|      T|   4|   4|   other|   other|reputation|  mother|         2|        3|       0|       no|    no|               1.0|    (1,[],[])|            0.0|(1,[0],[1.0])|                1.0|    (1,[],[])|                1.0|    (1,[],[])|                0.0|(1,[0],[1.0])|                  0.0|  (1,[0],[1.0])|               1.0|    (1,[],[])|             0.0|(1,[0],[1.0])|                   1.0|       (1,[],[])|                0.0|(1,[0],[1.0])|               0.0|(1,[0],[1.0])|                 0.0| (1,[0],[1.0])|                 0.0| (1,[0],[1.0])|             0.0|(4,[0],[1.0])|             0.0|(4,[0],[1.0])|               2.0|(3,[2],[1.0])|                 0.0| (2,[0],[1.0])| false|     false|      false|     false|(39,[1,4,5,7,9,10...|(10,[1,2,3,8],[1....|\n",
      "|108|  no|       yes|    yes|   yes|     yes|      no|     5|       3|    3|   1|   1|     5|       2| 16| 18| 18|    GP|  M| 16|      U|    GT3|      T|   3|   3|services|   other|      home|  father|         1|        3|       0|       no|   yes|               0.0|(1,[0],[1.0])|            1.0|    (1,[],[])|                0.0|(1,[0],[1.0])|                0.0|(1,[0],[1.0])|                0.0|(1,[0],[1.0])|                  0.0|  (1,[0],[1.0])|               0.0|(1,[0],[1.0])|             0.0|(1,[0],[1.0])|                   0.0|   (1,[0],[1.0])|                0.0|(1,[0],[1.0])|               0.0|(1,[0],[1.0])|                 0.0| (1,[0],[1.0])|                 0.0| (1,[0],[1.0])|             1.0|(4,[1],[1.0])|             0.0|(4,[0],[1.0])|               1.0|(3,[1],[1.0])|                 1.0| (2,[1],[1.0])| false|     false|      false|     false|[1.0,0.0,1.0,1.0,...|[1.0,1.0,1.0,1.0,...|\n",
      "|155|  no|        no|    yes|   yes|      no|     yes|     4|       2|    1|   1|   1|     4|       0| 11| 11| 12|    GP|  F| 17|      U|    GT3|      T|   4|   4|   other| teacher|    course|  mother|         1|        1|       0|      yes|   yes|               0.0|(1,[0],[1.0])|            0.0|(1,[0],[1.0])|                0.0|(1,[0],[1.0])|                0.0|(1,[0],[1.0])|                0.0|(1,[0],[1.0])|                  1.0|      (1,[],[])|               0.0|(1,[0],[1.0])|             0.0|(1,[0],[1.0])|                   1.0|       (1,[],[])|                0.0|(1,[0],[1.0])|               0.0|(1,[0],[1.0])|                 1.0|     (1,[],[])|                 1.0|     (1,[],[])|             0.0|(4,[0],[1.0])|             2.0|(4,[2],[1.0])|               0.0|(3,[0],[1.0])|                 0.0| (2,[0],[1.0])| false|     false|      false|     false|(39,[0,1,2,3,4,6,...|(10,[0,2,6,8],[1....|\n",
      "| 34|  no|       yes|     no|   yes|     yes|      no|     5|       3|    2|   1|   1|     2|       0|  8| 10| 12|    GP|  M| 15|      U|    LE3|      T|   3|   3|   other|   other|    course|  mother|         1|        2|       0|       no|    no|               0.0|(1,[0],[1.0])|            1.0|    (1,[],[])|                0.0|(1,[0],[1.0])|                1.0|    (1,[],[])|                0.0|(1,[0],[1.0])|                  0.0|  (1,[0],[1.0])|               1.0|    (1,[],[])|             0.0|(1,[0],[1.0])|                   0.0|   (1,[0],[1.0])|                1.0|    (1,[],[])|               0.0|(1,[0],[1.0])|                 0.0| (1,[0],[1.0])|                 0.0| (1,[0],[1.0])|             0.0|(4,[0],[1.0])|             0.0|(4,[0],[1.0])|               0.0|(3,[0],[1.0])|                 0.0| (2,[0],[1.0])| false|     false|      false|     false|(39,[0,2,4,5,7,8,...|(10,[0,1,2,3,8],[...|\n",
      "|193| yes|       yes|     no|   yes|     yes|      no|     4|       4|    4|   4|   5|     5|      12|  7|  8|  8|    GP|  M| 17|      U|    GT3|      T|   1|   2| at_home|services|     other|   other|         2|        2|       0|       no|    no|               0.0|(1,[0],[1.0])|            1.0|    (1,[],[])|                0.0|(1,[0],[1.0])|                0.0|(1,[0],[1.0])|                0.0|(1,[0],[1.0])|                  0.0|  (1,[0],[1.0])|               1.0|    (1,[],[])|             1.0|    (1,[],[])|                   0.0|   (1,[0],[1.0])|                1.0|    (1,[],[])|               0.0|(1,[0],[1.0])|                 0.0| (1,[0],[1.0])|                 0.0| (1,[0],[1.0])|             2.0|(4,[2],[1.0])|             1.0|(4,[1],[1.0])|               3.0|    (3,[],[])|                 2.0|     (2,[],[])|  true|     false|      false|     false|(39,[0,2,3,4,5,8,...|(10,[0,1,3,5,7,8]...|\n",
      "+---+----+----------+-------+------+--------+--------+------+--------+-----+----+----+------+--------+---+---+---+------+---+---+-------+-------+-------+----+----+--------+--------+----------+--------+----------+---------+--------+---------+------+------------------+-------------+---------------+-------------+-------------------+-------------+-------------------+-------------+-------------------+-------------+---------------------+---------------+------------------+-------------+----------------+-------------+----------------------+----------------+-------------------+-------------+------------------+-------------+--------------------+--------------+--------------------+--------------+----------------+-------------+----------------+-------------+------------------+-------------+--------------------+--------------+------+----------+-----------+----------+--------------------+--------------------+\n",
      "only showing top 20 rows\n",
      "\n"
     ]
    }
   ],
   "source": [
    "from pyspark.ml.feature import ChiSqSelector\n",
    "\n",
    "selector = ChiSqSelector(numTopFeatures=10, featuresCol=\"features\",\n",
    "                         outputCol=\"selectedFeatures\", labelCol=\"G3\")\n",
    "\n",
    "result_df = selector.fit(mining_data).transform(mining_data)\n",
    "\n",
    "print(\"ChiSqSelector output with top %d features selected\" % selector.getNumTopFeatures())\n",
    "result_df.show()"
   ]
  },
  {
   "cell_type": "code",
   "execution_count": 141,
   "id": "44c7fe9f",
   "metadata": {},
   "outputs": [
    {
     "name": "stdout",
     "output_type": "stream",
     "text": [
      "+--------------------+\n",
      "|    selectedFeatures|\n",
      "+--------------------+\n",
      "|[1.0,1.0,1.0,1.0,...|\n",
      "|(10,[0,3,5,7,8,9]...|\n",
      "|[1.0,1.0,0.0,0.0,...|\n",
      "|[1.0,1.0,0.0,1.0,...|\n",
      "|[1.0,1.0,0.0,1.0,...|\n",
      "|(10,[0,1,2,3,8],[...|\n",
      "|[1.0,0.0,1.0,1.0,...|\n",
      "|[1.0,1.0,0.0,1.0,...|\n",
      "|[1.0,1.0,0.0,1.0,...|\n",
      "|[1.0,1.0,1.0,1.0,...|\n",
      "|[1.0,1.0,0.0,1.0,...|\n",
      "|[1.0,1.0,0.0,1.0,...|\n",
      "|(10,[0,1,2,8],[1....|\n",
      "|[1.0,1.0,1.0,1.0,...|\n",
      "|[1.0,1.0,0.0,1.0,...|\n",
      "|[1.0,1.0,1.0,1.0,...|\n",
      "|(10,[0,1,3,7,8],[...|\n",
      "|[1.0,1.0,1.0,1.0,...|\n",
      "|(10,[0,1,3,8],[1....|\n",
      "|[1.0,1.0,1.0,1.0,...|\n",
      "+--------------------+\n",
      "only showing top 20 rows\n",
      "\n"
     ]
    }
   ],
   "source": [
    "result_df.select(\"selectedFeatures\").show()"
   ]
  },
  {
   "cell_type": "code",
   "execution_count": 142,
   "id": "21fde2cd",
   "metadata": {},
   "outputs": [
    {
     "ename": "AttributeError",
     "evalue": "'DataFrame' object has no attribute 'pValues'",
     "output_type": "error",
     "traceback": [
      "\u001b[0;31m---------------------------------------------------------------------------\u001b[0m",
      "\u001b[0;31mAttributeError\u001b[0m                            Traceback (most recent call last)",
      "Input \u001b[0;32mIn [142]\u001b[0m, in \u001b[0;36m<cell line: 15>\u001b[0;34m()\u001b[0m\n\u001b[1;32m     12\u001b[0m row \u001b[38;5;241m=\u001b[39m chiSqResult\u001b[38;5;241m.\u001b[39morderBy(\u001b[38;5;124m\"\u001b[39m\u001b[38;5;124mfeatureIndex\u001b[39m\u001b[38;5;124m\"\u001b[39m)\u001b[38;5;241m.\u001b[39mcollect()\n\u001b[1;32m     13\u001b[0m row[\u001b[38;5;241m0\u001b[39m]\u001b[38;5;241m.\u001b[39mstatistic\n\u001b[0;32m---> 15\u001b[0m \u001b[38;5;28mprint\u001b[39m(\u001b[38;5;124m\"\u001b[39m\u001b[38;5;124mpredictor_values: \u001b[39m\u001b[38;5;124m\"\u001b[39m \u001b[38;5;241m+\u001b[39m \u001b[38;5;28mstr\u001b[39m(\u001b[43mchiSqResult\u001b[49m\u001b[38;5;241;43m.\u001b[39;49m\u001b[43mpValues\u001b[49m))\n",
      "File \u001b[0;32m~/spark-3.2.1-bin-hadoop2.7/python/pyspark/sql/dataframe.py:1659\u001b[0m, in \u001b[0;36mDataFrame.__getattr__\u001b[0;34m(self, name)\u001b[0m\n\u001b[1;32m   1649\u001b[0m \u001b[38;5;124;03m\"\"\"Returns the :class:`Column` denoted by ``name``.\u001b[39;00m\n\u001b[1;32m   1650\u001b[0m \n\u001b[1;32m   1651\u001b[0m \u001b[38;5;124;03m.. versionadded:: 1.3.0\u001b[39;00m\n\u001b[0;32m   (...)\u001b[0m\n\u001b[1;32m   1656\u001b[0m \u001b[38;5;124;03m[Row(age=2), Row(age=5)]\u001b[39;00m\n\u001b[1;32m   1657\u001b[0m \u001b[38;5;124;03m\"\"\"\u001b[39;00m\n\u001b[1;32m   1658\u001b[0m \u001b[38;5;28;01mif\u001b[39;00m name \u001b[38;5;129;01mnot\u001b[39;00m \u001b[38;5;129;01min\u001b[39;00m \u001b[38;5;28mself\u001b[39m\u001b[38;5;241m.\u001b[39mcolumns:\n\u001b[0;32m-> 1659\u001b[0m     \u001b[38;5;28;01mraise\u001b[39;00m \u001b[38;5;167;01mAttributeError\u001b[39;00m(\n\u001b[1;32m   1660\u001b[0m         \u001b[38;5;124m\"\u001b[39m\u001b[38;5;124m'\u001b[39m\u001b[38;5;132;01m%s\u001b[39;00m\u001b[38;5;124m'\u001b[39m\u001b[38;5;124m object has no attribute \u001b[39m\u001b[38;5;124m'\u001b[39m\u001b[38;5;132;01m%s\u001b[39;00m\u001b[38;5;124m'\u001b[39m\u001b[38;5;124m\"\u001b[39m \u001b[38;5;241m%\u001b[39m (\u001b[38;5;28mself\u001b[39m\u001b[38;5;241m.\u001b[39m\u001b[38;5;18m__class__\u001b[39m\u001b[38;5;241m.\u001b[39m\u001b[38;5;18m__name__\u001b[39m, name))\n\u001b[1;32m   1661\u001b[0m jc \u001b[38;5;241m=\u001b[39m \u001b[38;5;28mself\u001b[39m\u001b[38;5;241m.\u001b[39m_jdf\u001b[38;5;241m.\u001b[39mapply(name)\n\u001b[1;32m   1662\u001b[0m \u001b[38;5;28;01mreturn\u001b[39;00m Column(jc)\n",
      "\u001b[0;31mAttributeError\u001b[0m: 'DataFrame' object has no attribute 'pValues'"
     ]
    }
   ],
   "source": [
    "from pyspark.ml.linalg import Vectors\n",
    "from pyspark.ml.stat import ChiSquareTest\n",
    "dataset = [[0, Vectors.dense([0, 0, 1])],\n",
    "           [0, Vectors.dense([1, 0, 1])],\n",
    "           [1, Vectors.dense([2, 1, 1])],\n",
    "           [1, Vectors.dense([3, 1, 1])]]\n",
    "dataset = spark.createDataFrame(dataset, [\"label\", \"features\"])\n",
    "chiSqResult = ChiSquareTest.test(dataset, 'features', 'label')\n",
    "chiSqResult.select(\"degreesOfFreedom\").collect()[0]\n",
    "\n",
    "chiSqResult = ChiSquareTest.test(dataset, 'features', 'label', True)\n",
    "row = chiSqResult.orderBy(\"featureIndex\").collect()\n",
    "row[0].statistic\n",
    "\n",
    "print(\"predictor_values: \" + str(chiSqResult.pValues))\n"
   ]
  },
  {
   "cell_type": "code",
   "execution_count": null,
   "id": "bca6c848",
   "metadata": {},
   "outputs": [],
   "source": []
  }
 ],
 "metadata": {
  "kernelspec": {
   "display_name": "Python 3 (ipykernel)",
   "language": "python",
   "name": "python3"
  },
  "language_info": {
   "codemirror_mode": {
    "name": "ipython",
    "version": 3
   },
   "file_extension": ".py",
   "mimetype": "text/x-python",
   "name": "python",
   "nbconvert_exporter": "python",
   "pygments_lexer": "ipython3",
   "version": "3.10.4"
  }
 },
 "nbformat": 4,
 "nbformat_minor": 5
}
