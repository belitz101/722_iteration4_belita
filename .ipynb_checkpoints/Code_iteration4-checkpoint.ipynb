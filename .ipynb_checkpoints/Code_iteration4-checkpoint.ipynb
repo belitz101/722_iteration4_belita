{
 "cells": [
  {
   "cell_type": "code",
   "execution_count": 2,
   "id": "7c461989",
   "metadata": {},
   "outputs": [],
   "source": [
    "#Importing libraries\n",
    "import findspark\n",
    "findspark.init('/home/ubuntu/spark-3.2.1-bin-hadoop2.7')\n",
    "import pyspark\n",
    "from pyspark.sql import SparkSession\n",
    "spark = SparkSession.builder.appName('student_success_analysis').getOrCreate()"
   ]
  },
  {
   "cell_type": "code",
   "execution_count": 3,
   "id": "dd5f8c0a",
   "metadata": {},
   "outputs": [
    {
     "name": "stderr",
     "output_type": "stream",
     "text": [
      "                                                                                \r"
     ]
    }
   ],
   "source": [
    "#Reading and loading the first dataset\n",
    "df1 = spark.read.load('student_data_second_part_tampered.csv', format = 'csv', header = 'true')"
   ]
  },
  {
   "cell_type": "code",
   "execution_count": 4,
   "id": "d8caf264",
   "metadata": {},
   "outputs": [],
   "source": [
    "#Reading and loading the second dataset\n",
    "df2 = spark.read.load('student_data_tampered.csv', format = 'csv', header = 'true')"
   ]
  },
  {
   "cell_type": "code",
   "execution_count": 5,
   "id": "9393593b",
   "metadata": {},
   "outputs": [
    {
     "name": "stdout",
     "output_type": "stream",
     "text": [
      "+---+----+----------+-------+------+--------+--------+------+--------+-----+----+----+------+--------+----+----+---+\n",
      "| ID|paid|activities|nursery|higher|internet|romantic|famrel|freetime|goout|Dalc|Walc|health|absences|  G1|  G2| G3|\n",
      "+---+----+----------+-------+------+--------+--------+------+--------+-----+----+----+------+--------+----+----+---+\n",
      "|  1|  no|        no|    yes|   yes|      no|      no|     4|       3|    4|   1|   1|     3|       6|null|   6|  6|\n",
      "|  2|  no|        no|     no|   yes|     yes|      no|     5|       3|    3|   1|   1|     3|       4|   5|   5|  6|\n",
      "|  3| yes|        no|    yes|   yes|     yes|      no|     4|       3|    2|   2|   3|     3|      10|   7|   8| 10|\n",
      "|  4| yes|       yes|    yes|   yes|     yes|     yes|     3|       2|    2|   1|   1|     5|       2|  15|  14| 15|\n",
      "|  5| yes|        no|    yes|   yes|      no|      no|     4|       3|    2|   1|   2|     5|       4|   6|  10| 10|\n",
      "|  6| yes|       yes|    yes|   yes|     yes|      no|     5|       4|    2|   1|   2|     5|      10|  15|  15| 15|\n",
      "|  7|  no|        no|    yes|   yes|     yes|      no|     4|       4|    4|   1|   1|     3|       0|  12|  12| 11|\n",
      "|  8|  no|        no|    yes|   yes|      no|      no|     4|       1|    4|   1|   1|     1|       6|   6|   5|  6|\n",
      "|  9| yes|        no|    yes|   yes|     yes|      no|     4|       2|    2|   1|   1|     1|       0|null|null| 19|\n",
      "| 10| yes|       yes|    yes|   yes|     yes|      no|     5|       5|    1|   1|   1|     5|       0|  14|  15| 15|\n",
      "| 11| yes|        no|    yes|   yes|     yes|      no|     3|       3|    3|   1|   2|     2|       0|  10|   8|  9|\n",
      "| 12|  no|       yes|    yes|   yes|     yes|      no|     5|       2|    2|   1|   1|     4|       4|  10|  12| 12|\n",
      "| 13| yes|       yes|    yes|   yes|     yes|      no|     4|       3|    3|   1|   3|     5|       2|  14|  14| 14|\n",
      "| 14| yes|        no|    yes|   yes|     yes|      no|     5|       4|    3|   1|   2|     3|       2|  10|  10| 11|\n",
      "| 15|  no|        no|    yes|   yes|     yes|     yes|     4|       5|    2|   1|   1|     3|       0|  14|  16| 16|\n",
      "| 16|  no|        no|    yes|   yes|     yes|      no|     4|       4|    4|   1|   2|     2|       4|  14|  14| 14|\n",
      "| 17| yes|       yes|    yes|   yes|     yes|      no|     3|       2|    3|   1|   2|     2|       6|  13|  14| 14|\n",
      "| 18|  no|       yes|    yes|   yes|      no|      no|     5|       3|    2|   1|   1|     4|       4|   8|  10| 10|\n",
      "| 19|  no|       yes|    yes|   yes|     yes|      no|     5|       5|    5|   2|   4|     5|      16|   6|   5|  5|\n",
      "| 20| yes|       yes|    yes|   yes|     yes|      no|     3|       1|    3|   1|   3|     5|       4|   8|  10| 10|\n",
      "+---+----+----------+-------+------+--------+--------+------+--------+-----+----+----+------+--------+----+----+---+\n",
      "only showing top 20 rows\n",
      "\n"
     ]
    }
   ],
   "source": [
    "#Data exploration\n",
    "#Visualising the first data frame df1, in which we can see there are 17 columns\n",
    "df1.show()"
   ]
  },
  {
   "cell_type": "code",
   "execution_count": 6,
   "id": "cf5ebe6d",
   "metadata": {},
   "outputs": [
    {
     "name": "stdout",
     "output_type": "stream",
     "text": [
      "+---+------+---+---+-------+-------+-------+----+----+--------+--------+----------+--------+----------+---------+--------+---------+------+\n",
      "| ID|school|sex|age|address|famsize|Pstatus|Medu|Fedu|    Mjob|    Fjob|    reason|guardian|traveltime|studytime|failures|schoolsup|famsup|\n",
      "+---+------+---+---+-------+-------+-------+----+----+--------+--------+----------+--------+----------+---------+--------+---------+------+\n",
      "|  1|    GP|  F| 18|      U|    GT3|      A|   4|   4| at_home| teacher|    course|  mother|         2|        2|       0|      yes|no yes|\n",
      "|  2|    GP|  F| 17|      U|    GT3|      T|   1|   1| at_home|   other|    course|  father|         1|        2|       0|       no|   yes|\n",
      "|  3|    GP|  F| 15|      U|    LE3|      T|   1|   1| at_home|   other|     other|  mother|         1|        2|       3|      yes|    no|\n",
      "|  4|    GP|  F| 15|      U|    GT3|      T|   4|   2|  health|services|      home|  mother|         1|        3|       0|       no|   yes|\n",
      "|  5|    GP|  F| 16|      U|    GT3|      T|   3|   3|   other|   other|      home|  father|         1|        2|       0|       no|   yes|\n",
      "|  6|    GP|  M| 16|      U|    LE3|      T|   4|   3|services|   other|reputation|  mother|         1|        2|       0|       no|   yes|\n",
      "|  7|    GP|  M| 16|      U|    LE3|      T|   2|   2|   other|   other|      home|  mother|         1|        2|       0|       no|    no|\n",
      "|  8|    GP|  F| 17|      U|    GT3|      A|   4|   4|   other| teacher|      home|  mother|         2|        2|       0|      yes|   yes|\n",
      "|  9|    GP|  M| 15|      U|    LE3|      A|   3|   2|services|   other|      home|  mother|         1|        2|       0|       no|   yes|\n",
      "| 10|    GP|  M| 15|      U|    GT3|      T|   3|   4|   other|   other|      home|  mother|         1|        2|       0|       no|   yes|\n",
      "| 11|    GP|  F| 15|      U|    GT3|      T|   4|   4| teacher|  health|reputation|  mother|         1|        2|       0|       no|   yes|\n",
      "| 12|    GP|  F| 15|      U|    GT3|      T|   2|   1|services|   other|reputation|  father|         3|        3|       0|       no|   yes|\n",
      "| 13|    GP|  M| 15|      U|    LE3|      T|   4|   4|  health|services|    course|  father|         1|        1|       0|       no|   yes|\n",
      "| 14|    GP|  M| 15|      U|    GT3|      T|   4|   3| teacher|   other|    course|  mother|         2|        2|       0|       no|   yes|\n",
      "| 15|    GP|  M| 15|      U|    GT3|      A|   2|   2|   other|   other|      home|   other|         1|        3|       0|       no|   yes|\n",
      "| 16|    GP|  F| 16|      U|    GT3|      T|   4|   4|  health|   other|      home|  mother|         1|        1|       0|       no|   yes|\n",
      "| 17|    GP|  F| 16|      U|    GT3|      T|   4|   4|services|services|reputation|  mother|         1|        3|       0|       no|   yes|\n",
      "| 18|    GP|  F| 16|      U|    GT3|      T|   3|   3|   other|   other|reputation|  mother|     three|        2|       0|      yes|   yes|\n",
      "| 19|    GP|  M| 17|      U|    GT3|      T|   3|   2|services|services|    course|  mother|         1|        1|       3|       no|   yes|\n",
      "| 20|    GP|  M| 16|      U|    LE3|      T|   4|   3|  health|   other|      home|  father|         1|        1|       0|       no|    no|\n",
      "+---+------+---+---+-------+-------+-------+----+----+--------+--------+----------+--------+----------+---------+--------+---------+------+\n",
      "only showing top 20 rows\n",
      "\n"
     ]
    }
   ],
   "source": [
    "#Visualising the second data frame df2, in which we can see there are 18 columns\n",
    "df2.show()\n"
   ]
  },
  {
   "cell_type": "code",
   "execution_count": 8,
   "id": "5b692852",
   "metadata": {},
   "outputs": [],
   "source": [
    "#Joining the two datasets into one dataset\n",
    "master_data = df1.join(df2, \"ID\", how = 'left_outer')"
   ]
  },
  {
   "cell_type": "code",
   "execution_count": 9,
   "id": "424df9fb",
   "metadata": {},
   "outputs": [
    {
     "data": {
      "text/plain": [
       "['ID',\n",
       " 'paid',\n",
       " 'activities',\n",
       " 'nursery',\n",
       " 'higher',\n",
       " 'internet',\n",
       " 'romantic',\n",
       " 'famrel',\n",
       " 'freetime',\n",
       " 'goout',\n",
       " 'Dalc',\n",
       " 'Walc',\n",
       " 'health',\n",
       " 'absences',\n",
       " 'G1',\n",
       " 'G2',\n",
       " 'G3',\n",
       " 'school',\n",
       " 'sex',\n",
       " 'age',\n",
       " 'address',\n",
       " 'famsize',\n",
       " 'Pstatus',\n",
       " 'Medu',\n",
       " 'Fedu',\n",
       " 'Mjob',\n",
       " 'Fjob',\n",
       " 'reason',\n",
       " 'guardian',\n",
       " 'traveltime',\n",
       " 'studytime',\n",
       " 'failures',\n",
       " 'schoolsup',\n",
       " 'famsup']"
      ]
     },
     "execution_count": 9,
     "metadata": {},
     "output_type": "execute_result"
    }
   ],
   "source": [
    "#Visualising the data columns in the master dataset\n",
    "master_data.columns"
   ]
  },
  {
   "cell_type": "code",
   "execution_count": 15,
   "id": "8c92788d",
   "metadata": {},
   "outputs": [
    {
     "name": "stdout",
     "output_type": "stream",
     "text": [
      "+-------+------------------+----+----------+-------+------+--------+--------+------------------+------------------+------------------+------------------+------------------+------------------+-----------------+------------------+------------------+------------------+------+----+------------------+-------+-------+-------+-----------------+------------------+-------+-------+----------+--------+------------------+------------------+------------------+---------+------+\n",
      "|summary|                ID|paid|activities|nursery|higher|internet|romantic|            famrel|          freetime|             goout|              Dalc|              Walc|            health|         absences|                G1|                G2|                G3|school| sex|               age|address|famsize|Pstatus|             Medu|              Fedu|   Mjob|   Fjob|    reason|guardian|        traveltime|         studytime|          failures|schoolsup|famsup|\n",
      "+-------+------------------+----+----------+-------+------+--------+--------+------------------+------------------+------------------+------------------+------------------+------------------+-----------------+------------------+------------------+------------------+------+----+------------------+-------+-------+-------+-----------------+------------------+-------+-------+----------+--------+------------------+------------------+------------------+---------+------+\n",
      "|  count|               395| 395|       395|    395|   395|     395|     395|               395|               395|               395|               395|               395|               395|              395|               393|               394|               395|   395| 395|               395|    395|    395|    395|              395|               395|    395|    395|       394|     395|               395|               395|               395|      395|   395|\n",
      "|   mean|             198.0|null|      null|   null|  null|    null|    null|3.9443037974683546|10.822784810126583| 3.108860759493671| 1.481012658227848|2.2911392405063293|3.5544303797468353|5.708860759493671|10.910941475826972|10.695431472081218|10.415189873417722|  null|null|16.741772151898733|   null|   null|   null|2.751898734177215|2.5215189873417723|   null|   null|      null|    null|1.4467005076142132|27.349367088607593|0.3341772151898734|     null|  null|\n",
      "| stddev|114.17092449481173|null|      null|   null|  null|    null|    null|0.8966586076885046|150.78686671910884|1.1132781740183422|0.8907414280909668|1.2878965924510932|1.3903033913095773|8.003095687108182|3.3042501046711408| 3.748265680936297|4.5814426109978434|  null|null|1.4856853000880261|   null|   null|   null|1.096471123071355|1.0882005458269433|   null|   null|      null|    null|0.6941791987295868| 503.0527562814763|0.7436509736062509|     null|  null|\n",
      "|    min|                 1|  no|        no|     no|    no|      no|      no|                 1|                 1|                 1|                 1|                 1|                 1|                0|                10|                 0|                 0|    GP|   F|                15|      R|    GT3|      A|                0|                 0|at_home|at_home|    course|  fathar|                 1|                 1|                 0|       no|    no|\n",
      "|    max|                99| yes|       yes|    yes|   yes|     yes|     yes|                 5|                 5|                 5|                 5|                 5|                 5|                9|                 9|                 9|                 9|    MS|   M|                32|  Urban|    LE3|      T|                4|                 4|teacher|teacher|reputation|   other|             three|                 4|                 3|      yes|   yes|\n",
      "+-------+------------------+----+----------+-------+------+--------+--------+------------------+------------------+------------------+------------------+------------------+------------------+-----------------+------------------+------------------+------------------+------+----+------------------+-------+-------+-------+-----------------+------------------+-------+-------+----------+--------+------------------+------------------+------------------+---------+------+\n",
      "\n"
     ]
    }
   ],
   "source": [
    "#Describing our data with some general statistics\n",
    "master_data.describe().show()"
   ]
  },
  {
   "cell_type": "code",
   "execution_count": null,
   "id": "2bf2060e",
   "metadata": {},
   "outputs": [],
   "source": [
    "#Describing our data with some general statistics\n",
    "master_data.select(\"ID\", ).describe().show()"
   ]
  },
  {
   "cell_type": "code",
   "execution_count": 11,
   "id": "9064cc49",
   "metadata": {},
   "outputs": [],
   "source": [
    "#verifying data quality\n",
    "#finding null values \n",
    "\n",
    "from pyspark.sql.functions import col,isnan, when, count"
   ]
  },
  {
   "cell_type": "code",
   "execution_count": null,
   "id": "0d009895",
   "metadata": {},
   "outputs": [],
   "source": []
  }
 ],
 "metadata": {
  "kernelspec": {
   "display_name": "Python 3 (ipykernel)",
   "language": "python",
   "name": "python3"
  },
  "language_info": {
   "codemirror_mode": {
    "name": "ipython",
    "version": 3
   },
   "file_extension": ".py",
   "mimetype": "text/x-python",
   "name": "python",
   "nbconvert_exporter": "python",
   "pygments_lexer": "ipython3",
   "version": "3.10.4"
  }
 },
 "nbformat": 4,
 "nbformat_minor": 5
}
