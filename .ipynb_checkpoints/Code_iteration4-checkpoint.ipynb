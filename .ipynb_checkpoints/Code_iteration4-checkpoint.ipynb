{
 "cells": [
  {
   "cell_type": "code",
   "execution_count": 1,
   "id": "7c461989",
   "metadata": {},
   "outputs": [
    {
     "name": "stderr",
     "output_type": "stream",
     "text": [
      "WARNING: An illegal reflective access operation has occurred\n",
      "WARNING: Illegal reflective access by org.apache.spark.unsafe.Platform (file:/home/ubuntu/spark-3.2.1-bin-hadoop2.7/jars/spark-unsafe_2.12-3.2.1.jar) to constructor java.nio.DirectByteBuffer(long,int)\n",
      "WARNING: Please consider reporting this to the maintainers of org.apache.spark.unsafe.Platform\n",
      "WARNING: Use --illegal-access=warn to enable warnings of further illegal reflective access operations\n",
      "WARNING: All illegal access operations will be denied in a future release\n",
      "Using Spark's default log4j profile: org/apache/spark/log4j-defaults.properties\n",
      "Setting default log level to \"WARN\".\n",
      "To adjust logging level use sc.setLogLevel(newLevel). For SparkR, use setLogLevel(newLevel).\n",
      "22/10/13 05:34:55 WARN NativeCodeLoader: Unable to load native-hadoop library for your platform... using builtin-java classes where applicable\n"
     ]
    }
   ],
   "source": [
    "#Importing libraries\n",
    "import findspark\n",
    "findspark.init('/home/ubuntu/spark-3.2.1-bin-hadoop2.7')\n",
    "import pyspark\n",
    "from pyspark.sql import SparkSession\n",
    "spark = SparkSession.builder.appName('student_success_analysis').getOrCreate()"
   ]
  },
  {
   "cell_type": "code",
   "execution_count": 2,
   "id": "dd5f8c0a",
   "metadata": {},
   "outputs": [
    {
     "name": "stderr",
     "output_type": "stream",
     "text": [
      "\r",
      "[Stage 0:>                                                          (0 + 1) / 1]\r",
      "\r",
      "                                                                                \r"
     ]
    }
   ],
   "source": [
    "#Reading and loading the first dataset\n",
    "df1 = spark.read.load('student_data_second_part_tampered.csv', format = 'csv', header = 'true')"
   ]
  },
  {
   "cell_type": "code",
   "execution_count": 3,
   "id": "d8caf264",
   "metadata": {},
   "outputs": [],
   "source": [
    "#Reading and loading the second dataset\n",
    "df2 = spark.read.load('student_data_tampered.csv', format = 'csv', header = 'true')"
   ]
  },
  {
   "cell_type": "code",
   "execution_count": 4,
   "id": "9393593b",
   "metadata": {},
   "outputs": [
    {
     "name": "stdout",
     "output_type": "stream",
     "text": [
      "+---+----+----------+-------+------+--------+--------+------+--------+-----+----+----+------+--------+----+----+---+\n",
      "| ID|paid|activities|nursery|higher|internet|romantic|famrel|freetime|goout|Dalc|Walc|health|absences|  G1|  G2| G3|\n",
      "+---+----+----------+-------+------+--------+--------+------+--------+-----+----+----+------+--------+----+----+---+\n",
      "|  1|  no|        no|    yes|   yes|      no|      no|     4|       3|    4|   1|   1|     3|       6|null|   6|  6|\n",
      "|  2|  no|        no|     no|   yes|     yes|      no|     5|       3|    3|   1|   1|     3|       4|   5|   5|  6|\n",
      "|  3| yes|        no|    yes|   yes|     yes|      no|     4|       3|    2|   2|   3|     3|      10|   7|   8| 10|\n",
      "|  4| yes|       yes|    yes|   yes|     yes|     yes|     3|       2|    2|   1|   1|     5|       2|  15|  14| 15|\n",
      "|  5| yes|        no|    yes|   yes|      no|      no|     4|       3|    2|   1|   2|     5|       4|   6|  10| 10|\n",
      "|  6| yes|       yes|    yes|   yes|     yes|      no|     5|       4|    2|   1|   2|     5|      10|  15|  15| 15|\n",
      "|  7|  no|        no|    yes|   yes|     yes|      no|     4|       4|    4|   1|   1|     3|       0|  12|  12| 11|\n",
      "|  8|  no|        no|    yes|   yes|      no|      no|     4|       1|    4|   1|   1|     1|       6|   6|   5|  6|\n",
      "|  9| yes|        no|    yes|   yes|     yes|      no|     4|       2|    2|   1|   1|     1|       0|null|null| 19|\n",
      "| 10| yes|       yes|    yes|   yes|     yes|      no|     5|       5|    1|   1|   1|     5|       0|  14|  15| 15|\n",
      "| 11| yes|        no|    yes|   yes|     yes|      no|     3|       3|    3|   1|   2|     2|       0|  10|   8|  9|\n",
      "| 12|  no|       yes|    yes|   yes|     yes|      no|     5|       2|    2|   1|   1|     4|       4|  10|  12| 12|\n",
      "| 13| yes|       yes|    yes|   yes|     yes|      no|     4|       3|    3|   1|   3|     5|       2|  14|  14| 14|\n",
      "| 14| yes|        no|    yes|   yes|     yes|      no|     5|       4|    3|   1|   2|     3|       2|  10|  10| 11|\n",
      "| 15|  no|        no|    yes|   yes|     yes|     yes|     4|       5|    2|   1|   1|     3|       0|  14|  16| 16|\n",
      "| 16|  no|        no|    yes|   yes|     yes|      no|     4|       4|    4|   1|   2|     2|       4|  14|  14| 14|\n",
      "| 17| yes|       yes|    yes|   yes|     yes|      no|     3|       2|    3|   1|   2|     2|       6|  13|  14| 14|\n",
      "| 18|  no|       yes|    yes|   yes|      no|      no|     5|       3|    2|   1|   1|     4|       4|   8|  10| 10|\n",
      "| 19|  no|       yes|    yes|   yes|     yes|      no|     5|       5|    5|   2|   4|     5|      16|   6|   5|  5|\n",
      "| 20| yes|       yes|    yes|   yes|     yes|      no|     3|       1|    3|   1|   3|     5|       4|   8|  10| 10|\n",
      "+---+----+----------+-------+------+--------+--------+------+--------+-----+----+----+------+--------+----+----+---+\n",
      "only showing top 20 rows\n",
      "\n"
     ]
    }
   ],
   "source": [
    "#Data exploration\n",
    "#Visualising the first data frame df1, in which we can see there are 17 columns\n",
    "df1.show()"
   ]
  },
  {
   "cell_type": "code",
   "execution_count": 5,
   "id": "cf5ebe6d",
   "metadata": {},
   "outputs": [
    {
     "name": "stdout",
     "output_type": "stream",
     "text": [
      "+---+------+---+---+-------+-------+-------+----+----+--------+--------+----------+--------+----------+---------+--------+---------+------+\n",
      "| ID|school|sex|age|address|famsize|Pstatus|Medu|Fedu|    Mjob|    Fjob|    reason|guardian|traveltime|studytime|failures|schoolsup|famsup|\n",
      "+---+------+---+---+-------+-------+-------+----+----+--------+--------+----------+--------+----------+---------+--------+---------+------+\n",
      "|  1|    GP|  F| 18|      U|    GT3|      A|   4|   4| at_home| teacher|    course|  mother|         2|        2|       0|      yes|no yes|\n",
      "|  2|    GP|  F| 17|      U|    GT3|      T|   1|   1| at_home|   other|    course|  father|         1|        2|       0|       no|   yes|\n",
      "|  3|    GP|  F| 15|      U|    LE3|      T|   1|   1| at_home|   other|     other|  mother|         1|        2|       3|      yes|    no|\n",
      "|  4|    GP|  F| 15|      U|    GT3|      T|   4|   2|  health|services|      home|  mother|         1|        3|       0|       no|   yes|\n",
      "|  5|    GP|  F| 16|      U|    GT3|      T|   3|   3|   other|   other|      home|  father|         1|        2|       0|       no|   yes|\n",
      "|  6|    GP|  M| 16|      U|    LE3|      T|   4|   3|services|   other|reputation|  mother|         1|        2|       0|       no|   yes|\n",
      "|  7|    GP|  M| 16|      U|    LE3|      T|   2|   2|   other|   other|      home|  mother|         1|        2|       0|       no|    no|\n",
      "|  8|    GP|  F| 17|      U|    GT3|      A|   4|   4|   other| teacher|      home|  mother|         2|        2|       0|      yes|   yes|\n",
      "|  9|    GP|  M| 15|      U|    LE3|      A|   3|   2|services|   other|      home|  mother|         1|        2|       0|       no|   yes|\n",
      "| 10|    GP|  M| 15|      U|    GT3|      T|   3|   4|   other|   other|      home|  mother|         1|        2|       0|       no|   yes|\n",
      "| 11|    GP|  F| 15|      U|    GT3|      T|   4|   4| teacher|  health|reputation|  mother|         1|        2|       0|       no|   yes|\n",
      "| 12|    GP|  F| 15|      U|    GT3|      T|   2|   1|services|   other|reputation|  father|         3|        3|       0|       no|   yes|\n",
      "| 13|    GP|  M| 15|      U|    LE3|      T|   4|   4|  health|services|    course|  father|         1|        1|       0|       no|   yes|\n",
      "| 14|    GP|  M| 15|      U|    GT3|      T|   4|   3| teacher|   other|    course|  mother|         2|        2|       0|       no|   yes|\n",
      "| 15|    GP|  M| 15|      U|    GT3|      A|   2|   2|   other|   other|      home|   other|         1|        3|       0|       no|   yes|\n",
      "| 16|    GP|  F| 16|      U|    GT3|      T|   4|   4|  health|   other|      home|  mother|         1|        1|       0|       no|   yes|\n",
      "| 17|    GP|  F| 16|      U|    GT3|      T|   4|   4|services|services|reputation|  mother|         1|        3|       0|       no|   yes|\n",
      "| 18|    GP|  F| 16|      U|    GT3|      T|   3|   3|   other|   other|reputation|  mother|     three|        2|       0|      yes|   yes|\n",
      "| 19|    GP|  M| 17|      U|    GT3|      T|   3|   2|services|services|    course|  mother|         1|        1|       3|       no|   yes|\n",
      "| 20|    GP|  M| 16|      U|    LE3|      T|   4|   3|  health|   other|      home|  father|         1|        1|       0|       no|    no|\n",
      "+---+------+---+---+-------+-------+-------+----+----+--------+--------+----------+--------+----------+---------+--------+---------+------+\n",
      "only showing top 20 rows\n",
      "\n"
     ]
    }
   ],
   "source": [
    "#Visualising the second data frame df2, in which we can see there are 18 columns\n",
    "df2.show()\n"
   ]
  },
  {
   "cell_type": "code",
   "execution_count": 6,
   "id": "5b692852",
   "metadata": {},
   "outputs": [],
   "source": [
    "#Joining the two datasets into one dataset\n",
    "master_data = df1.join(df2, \"ID\", how = 'left_outer')"
   ]
  },
  {
   "cell_type": "code",
   "execution_count": 7,
   "id": "424df9fb",
   "metadata": {},
   "outputs": [
    {
     "data": {
      "text/plain": [
       "['ID',\n",
       " 'paid',\n",
       " 'activities',\n",
       " 'nursery',\n",
       " 'higher',\n",
       " 'internet',\n",
       " 'romantic',\n",
       " 'famrel',\n",
       " 'freetime',\n",
       " 'goout',\n",
       " 'Dalc',\n",
       " 'Walc',\n",
       " 'health',\n",
       " 'absences',\n",
       " 'G1',\n",
       " 'G2',\n",
       " 'G3',\n",
       " 'school',\n",
       " 'sex',\n",
       " 'age',\n",
       " 'address',\n",
       " 'famsize',\n",
       " 'Pstatus',\n",
       " 'Medu',\n",
       " 'Fedu',\n",
       " 'Mjob',\n",
       " 'Fjob',\n",
       " 'reason',\n",
       " 'guardian',\n",
       " 'traveltime',\n",
       " 'studytime',\n",
       " 'failures',\n",
       " 'schoolsup',\n",
       " 'famsup']"
      ]
     },
     "execution_count": 7,
     "metadata": {},
     "output_type": "execute_result"
    }
   ],
   "source": [
    "#Visualising the data columns in the master dataset\n",
    "master_data.columns"
   ]
  },
  {
   "cell_type": "code",
   "execution_count": 8,
   "id": "8c92788d",
   "metadata": {},
   "outputs": [
    {
     "name": "stderr",
     "output_type": "stream",
     "text": [
      "[Stage 7:>                                                          (0 + 1) / 1]\r"
     ]
    },
    {
     "name": "stdout",
     "output_type": "stream",
     "text": [
      "+-------+------------------+----+----------+-------+------+--------+--------+------------------+------------------+------------------+------------------+------------------+------------------+-----------------+------------------+------------------+------------------+------+----+------------------+-------+-------+-------+-----------------+------------------+-------+-------+----------+--------+------------------+------------------+------------------+---------+------+\n",
      "|summary|                ID|paid|activities|nursery|higher|internet|romantic|            famrel|          freetime|             goout|              Dalc|              Walc|            health|         absences|                G1|                G2|                G3|school| sex|               age|address|famsize|Pstatus|             Medu|              Fedu|   Mjob|   Fjob|    reason|guardian|        traveltime|         studytime|          failures|schoolsup|famsup|\n",
      "+-------+------------------+----+----------+-------+------+--------+--------+------------------+------------------+------------------+------------------+------------------+------------------+-----------------+------------------+------------------+------------------+------+----+------------------+-------+-------+-------+-----------------+------------------+-------+-------+----------+--------+------------------+------------------+------------------+---------+------+\n",
      "|  count|               395| 395|       395|    395|   395|     395|     395|               395|               395|               395|               395|               395|               395|              395|               393|               394|               395|   395| 395|               395|    395|    395|    395|              395|               395|    395|    395|       394|     395|               395|               395|               395|      395|   395|\n",
      "|   mean|             198.0|null|      null|   null|  null|    null|    null|3.9443037974683546|10.822784810126583| 3.108860759493671| 1.481012658227848|2.2911392405063293|3.5544303797468353|5.708860759493671|10.910941475826972|10.695431472081218|10.415189873417722|  null|null|16.741772151898733|   null|   null|   null|2.751898734177215|2.5215189873417723|   null|   null|      null|    null|1.4467005076142132|27.349367088607593|0.3341772151898734|     null|  null|\n",
      "| stddev|114.17092449481173|null|      null|   null|  null|    null|    null|0.8966586076885046|150.78686671910884|1.1132781740183422|0.8907414280909668|1.2878965924510932|1.3903033913095773|8.003095687108182|3.3042501046711408| 3.748265680936297|4.5814426109978434|  null|null|1.4856853000880261|   null|   null|   null|1.096471123071355|1.0882005458269433|   null|   null|      null|    null|0.6941791987295868| 503.0527562814763|0.7436509736062509|     null|  null|\n",
      "|    min|                 1|  no|        no|     no|    no|      no|      no|                 1|                 1|                 1|                 1|                 1|                 1|                0|                10|                 0|                 0|    GP|   F|                15|      R|    GT3|      A|                0|                 0|at_home|at_home|    course|  fathar|                 1|                 1|                 0|       no|    no|\n",
      "|    max|                99| yes|       yes|    yes|   yes|     yes|     yes|                 5|                 5|                 5|                 5|                 5|                 5|                9|                 9|                 9|                 9|    MS|   M|                32|  Urban|    LE3|      T|                4|                 4|teacher|teacher|reputation|   other|             three|                 4|                 3|      yes|   yes|\n",
      "+-------+------------------+----+----------+-------+------+--------+--------+------------------+------------------+------------------+------------------+------------------+------------------+-----------------+------------------+------------------+------------------+------+----+------------------+-------+-------+-------+-----------------+------------------+-------+-------+----------+--------+------------------+------------------+------------------+---------+------+\n",
      "\n"
     ]
    },
    {
     "name": "stderr",
     "output_type": "stream",
     "text": [
      "\r",
      "                                                                                \r",
      "22/10/13 05:35:16 WARN package: Truncated the string representation of a plan since it was too large. This behavior can be adjusted by setting 'spark.sql.debug.maxToStringFields'.\n"
     ]
    }
   ],
   "source": [
    "#Describing our data with some general statistics\n",
    "master_data.describe().show()"
   ]
  },
  {
   "cell_type": "code",
   "execution_count": 9,
   "id": "6def1b6e",
   "metadata": {
    "scrolled": true
   },
   "outputs": [
    {
     "name": "stdout",
     "output_type": "stream",
     "text": [
      "+-------+------------------+----+-------+-----------------+-------+------------------+------------------+\n",
      "|summary|                ID| sex|   Mjob|             Medu|   Fjob|              Fedu|                G3|\n",
      "+-------+------------------+----+-------+-----------------+-------+------------------+------------------+\n",
      "|  count|               395| 395|    395|              395|    395|               395|               395|\n",
      "|   mean|             198.0|null|   null|2.751898734177215|   null|2.5215189873417723|10.415189873417722|\n",
      "| stddev|114.17092449481173|null|   null|1.096471123071355|   null|1.0882005458269433|4.5814426109978434|\n",
      "|    min|                 1|   F|at_home|                0|at_home|                 0|                 0|\n",
      "|    max|                99|   M|teacher|                4|teacher|                 4|                 9|\n",
      "+-------+------------------+----+-------+-----------------+-------+------------------+------------------+\n",
      "\n"
     ]
    }
   ],
   "source": [
    "#Describing selected data with some general statistics\n",
    "master_data.select(\"ID\", \"sex\", \"Mjob\", \"Medu\", \"Fjob\", \"Fedu\", \"G3\" ).describe().show()"
   ]
  },
  {
   "cell_type": "code",
   "execution_count": 10,
   "id": "e21ac4c3",
   "metadata": {},
   "outputs": [
    {
     "name": "stderr",
     "output_type": "stream",
     "text": [
      "                                                                                \r"
     ]
    },
    {
     "data": {
      "text/plain": [
       "DataFrame[summary: string, ID: string, paid: string, activities: string, nursery: string, higher: string, internet: string, romantic: string, famrel: string, freetime: string, goout: string, Dalc: string, Walc: string, health: string, absences: string, G1: string, G2: string, G3: string, school: string, sex: string, age: string, address: string, famsize: string, Pstatus: string, Medu: string, Fedu: string, Mjob: string, Fjob: string, reason: string, guardian: string, traveltime: string, studytime: string, failures: string, schoolsup: string, famsup: string]"
      ]
     },
     "execution_count": 10,
     "metadata": {},
     "output_type": "execute_result"
    }
   ],
   "source": [
    "#Viewing data types\n",
    "master_data.describe()"
   ]
  },
  {
   "cell_type": "code",
   "execution_count": 92,
   "id": "b097e80a",
   "metadata": {},
   "outputs": [
    {
     "data": {
      "image/png": "[encoded data removed]",
      "text/plain": [
       "<Figure size 432x288 with 1 Axes>"
      ]
     },
     "metadata": {
      "needs_background": "light"
     },
     "output_type": "display_data"
    }
   ],
   "source": [
    "#Data visualisation \n",
    "#importing python libraries\n",
    "import numpy as np\n",
    "import matplotlib.pyplot as plt\n",
    "%matplotlib inline\n",
    "\n",
    "#converting age into an array using Numpy and plotting it using pyplot\n",
    "age_array = np.array(master_data.select('age').collect())\n",
    "plt.hist(age_array)\n",
    "plt.show()"
   ]
  },
  {
   "cell_type": "code",
   "execution_count": 93,
   "id": "300d0150",
   "metadata": {
    "scrolled": false
   },
   "outputs": [
    {
     "data": {
      "image/png": "[encoded data removed]",
      "text/plain": [
       "<Figure size 432x288 with 1 Axes>"
      ]
     },
     "metadata": {
      "needs_background": "light"
     },
     "output_type": "display_data"
    }
   ],
   "source": [
    "#converting Pstatus into an array using Numpy and plotting it using pyplot\n",
    "pstatus_array = np.array(master_data.select('Pstatus').collect())\n",
    "plt.hist(pstatus_array)\n",
    "plt.show()"
   ]
  },
  {
   "cell_type": "code",
   "execution_count": 13,
   "id": "9064cc49",
   "metadata": {},
   "outputs": [
    {
     "name": "stdout",
     "output_type": "stream",
     "text": [
      "+---+----+----------+-------+------+--------+--------+------+--------+-----+----+----+------+--------+---+---+---+------+---+---+-------+-------+-------+----+----+----+----+------+--------+----------+---------+--------+---------+------+\n",
      "| ID|paid|activities|nursery|higher|internet|romantic|famrel|freetime|goout|Dalc|Walc|health|absences| G1| G2| G3|school|sex|age|address|famsize|Pstatus|Medu|Fedu|Mjob|Fjob|reason|guardian|traveltime|studytime|failures|schoolsup|famsup|\n",
      "+---+----+----------+-------+------+--------+--------+------+--------+-----+----+----+------+--------+---+---+---+------+---+---+-------+-------+-------+----+----+----+----+------+--------+----------+---------+--------+---------+------+\n",
      "|  0|   0|         0|      0|     0|       0|       0|     0|       0|    0|   0|   0|     0|       0|  2|  1|  0|     0|  0|  0|      0|      0|      0|   0|   0|   0|   0|     1|       0|         0|        0|       0|        0|     0|\n",
      "+---+----+----------+-------+------+--------+--------+------+--------+-----+----+----+------+--------+---+---+---+------+---+---+-------+-------+-------+----+----+----+----+------+--------+----------+---------+--------+---------+------+\n",
      "\n"
     ]
    }
   ],
   "source": [
    "#verifying data quality\n",
    "#finding null values \n",
    "\n",
    "from pyspark.sql.functions import col,isnan, when, count\n",
    "master_data.select([count(when(isnan(x) | col(x).isNull(), x)).alias(x) for x in master_data.columns]).show()"
   ]
  },
  {
   "cell_type": "code",
   "execution_count": 14,
   "id": "d2424bc2",
   "metadata": {},
   "outputs": [],
   "source": [
    "#dropping na\n",
    "master_data = master_data.dropna()"
   ]
  },
  {
   "cell_type": "code",
   "execution_count": 15,
   "id": "3e589474",
   "metadata": {},
   "outputs": [
    {
     "name": "stdout",
     "output_type": "stream",
     "text": [
      "+---+----+----------+-------+------+--------+--------+------+--------+-----+----+----+------+--------+---+---+---+------+---+---+-------+-------+-------+----+----+----+----+------+--------+----------+---------+--------+---------+------+\n",
      "| ID|paid|activities|nursery|higher|internet|romantic|famrel|freetime|goout|Dalc|Walc|health|absences| G1| G2| G3|school|sex|age|address|famsize|Pstatus|Medu|Fedu|Mjob|Fjob|reason|guardian|traveltime|studytime|failures|schoolsup|famsup|\n",
      "+---+----+----------+-------+------+--------+--------+------+--------+-----+----+----+------+--------+---+---+---+------+---+---+-------+-------+-------+----+----+----+----+------+--------+----------+---------+--------+---------+------+\n",
      "|  0|   0|         0|      0|     0|       0|       0|     0|       0|    0|   0|   0|     0|       0|  0|  0|  0|     0|  0|  0|      0|      0|      0|   0|   0|   0|   0|     0|       0|         0|        0|       0|        0|     0|\n",
      "+---+----+----------+-------+------+--------+--------+------+--------+-----+----+----+------+--------+---+---+---+------+---+---+-------+-------+-------+----+----+----+----+------+--------+----------+---------+--------+---------+------+\n",
      "\n"
     ]
    }
   ],
   "source": [
    "#displaying the number of NA in columns after the drop na function\n",
    "master_data.select([count(when(isnan(y) | col(y).isNull(), y)).alias(y) for y in master_data.columns]).show()"
   ]
  },
  {
   "cell_type": "code",
   "execution_count": 16,
   "id": "04d1dc17",
   "metadata": {},
   "outputs": [
    {
     "name": "stdout",
     "output_type": "stream",
     "text": [
      "+-------+------------------+\n",
      "|summary|                ID|\n",
      "+-------+------------------+\n",
      "|  count|               392|\n",
      "|   mean|198.84438775510205|\n",
      "| stddev|113.73630726336036|\n",
      "|    min|                10|\n",
      "|    max|                99|\n",
      "+-------+------------------+\n",
      "\n"
     ]
    }
   ],
   "source": [
    "#viewing number of rows in master dataset after dropping NA values\n",
    "master_data.select(\"ID\").describe().show()"
   ]
  },
  {
   "cell_type": "code",
   "execution_count": 17,
   "id": "e02d1129",
   "metadata": {},
   "outputs": [
    {
     "name": "stdout",
     "output_type": "stream",
     "text": [
      "+-------+------------------+\n",
      "|summary|               age|\n",
      "+-------+------------------+\n",
      "|  count|               392|\n",
      "|   mean|16.739795918367346|\n",
      "| stddev|1.4860469400783718|\n",
      "|    min|                15|\n",
      "|    max|                32|\n",
      "+-------+------------------+\n",
      "\n"
     ]
    }
   ],
   "source": [
    "#viewing the age column statistics to find out count of rows\n",
    "master_data.select(\"age\").describe().show()"
   ]
  },
  {
   "cell_type": "code",
   "execution_count": 18,
   "id": "97ad2fec",
   "metadata": {},
   "outputs": [],
   "source": [
    "#discarding records with student ages over 19 years old\n",
    "master_data = master_data.filter(master_data.age <= 19)"
   ]
  },
  {
   "cell_type": "code",
   "execution_count": 19,
   "id": "5685afe0",
   "metadata": {},
   "outputs": [
    {
     "name": "stdout",
     "output_type": "stream",
     "text": [
      "+-------+------------------+\n",
      "|summary|               age|\n",
      "+-------+------------------+\n",
      "|  count|               386|\n",
      "|   mean|16.650259067357513|\n",
      "| stddev|1.1949949454800117|\n",
      "|    min|                15|\n",
      "|    max|                19|\n",
      "+-------+------------------+\n",
      "\n"
     ]
    }
   ],
   "source": [
    "#viewing the age column statistics to find out count of rows\n",
    "master_data.select(\"age\").describe().show()"
   ]
  },
  {
   "cell_type": "code",
   "execution_count": 20,
   "id": "1124253b",
   "metadata": {},
   "outputs": [
    {
     "name": "stdout",
     "output_type": "stream",
     "text": [
      "+--------+\n",
      "|guardian|\n",
      "+--------+\n",
      "|father  |\n",
      "|fathar  |\n",
      "|mother  |\n",
      "|other   |\n",
      "+--------+\n",
      "\n"
     ]
    }
   ],
   "source": [
    "#viewing unique values in column guardian\n",
    "master_data.dropDuplicates(([\"guardian\"])).select(\"guardian\").show(truncate=False)"
   ]
  },
  {
   "cell_type": "code",
   "execution_count": 21,
   "id": "c265e0ae",
   "metadata": {},
   "outputs": [
    {
     "name": "stdout",
     "output_type": "stream",
     "text": [
      "+-------+\n",
      "|address|\n",
      "+-------+\n",
      "|Urban  |\n",
      "|U      |\n",
      "|R      |\n",
      "|Rural  |\n",
      "+-------+\n",
      "\n"
     ]
    }
   ],
   "source": [
    "#viewing unique values in column address\n",
    "master_data.dropDuplicates(([\"address\"])).select(\"address\").show(truncate=False)"
   ]
  },
  {
   "cell_type": "code",
   "execution_count": 22,
   "id": "ba68d4b9",
   "metadata": {},
   "outputs": [
    {
     "name": "stdout",
     "output_type": "stream",
     "text": [
      "+----------+\n",
      "|traveltime|\n",
      "+----------+\n",
      "|3         |\n",
      "|three     |\n",
      "|1         |\n",
      "|4         |\n",
      "|2         |\n",
      "+----------+\n",
      "\n"
     ]
    }
   ],
   "source": [
    "#viewing unique values in column traveltime\n",
    "master_data.dropDuplicates(([\"traveltime\"])).select(\"traveltime\").show(truncate=False)"
   ]
  },
  {
   "cell_type": "code",
   "execution_count": 23,
   "id": "97043ae9",
   "metadata": {},
   "outputs": [],
   "source": [
    "#discarding records with incorrectly typed data for column guardian, address, and traveltime\n",
    "master_data = master_data.filter((master_data.guardian != \"fathar\") & (master_data.address != \"Urban\") & (master_data.address != \"Rural\") & (master_data.traveltime != \"three\")) "
   ]
  },
  {
   "cell_type": "code",
   "execution_count": 24,
   "id": "d8988632",
   "metadata": {},
   "outputs": [
    {
     "name": "stdout",
     "output_type": "stream",
     "text": [
      "+--------+\n",
      "|guardian|\n",
      "+--------+\n",
      "|father  |\n",
      "|mother  |\n",
      "|other   |\n",
      "+--------+\n",
      "\n",
      "+-------+\n",
      "|address|\n",
      "+-------+\n",
      "|U      |\n",
      "|R      |\n",
      "+-------+\n",
      "\n",
      "+----------+\n",
      "|traveltime|\n",
      "+----------+\n",
      "|3         |\n",
      "|1         |\n",
      "|4         |\n",
      "|2         |\n",
      "+----------+\n",
      "\n"
     ]
    }
   ],
   "source": [
    "#viewing unique values in column guardian\n",
    "master_data.dropDuplicates(([\"guardian\"])).select(\"guardian\").show(truncate=False)\n",
    "\n",
    "#viewing unique values in column address\n",
    "master_data.dropDuplicates(([\"address\"])).select(\"address\").show(truncate=False)\n",
    "\n",
    "#viewing unique values in column traveltime\n",
    "master_data.dropDuplicates(([\"traveltime\"])).select(\"traveltime\").show(truncate=False)"
   ]
  },
  {
   "cell_type": "code",
   "execution_count": 25,
   "id": "8392b3e6",
   "metadata": {},
   "outputs": [
    {
     "name": "stdout",
     "output_type": "stream",
     "text": [
      "+-------+------------------+\n",
      "|summary|                ID|\n",
      "+-------+------------------+\n",
      "|  count|               379|\n",
      "|   mean|197.47757255936676|\n",
      "| stddev|112.54662243064861|\n",
      "|    min|                10|\n",
      "|    max|                99|\n",
      "+-------+------------------+\n",
      "\n"
     ]
    }
   ],
   "source": [
    "#viewing the ID column statistics to find out count of rows\n",
    "master_data.select(\"ID\").describe().show()"
   ]
  },
  {
   "cell_type": "code",
   "execution_count": 26,
   "id": "8e2d0eea",
   "metadata": {},
   "outputs": [
    {
     "data": {
      "text/plain": [
       "DataFrame[summary: string, ID: string, paid: string, activities: string, nursery: string, higher: string, internet: string, romantic: string, famrel: string, freetime: string, goout: string, Dalc: string, Walc: string, health: string, absences: string, G1: string, G2: string, G3: string, school: string, sex: string, age: string, address: string, famsize: string, Pstatus: string, Medu: string, Fedu: string, Mjob: string, Fjob: string, reason: string, guardian: string, traveltime: string, studytime: string, failures: string, schoolsup: string, famsup: string]"
      ]
     },
     "execution_count": 26,
     "metadata": {},
     "output_type": "execute_result"
    }
   ],
   "source": [
    "#Viewing data types to find the columns with data type string\n",
    "master_data.describe()"
   ]
  },
  {
   "cell_type": "code",
   "execution_count": 27,
   "id": "974da679",
   "metadata": {},
   "outputs": [],
   "source": [
    "#Construction of data\n",
    "\n",
    "#importing necessary libraries\n",
    "from pyspark.ml.feature import StringIndexer\n",
    "from pyspark.ml.feature import OneHotEncoder\n",
    "\n",
    "#numeric indexing for string columns, with index starting from 0\n",
    "#fitting the indexer model and using it to transform the strings into numeric indices\n",
    "indexer = StringIndexer(inputCol=\"school\", outputCol=\"schoolNumericIndex\")\n",
    "master_data = indexer.fit(master_data).transform(master_data)\n",
    "ohe = OneHotEncoder(inputCol=\"schoolNumericIndex\", outputCol=\"schoolVector\")\n",
    "master_data = ohe.fit(master_data).transform(master_data)\n",
    "\n",
    "indexer = StringIndexer(inputCol=\"sex\", outputCol=\"sexNumericIndex\")\n",
    "master_data = indexer.fit(master_data).transform(master_data)\n",
    "ohe = OneHotEncoder(inputCol=\"sexNumericIndex\", outputCol=\"sexVector\")\n",
    "master_data = ohe.fit(master_data).transform(master_data)\n",
    "\n",
    "indexer = StringIndexer(inputCol=\"address\", outputCol=\"addressNumericIndex\")\n",
    "master_data = indexer.fit(master_data).transform(master_data)\n",
    "ohe = OneHotEncoder(inputCol=\"addressNumericIndex\", outputCol=\"addressVector\")\n",
    "master_data = ohe.fit(master_data).transform(master_data)\n",
    "\n",
    "indexer = StringIndexer(inputCol=\"famsize\", outputCol=\"famsizeNumericIndex\")\n",
    "master_data = indexer.fit(master_data).transform(master_data)\n",
    "ohe = OneHotEncoder(inputCol=\"famsizeNumericIndex\", outputCol=\"famsizeVector\")\n",
    "master_data = ohe.fit(master_data).transform(master_data)\n",
    "\n",
    "indexer = StringIndexer(inputCol=\"Pstatus\", outputCol=\"PstatusNumericIndex\")\n",
    "master_data = indexer.fit(master_data).transform(master_data)\n",
    "ohe = OneHotEncoder(inputCol=\"PstatusNumericIndex\", outputCol=\"PstatusVector\")\n",
    "master_data = ohe.fit(master_data).transform(master_data)\n",
    "\n",
    "indexer = StringIndexer(inputCol=\"schoolsup\", outputCol=\"schoolsupNumericIndex\")\n",
    "master_data = indexer.fit(master_data).transform(master_data)\n",
    "ohe = OneHotEncoder(inputCol=\"schoolsupNumericIndex\", outputCol=\"schoolsupVector\")\n",
    "master_data = ohe.fit(master_data).transform(master_data)\n",
    "\n",
    "indexer = StringIndexer(inputCol=\"famsup\", outputCol=\"famsupNumericIndex\")\n",
    "master_data = indexer.fit(master_data).transform(master_data)\n",
    "ohe = OneHotEncoder(inputCol=\"famsupNumericIndex\", outputCol=\"famsupVector\")\n",
    "master_data = ohe.fit(master_data).transform(master_data)\n",
    "\n",
    "indexer = StringIndexer(inputCol=\"paid\", outputCol=\"paidNumericIndex\")\n",
    "master_data = indexer.fit(master_data).transform(master_data)\n",
    "ohe = OneHotEncoder(inputCol=\"paidNumericIndex\", outputCol=\"paidVector\")\n",
    "master_data = ohe.fit(master_data).transform(master_data)\n",
    "\n",
    "indexer = StringIndexer(inputCol=\"activities\", outputCol=\"activitiesNumericIndex\")\n",
    "master_data = indexer.fit(master_data).transform(master_data)\n",
    "ohe = OneHotEncoder(inputCol=\"activitiesNumericIndex\", outputCol=\"activitiesVector\")\n",
    "master_data = ohe.fit(master_data).transform(master_data)\n",
    "\n",
    "indexer = StringIndexer(inputCol=\"nursery\", outputCol=\"nurseryNumericIndex\")\n",
    "master_data = indexer.fit(master_data).transform(master_data)\n",
    "ohe = OneHotEncoder(inputCol=\"nurseryNumericIndex\", outputCol=\"nurseryVector\")\n",
    "master_data = ohe.fit(master_data).transform(master_data)\n",
    "\n",
    "indexer = StringIndexer(inputCol=\"higher\", outputCol=\"higherNumericIndex\")\n",
    "master_data = indexer.fit(master_data).transform(master_data)\n",
    "ohe = OneHotEncoder(inputCol=\"higherNumericIndex\", outputCol=\"higherVector\")\n",
    "master_data = ohe.fit(master_data).transform(master_data)\n",
    "\n",
    "indexer = StringIndexer(inputCol=\"internet\", outputCol=\"internetNumericIndex\")\n",
    "master_data = indexer.fit(master_data).transform(master_data)\n",
    "ohe = OneHotEncoder(inputCol=\"internetNumericIndex\", outputCol=\"internetVector\")\n",
    "master_data = ohe.fit(master_data).transform(master_data)\n",
    "\n",
    "indexer = StringIndexer(inputCol=\"romantic\", outputCol=\"romanticNumericIndex\")\n",
    "master_data = indexer.fit(master_data).transform(master_data)\n",
    "ohe = OneHotEncoder(inputCol=\"romanticNumericIndex\", outputCol=\"romanticVector\")\n",
    "master_data = ohe.fit(master_data).transform(master_data)\n",
    "\n",
    "indexer = StringIndexer(inputCol=\"Mjob\", outputCol=\"MjobNumericIndex\")\n",
    "master_data = indexer.fit(master_data).transform(master_data)\n",
    "ohe = OneHotEncoder(inputCol=\"MjobNumericIndex\", outputCol=\"MjobVector\")\n",
    "master_data = ohe.fit(master_data).transform(master_data)\n",
    "\n",
    "indexer = StringIndexer(inputCol=\"Fjob\", outputCol=\"FjobNumericIndex\")\n",
    "master_data = indexer.fit(master_data).transform(master_data)\n",
    "ohe = OneHotEncoder(inputCol=\"FjobNumericIndex\", outputCol=\"FjobVector\")\n",
    "master_data = ohe.fit(master_data).transform(master_data)\n",
    "\n",
    "indexer = StringIndexer(inputCol=\"reason\", outputCol=\"reasonNumericIndex\")\n",
    "master_data = indexer.fit(master_data).transform(master_data)\n",
    "ohe = OneHotEncoder(inputCol=\"reasonNumericIndex\", outputCol=\"reasonVector\")\n",
    "master_data = ohe.fit(master_data).transform(master_data)\n",
    "\n",
    "indexer = StringIndexer(inputCol=\"guardian\", outputCol=\"guardianNumericIndex\")\n",
    "master_data = indexer.fit(master_data).transform(master_data)\n",
    "ohe = OneHotEncoder(inputCol=\"guardianNumericIndex\", outputCol=\"guardianVector\")\n",
    "master_data = ohe.fit(master_data).transform(master_data)"
   ]
  },
  {
   "cell_type": "code",
   "execution_count": 28,
   "id": "f142f1b3",
   "metadata": {},
   "outputs": [
    {
     "name": "stdout",
     "output_type": "stream",
     "text": [
      "+---+----+----------+-------+------+--------+--------+------+--------+-----+----+----+------+--------+---+---+---+------+---+---+-------+-------+-------+----+----+--------+--------+----------+--------+----------+---------+--------+---------+------+------------------+-------------+---------------+-------------+-------------------+-------------+-------------------+-------------+-------------------+-------------+---------------------+---------------+------------------+-------------+----------------+-------------+----------------------+----------------+-------------------+-------------+------------------+-------------+--------------------+--------------+--------------------+--------------+----------------+-------------+----------------+-------------+------------------+-------------+--------------------+--------------+\n",
      "| ID|paid|activities|nursery|higher|internet|romantic|famrel|freetime|goout|Dalc|Walc|health|absences| G1| G2| G3|school|sex|age|address|famsize|Pstatus|Medu|Fedu|    Mjob|    Fjob|    reason|guardian|traveltime|studytime|failures|schoolsup|famsup|schoolNumericIndex| schoolVector|sexNumericIndex|    sexVector|addressNumericIndex|addressVector|famsizeNumericIndex|famsizeVector|PstatusNumericIndex|PstatusVector|schoolsupNumericIndex|schoolsupVector|famsupNumericIndex| famsupVector|paidNumericIndex|   paidVector|activitiesNumericIndex|activitiesVector|nurseryNumericIndex|nurseryVector|higherNumericIndex| higherVector|internetNumericIndex|internetVector|romanticNumericIndex|romanticVector|MjobNumericIndex|   MjobVector|FjobNumericIndex|   FjobVector|reasonNumericIndex| reasonVector|guardianNumericIndex|guardianVector|\n",
      "+---+----+----------+-------+------+--------+--------+------+--------+-----+----+----+------+--------+---+---+---+------+---+---+-------+-------+-------+----+----+--------+--------+----------+--------+----------+---------+--------+---------+------+------------------+-------------+---------------+-------------+-------------------+-------------+-------------------+-------------+-------------------+-------------+---------------------+---------------+------------------+-------------+----------------+-------------+----------------------+----------------+-------------------+-------------+------------------+-------------+--------------------+--------------+--------------------+--------------+----------------+-------------+----------------+-------------+------------------+-------------+--------------------+--------------+\n",
      "|  2|  no|        no|     no|   yes|     yes|      no|     5|       3|    3|   1|   1|     3|       4|  5|  5|  6|    GP|  F| 17|      U|    GT3|      T|   1|   1| at_home|   other|    course|  father|         1|        2|       0|       no|   yes|               0.0|(1,[0],[1.0])|            0.0|(1,[0],[1.0])|                0.0|(1,[0],[1.0])|                0.0|(1,[0],[1.0])|                0.0|(1,[0],[1.0])|                  0.0|  (1,[0],[1.0])|               0.0|(1,[0],[1.0])|             0.0|(1,[0],[1.0])|                   1.0|       (1,[],[])|                1.0|    (1,[],[])|               0.0|(1,[0],[1.0])|                 0.0| (1,[0],[1.0])|                 0.0| (1,[0],[1.0])|             2.0|(4,[2],[1.0])|             0.0|(4,[0],[1.0])|               0.0|(3,[0],[1.0])|                 1.0| (2,[1],[1.0])|\n",
      "|  3| yes|        no|    yes|   yes|     yes|      no|     4|       3|    2|   2|   3|     3|      10|  7|  8| 10|    GP|  F| 15|      U|    LE3|      T|   1|   1| at_home|   other|     other|  mother|         1|        2|       3|      yes|    no|               0.0|(1,[0],[1.0])|            0.0|(1,[0],[1.0])|                0.0|(1,[0],[1.0])|                1.0|    (1,[],[])|                0.0|(1,[0],[1.0])|                  1.0|      (1,[],[])|               1.0|    (1,[],[])|             1.0|    (1,[],[])|                   1.0|       (1,[],[])|                0.0|(1,[0],[1.0])|               0.0|(1,[0],[1.0])|                 0.0| (1,[0],[1.0])|                 0.0| (1,[0],[1.0])|             2.0|(4,[2],[1.0])|             0.0|(4,[0],[1.0])|               3.0|    (3,[],[])|                 0.0| (2,[0],[1.0])|\n",
      "|  4| yes|       yes|    yes|   yes|     yes|     yes|     3|       2|    2|   1|   1|     5|       2| 15| 14| 15|    GP|  F| 15|      U|    GT3|      T|   4|   2|  health|services|      home|  mother|         1|        3|       0|       no|   yes|               0.0|(1,[0],[1.0])|            0.0|(1,[0],[1.0])|                0.0|(1,[0],[1.0])|                0.0|(1,[0],[1.0])|                0.0|(1,[0],[1.0])|                  0.0|  (1,[0],[1.0])|               0.0|(1,[0],[1.0])|             1.0|    (1,[],[])|                   0.0|   (1,[0],[1.0])|                0.0|(1,[0],[1.0])|               0.0|(1,[0],[1.0])|                 0.0| (1,[0],[1.0])|                 1.0|     (1,[],[])|             4.0|    (4,[],[])|             1.0|(4,[1],[1.0])|               1.0|(3,[1],[1.0])|                 0.0| (2,[0],[1.0])|\n",
      "|  5| yes|        no|    yes|   yes|      no|      no|     4|       3|    2|   1|   2|     5|       4|  6| 10| 10|    GP|  F| 16|      U|    GT3|      T|   3|   3|   other|   other|      home|  father|         1|        2|       0|       no|   yes|               0.0|(1,[0],[1.0])|            0.0|(1,[0],[1.0])|                0.0|(1,[0],[1.0])|                0.0|(1,[0],[1.0])|                0.0|(1,[0],[1.0])|                  0.0|  (1,[0],[1.0])|               0.0|(1,[0],[1.0])|             1.0|    (1,[],[])|                   1.0|       (1,[],[])|                0.0|(1,[0],[1.0])|               0.0|(1,[0],[1.0])|                 1.0|     (1,[],[])|                 0.0| (1,[0],[1.0])|             0.0|(4,[0],[1.0])|             0.0|(4,[0],[1.0])|               1.0|(3,[1],[1.0])|                 1.0| (2,[1],[1.0])|\n",
      "|  6| yes|       yes|    yes|   yes|     yes|      no|     5|       4|    2|   1|   2|     5|      10| 15| 15| 15|    GP|  M| 16|      U|    LE3|      T|   4|   3|services|   other|reputation|  mother|         1|        2|       0|       no|   yes|               0.0|(1,[0],[1.0])|            1.0|    (1,[],[])|                0.0|(1,[0],[1.0])|                1.0|    (1,[],[])|                0.0|(1,[0],[1.0])|                  0.0|  (1,[0],[1.0])|               0.0|(1,[0],[1.0])|             1.0|    (1,[],[])|                   0.0|   (1,[0],[1.0])|                0.0|(1,[0],[1.0])|               0.0|(1,[0],[1.0])|                 0.0| (1,[0],[1.0])|                 0.0| (1,[0],[1.0])|             1.0|(4,[1],[1.0])|             0.0|(4,[0],[1.0])|               2.0|(3,[2],[1.0])|                 0.0| (2,[0],[1.0])|\n",
      "|  7|  no|        no|    yes|   yes|     yes|      no|     4|       4|    4|   1|   1|     3|       0| 12| 12| 11|    GP|  M| 16|      U|    LE3|      T|   2|   2|   other|   other|      home|  mother|         1|        2|       0|       no|    no|               0.0|(1,[0],[1.0])|            1.0|    (1,[],[])|                0.0|(1,[0],[1.0])|                1.0|    (1,[],[])|                0.0|(1,[0],[1.0])|                  0.0|  (1,[0],[1.0])|               1.0|    (1,[],[])|             0.0|(1,[0],[1.0])|                   1.0|       (1,[],[])|                0.0|(1,[0],[1.0])|               0.0|(1,[0],[1.0])|                 0.0| (1,[0],[1.0])|                 0.0| (1,[0],[1.0])|             0.0|(4,[0],[1.0])|             0.0|(4,[0],[1.0])|               1.0|(3,[1],[1.0])|                 0.0| (2,[0],[1.0])|\n",
      "|  8|  no|        no|    yes|   yes|      no|      no|     4|       1|    4|   1|   1|     1|       6|  6|  5|  6|    GP|  F| 17|      U|    GT3|      A|   4|   4|   other| teacher|      home|  mother|         2|        2|       0|      yes|   yes|               0.0|(1,[0],[1.0])|            0.0|(1,[0],[1.0])|                0.0|(1,[0],[1.0])|                0.0|(1,[0],[1.0])|                1.0|    (1,[],[])|                  1.0|      (1,[],[])|               0.0|(1,[0],[1.0])|             0.0|(1,[0],[1.0])|                   1.0|       (1,[],[])|                0.0|(1,[0],[1.0])|               0.0|(1,[0],[1.0])|                 1.0|     (1,[],[])|                 0.0| (1,[0],[1.0])|             0.0|(4,[0],[1.0])|             2.0|(4,[2],[1.0])|               1.0|(3,[1],[1.0])|                 0.0| (2,[0],[1.0])|\n",
      "| 10| yes|       yes|    yes|   yes|     yes|      no|     5|       5|    1|   1|   1|     5|       0| 14| 15| 15|    GP|  M| 15|      U|    GT3|      T|   3|   4|   other|   other|      home|  mother|         1|        2|       0|       no|   yes|               0.0|(1,[0],[1.0])|            1.0|    (1,[],[])|                0.0|(1,[0],[1.0])|                0.0|(1,[0],[1.0])|                0.0|(1,[0],[1.0])|                  0.0|  (1,[0],[1.0])|               0.0|(1,[0],[1.0])|             1.0|    (1,[],[])|                   0.0|   (1,[0],[1.0])|                0.0|(1,[0],[1.0])|               0.0|(1,[0],[1.0])|                 0.0| (1,[0],[1.0])|                 0.0| (1,[0],[1.0])|             0.0|(4,[0],[1.0])|             0.0|(4,[0],[1.0])|               1.0|(3,[1],[1.0])|                 0.0| (2,[0],[1.0])|\n",
      "| 11| yes|        no|    yes|   yes|     yes|      no|     3|       3|    3|   1|   2|     2|       0| 10|  8|  9|    GP|  F| 15|      U|    GT3|      T|   4|   4| teacher|  health|reputation|  mother|         1|        2|       0|       no|   yes|               0.0|(1,[0],[1.0])|            0.0|(1,[0],[1.0])|                0.0|(1,[0],[1.0])|                0.0|(1,[0],[1.0])|                0.0|(1,[0],[1.0])|                  0.0|  (1,[0],[1.0])|               0.0|(1,[0],[1.0])|             1.0|    (1,[],[])|                   1.0|       (1,[],[])|                0.0|(1,[0],[1.0])|               0.0|(1,[0],[1.0])|                 0.0| (1,[0],[1.0])|                 0.0| (1,[0],[1.0])|             3.0|(4,[3],[1.0])|             4.0|    (4,[],[])|               2.0|(3,[2],[1.0])|                 0.0| (2,[0],[1.0])|\n",
      "| 12|  no|       yes|    yes|   yes|     yes|      no|     5|       2|    2|   1|   1|     4|       4| 10| 12| 12|    GP|  F| 15|      U|    GT3|      T|   2|   1|services|   other|reputation|  father|         3|        3|       0|       no|   yes|               0.0|(1,[0],[1.0])|            0.0|(1,[0],[1.0])|                0.0|(1,[0],[1.0])|                0.0|(1,[0],[1.0])|                0.0|(1,[0],[1.0])|                  0.0|  (1,[0],[1.0])|               0.0|(1,[0],[1.0])|             0.0|(1,[0],[1.0])|                   0.0|   (1,[0],[1.0])|                0.0|(1,[0],[1.0])|               0.0|(1,[0],[1.0])|                 0.0| (1,[0],[1.0])|                 0.0| (1,[0],[1.0])|             1.0|(4,[1],[1.0])|             0.0|(4,[0],[1.0])|               2.0|(3,[2],[1.0])|                 1.0| (2,[1],[1.0])|\n",
      "| 13| yes|       yes|    yes|   yes|     yes|      no|     4|       3|    3|   1|   3|     5|       2| 14| 14| 14|    GP|  M| 15|      U|    LE3|      T|   4|   4|  health|services|    course|  father|         1|        1|       0|       no|   yes|               0.0|(1,[0],[1.0])|            1.0|    (1,[],[])|                0.0|(1,[0],[1.0])|                1.0|    (1,[],[])|                0.0|(1,[0],[1.0])|                  0.0|  (1,[0],[1.0])|               0.0|(1,[0],[1.0])|             1.0|    (1,[],[])|                   0.0|   (1,[0],[1.0])|                0.0|(1,[0],[1.0])|               0.0|(1,[0],[1.0])|                 0.0| (1,[0],[1.0])|                 0.0| (1,[0],[1.0])|             4.0|    (4,[],[])|             1.0|(4,[1],[1.0])|               0.0|(3,[0],[1.0])|                 1.0| (2,[1],[1.0])|\n",
      "| 14| yes|        no|    yes|   yes|     yes|      no|     5|       4|    3|   1|   2|     3|       2| 10| 10| 11|    GP|  M| 15|      U|    GT3|      T|   4|   3| teacher|   other|    course|  mother|         2|        2|       0|       no|   yes|               0.0|(1,[0],[1.0])|            1.0|    (1,[],[])|                0.0|(1,[0],[1.0])|                0.0|(1,[0],[1.0])|                0.0|(1,[0],[1.0])|                  0.0|  (1,[0],[1.0])|               0.0|(1,[0],[1.0])|             1.0|    (1,[],[])|                   1.0|       (1,[],[])|                0.0|(1,[0],[1.0])|               0.0|(1,[0],[1.0])|                 0.0| (1,[0],[1.0])|                 0.0| (1,[0],[1.0])|             3.0|(4,[3],[1.0])|             0.0|(4,[0],[1.0])|               0.0|(3,[0],[1.0])|                 0.0| (2,[0],[1.0])|\n",
      "| 15|  no|        no|    yes|   yes|     yes|     yes|     4|       5|    2|   1|   1|     3|       0| 14| 16| 16|    GP|  M| 15|      U|    GT3|      A|   2|   2|   other|   other|      home|   other|         1|        3|       0|       no|   yes|               0.0|(1,[0],[1.0])|            1.0|    (1,[],[])|                0.0|(1,[0],[1.0])|                0.0|(1,[0],[1.0])|                1.0|    (1,[],[])|                  0.0|  (1,[0],[1.0])|               0.0|(1,[0],[1.0])|             0.0|(1,[0],[1.0])|                   1.0|       (1,[],[])|                0.0|(1,[0],[1.0])|               0.0|(1,[0],[1.0])|                 0.0| (1,[0],[1.0])|                 1.0|     (1,[],[])|             0.0|(4,[0],[1.0])|             0.0|(4,[0],[1.0])|               1.0|(3,[1],[1.0])|                 2.0|     (2,[],[])|\n",
      "| 16|  no|        no|    yes|   yes|     yes|      no|     4|       4|    4|   1|   2|     2|       4| 14| 14| 14|    GP|  F| 16|      U|    GT3|      T|   4|   4|  health|   other|      home|  mother|         1|        1|       0|       no|   yes|               0.0|(1,[0],[1.0])|            0.0|(1,[0],[1.0])|                0.0|(1,[0],[1.0])|                0.0|(1,[0],[1.0])|                0.0|(1,[0],[1.0])|                  0.0|  (1,[0],[1.0])|               0.0|(1,[0],[1.0])|             0.0|(1,[0],[1.0])|                   1.0|       (1,[],[])|                0.0|(1,[0],[1.0])|               0.0|(1,[0],[1.0])|                 0.0| (1,[0],[1.0])|                 0.0| (1,[0],[1.0])|             4.0|    (4,[],[])|             0.0|(4,[0],[1.0])|               1.0|(3,[1],[1.0])|                 0.0| (2,[0],[1.0])|\n",
      "| 17| yes|       yes|    yes|   yes|     yes|      no|     3|       2|    3|   1|   2|     2|       6| 13| 14| 14|    GP|  F| 16|      U|    GT3|      T|   4|   4|services|services|reputation|  mother|         1|        3|       0|       no|   yes|               0.0|(1,[0],[1.0])|            0.0|(1,[0],[1.0])|                0.0|(1,[0],[1.0])|                0.0|(1,[0],[1.0])|                0.0|(1,[0],[1.0])|                  0.0|  (1,[0],[1.0])|               0.0|(1,[0],[1.0])|             1.0|    (1,[],[])|                   0.0|   (1,[0],[1.0])|                0.0|(1,[0],[1.0])|               0.0|(1,[0],[1.0])|                 0.0| (1,[0],[1.0])|                 0.0| (1,[0],[1.0])|             1.0|(4,[1],[1.0])|             1.0|(4,[1],[1.0])|               2.0|(3,[2],[1.0])|                 0.0| (2,[0],[1.0])|\n",
      "| 19|  no|       yes|    yes|   yes|     yes|      no|     5|       5|    5|   2|   4|     5|      16|  6|  5|  5|    GP|  M| 17|      U|    GT3|      T|   3|   2|services|services|    course|  mother|         1|        1|       3|       no|   yes|               0.0|(1,[0],[1.0])|            1.0|    (1,[],[])|                0.0|(1,[0],[1.0])|                0.0|(1,[0],[1.0])|                0.0|(1,[0],[1.0])|                  0.0|  (1,[0],[1.0])|               0.0|(1,[0],[1.0])|             0.0|(1,[0],[1.0])|                   0.0|   (1,[0],[1.0])|                0.0|(1,[0],[1.0])|               0.0|(1,[0],[1.0])|                 0.0| (1,[0],[1.0])|                 0.0| (1,[0],[1.0])|             1.0|(4,[1],[1.0])|             1.0|(4,[1],[1.0])|               0.0|(3,[0],[1.0])|                 0.0| (2,[0],[1.0])|\n",
      "| 20| yes|       yes|    yes|   yes|     yes|      no|     3|       1|    3|   1|   3|     5|       4|  8| 10| 10|    GP|  M| 16|      U|    LE3|      T|   4|   3|  health|   other|      home|  father|         1|        1|       0|       no|    no|               0.0|(1,[0],[1.0])|            1.0|    (1,[],[])|                0.0|(1,[0],[1.0])|                1.0|    (1,[],[])|                0.0|(1,[0],[1.0])|                  0.0|  (1,[0],[1.0])|               1.0|    (1,[],[])|             1.0|    (1,[],[])|                   0.0|   (1,[0],[1.0])|                0.0|(1,[0],[1.0])|               0.0|(1,[0],[1.0])|                 0.0| (1,[0],[1.0])|                 0.0| (1,[0],[1.0])|             4.0|    (4,[],[])|             0.0|(4,[0],[1.0])|               1.0|(3,[1],[1.0])|                 1.0| (2,[1],[1.0])|\n",
      "| 21|  no|        no|    yes|   yes|     yes|      no|     4|       4|    1|   1|   1|     1|       0| 13| 14| 15|    GP|  M| 15|      U|    GT3|      T|   4|   3| teacher|   other|reputation|  mother|         1|        2|       0|       no|    no|               0.0|(1,[0],[1.0])|            1.0|    (1,[],[])|                0.0|(1,[0],[1.0])|                0.0|(1,[0],[1.0])|                0.0|(1,[0],[1.0])|                  0.0|  (1,[0],[1.0])|               1.0|    (1,[],[])|             0.0|(1,[0],[1.0])|                   1.0|       (1,[],[])|                0.0|(1,[0],[1.0])|               0.0|(1,[0],[1.0])|                 0.0| (1,[0],[1.0])|                 0.0| (1,[0],[1.0])|             3.0|(4,[3],[1.0])|             0.0|(4,[0],[1.0])|               2.0|(3,[2],[1.0])|                 0.0| (2,[0],[1.0])|\n",
      "| 22| yes|        no|    yes|   yes|     yes|      no|     5|       4|    2|   1|   1|     5|       0| 12| 15| 15|    GP|  M| 15|      U|    GT3|      T|   4|   4|  health|  health|     other|  father|         1|        1|       0|       no|   yes|               0.0|(1,[0],[1.0])|            1.0|    (1,[],[])|                0.0|(1,[0],[1.0])|                0.0|(1,[0],[1.0])|                0.0|(1,[0],[1.0])|                  0.0|  (1,[0],[1.0])|               0.0|(1,[0],[1.0])|             1.0|    (1,[],[])|                   1.0|       (1,[],[])|                0.0|(1,[0],[1.0])|               0.0|(1,[0],[1.0])|                 0.0| (1,[0],[1.0])|                 0.0| (1,[0],[1.0])|             4.0|    (4,[],[])|             4.0|    (4,[],[])|               3.0|    (3,[],[])|                 1.0| (2,[1],[1.0])|\n",
      "| 23|  no|       yes|    yes|   yes|     yes|      no|     4|       5|    1|   1|   3|     5|       2| 15| 15| 16|    GP|  M| 16|      U|    LE3|      T|   4|   2| teacher|   other|    course|  mother|         1|        2|       0|       no|    no|               0.0|(1,[0],[1.0])|            1.0|    (1,[],[])|                0.0|(1,[0],[1.0])|                1.0|    (1,[],[])|                0.0|(1,[0],[1.0])|                  0.0|  (1,[0],[1.0])|               1.0|    (1,[],[])|             0.0|(1,[0],[1.0])|                   0.0|   (1,[0],[1.0])|                0.0|(1,[0],[1.0])|               0.0|(1,[0],[1.0])|                 0.0| (1,[0],[1.0])|                 0.0| (1,[0],[1.0])|             3.0|(4,[3],[1.0])|             0.0|(4,[0],[1.0])|               0.0|(3,[0],[1.0])|                 0.0| (2,[0],[1.0])|\n",
      "+---+----+----------+-------+------+--------+--------+------+--------+-----+----+----+------+--------+---+---+---+------+---+---+-------+-------+-------+----+----+--------+--------+----------+--------+----------+---------+--------+---------+------+------------------+-------------+---------------+-------------+-------------------+-------------+-------------------+-------------+-------------------+-------------+---------------------+---------------+------------------+-------------+----------------+-------------+----------------------+----------------+-------------------+-------------+------------------+-------------+--------------------+--------------+--------------------+--------------+----------------+-------------+----------------+-------------+------------------+-------------+--------------------+--------------+\n",
      "only showing top 20 rows\n",
      "\n"
     ]
    }
   ],
   "source": [
    "master_data.show()"
   ]
  },
  {
   "cell_type": "code",
   "execution_count": 29,
   "id": "f2875a47",
   "metadata": {},
   "outputs": [
    {
     "name": "stderr",
     "output_type": "stream",
     "text": [
      "                                                                                \r"
     ]
    },
    {
     "data": {
      "text/plain": [
       "DataFrame[summary: string, ID: string, paid: string, activities: string, nursery: string, higher: string, internet: string, romantic: string, famrel: string, freetime: string, goout: string, Dalc: string, Walc: string, health: string, absences: string, G1: string, G2: string, G3: string, school: string, sex: string, age: string, address: string, famsize: string, Pstatus: string, Medu: string, Fedu: string, Mjob: string, Fjob: string, reason: string, guardian: string, traveltime: string, studytime: string, failures: string, schoolsup: string, famsup: string, schoolNumericIndex: string, sexNumericIndex: string, addressNumericIndex: string, famsizeNumericIndex: string, PstatusNumericIndex: string, schoolsupNumericIndex: string, famsupNumericIndex: string, paidNumericIndex: string, activitiesNumericIndex: string, nurseryNumericIndex: string, higherNumericIndex: string, internetNumericIndex: string, romanticNumericIndex: string, MjobNumericIndex: string, FjobNumericIndex: string, reasonNumericIndex: string, guardianNumericIndex: string]"
      ]
     },
     "execution_count": 29,
     "metadata": {},
     "output_type": "execute_result"
    }
   ],
   "source": [
    "#Viewing data types to verify data types\n",
    "master_data.describe()"
   ]
  },
  {
   "cell_type": "code",
   "execution_count": 30,
   "id": "e0f887d5",
   "metadata": {},
   "outputs": [],
   "source": [
    "#updating datatypes \n",
    "from pyspark.sql.types import IntegerType\n",
    "\n",
    "column_list_to_int = (\"ID\", \"age\", \"Medu\", \"Fedu\", \"traveltime\", \"studytime\", \"failures\", \"famrel\", \"freetime\", \"goout\", \"Dalc\", \"Walc\", \"health\", \"absences\", \"G1\", \"G2\", \"G3\")\n",
    "\n",
    "for z in column_list_to_int:\n",
    "    master_data = master_data.withColumn(z, master_data[z].cast(IntegerType()))"
   ]
  },
  {
   "cell_type": "code",
   "execution_count": 31,
   "id": "f6d616de",
   "metadata": {},
   "outputs": [
    {
     "data": {
      "text/plain": [
       "[('ID', 'int'),\n",
       " ('paid', 'string'),\n",
       " ('activities', 'string'),\n",
       " ('nursery', 'string'),\n",
       " ('higher', 'string'),\n",
       " ('internet', 'string'),\n",
       " ('romantic', 'string'),\n",
       " ('famrel', 'int'),\n",
       " ('freetime', 'int'),\n",
       " ('goout', 'int'),\n",
       " ('Dalc', 'int'),\n",
       " ('Walc', 'int'),\n",
       " ('health', 'int'),\n",
       " ('absences', 'int'),\n",
       " ('G1', 'int'),\n",
       " ('G2', 'int'),\n",
       " ('G3', 'int'),\n",
       " ('school', 'string'),\n",
       " ('sex', 'string'),\n",
       " ('age', 'int'),\n",
       " ('address', 'string'),\n",
       " ('famsize', 'string'),\n",
       " ('Pstatus', 'string'),\n",
       " ('Medu', 'int'),\n",
       " ('Fedu', 'int'),\n",
       " ('Mjob', 'string'),\n",
       " ('Fjob', 'string'),\n",
       " ('reason', 'string'),\n",
       " ('guardian', 'string'),\n",
       " ('traveltime', 'int'),\n",
       " ('studytime', 'int'),\n",
       " ('failures', 'int'),\n",
       " ('schoolsup', 'string'),\n",
       " ('famsup', 'string'),\n",
       " ('schoolNumericIndex', 'double'),\n",
       " ('schoolVector', 'vector'),\n",
       " ('sexNumericIndex', 'double'),\n",
       " ('sexVector', 'vector'),\n",
       " ('addressNumericIndex', 'double'),\n",
       " ('addressVector', 'vector'),\n",
       " ('famsizeNumericIndex', 'double'),\n",
       " ('famsizeVector', 'vector'),\n",
       " ('PstatusNumericIndex', 'double'),\n",
       " ('PstatusVector', 'vector'),\n",
       " ('schoolsupNumericIndex', 'double'),\n",
       " ('schoolsupVector', 'vector'),\n",
       " ('famsupNumericIndex', 'double'),\n",
       " ('famsupVector', 'vector'),\n",
       " ('paidNumericIndex', 'double'),\n",
       " ('paidVector', 'vector'),\n",
       " ('activitiesNumericIndex', 'double'),\n",
       " ('activitiesVector', 'vector'),\n",
       " ('nurseryNumericIndex', 'double'),\n",
       " ('nurseryVector', 'vector'),\n",
       " ('higherNumericIndex', 'double'),\n",
       " ('higherVector', 'vector'),\n",
       " ('internetNumericIndex', 'double'),\n",
       " ('internetVector', 'vector'),\n",
       " ('romanticNumericIndex', 'double'),\n",
       " ('romanticVector', 'vector'),\n",
       " ('MjobNumericIndex', 'double'),\n",
       " ('MjobVector', 'vector'),\n",
       " ('FjobNumericIndex', 'double'),\n",
       " ('FjobVector', 'vector'),\n",
       " ('reasonNumericIndex', 'double'),\n",
       " ('reasonVector', 'vector'),\n",
       " ('guardianNumericIndex', 'double'),\n",
       " ('guardianVector', 'vector')]"
      ]
     },
     "execution_count": 31,
     "metadata": {},
     "output_type": "execute_result"
    }
   ],
   "source": [
    "master_data.dtypes"
   ]
  },
  {
   "cell_type": "code",
   "execution_count": 32,
   "id": "1f752d80",
   "metadata": {},
   "outputs": [],
   "source": [
    "#FINDING OUTLIERS\n",
    "\n",
    "columns_list_outliers = (\"Dalc\", \"absences\", \"studytime\", \"freetime\")\n",
    "\n",
    "bounds = {}\n",
    "for y in columns_list_outliers:\n",
    "    quantiles = master_data.approxQuantile(y,[0.25,0.75],0.05)\n",
    "    IQR= quantiles[1]-quantiles[0]\n",
    "    \n",
    "    bounds[y]= [quantiles[0] - 1.5 * IQR, quantiles[1] + 1.5 * IQR]"
   ]
  },
  {
   "cell_type": "code",
   "execution_count": 33,
   "id": "cb7bee0f",
   "metadata": {},
   "outputs": [
    {
     "data": {
      "text/plain": [
       "{'Dalc': [-0.5, 3.5],\n",
       " 'absences': [-10.5, 17.5],\n",
       " 'studytime': [-0.5, 3.5],\n",
       " 'freetime': [1.5, 5.5]}"
      ]
     },
     "execution_count": 33,
     "metadata": {},
     "output_type": "execute_result"
    }
   ],
   "source": [
    "bounds"
   ]
  },
  {
   "cell_type": "code",
   "execution_count": 34,
   "id": "15d9c6d6",
   "metadata": {},
   "outputs": [
    {
     "name": "stdout",
     "output_type": "stream",
     "text": [
      "+---+------+----------+-----------+----------+\n",
      "| ID|Dalc_o|absences_o|studytime_o|freetime_o|\n",
      "+---+------+----------+-----------+----------+\n",
      "|  2| false|     false|      false|     false|\n",
      "|  3| false|     false|      false|     false|\n",
      "|  4| false|     false|      false|     false|\n",
      "|  5| false|     false|      false|     false|\n",
      "|  6| false|     false|      false|     false|\n",
      "|  7| false|     false|      false|     false|\n",
      "|  8| false|     false|      false|      true|\n",
      "| 10| false|     false|      false|     false|\n",
      "| 11| false|     false|      false|     false|\n",
      "| 12| false|     false|      false|     false|\n",
      "| 13| false|     false|      false|     false|\n",
      "| 14| false|     false|      false|     false|\n",
      "| 15| false|     false|      false|     false|\n",
      "| 16| false|     false|      false|     false|\n",
      "| 17| false|     false|      false|     false|\n",
      "| 19| false|     false|      false|     false|\n",
      "| 20| false|     false|      false|      true|\n",
      "| 21| false|     false|      false|     false|\n",
      "| 22| false|     false|      false|     false|\n",
      "| 23| false|     false|      false|     false|\n",
      "+---+------+----------+-----------+----------+\n",
      "only showing top 20 rows\n",
      "\n"
     ]
    }
   ],
   "source": [
    "outliers = master_data.select(*[\"ID\"] + [\n",
    "    (\n",
    "        (master_data[c] < bounds[c][0]) |\n",
    "        (master_data[c] > bounds[c][1])\n",
    "    ).alias(c+'_o') for c in columns_list_outliers\n",
    "])\n",
    "outliers.show()"
   ]
  },
  {
   "cell_type": "code",
   "execution_count": 35,
   "id": "3c338096",
   "metadata": {},
   "outputs": [
    {
     "name": "stdout",
     "output_type": "stream",
     "text": [
      "+---+----+\n",
      "| ID|Dalc|\n",
      "+---+----+\n",
      "| 30|   5|\n",
      "| 55|   4|\n",
      "| 62|   5|\n",
      "| 67|   5|\n",
      "|101|   5|\n",
      "|160|   4|\n",
      "|176|   4|\n",
      "|193|   4|\n",
      "|212|   4|\n",
      "|224|   5|\n",
      "|229|   4|\n",
      "|237|   5|\n",
      "|328|   5|\n",
      "|350|   5|\n",
      "|370|   4|\n",
      "|385|   4|\n",
      "+---+----+\n",
      "\n",
      "+---+--------+\n",
      "| ID|absences|\n",
      "+---+--------+\n",
      "| 41|      25|\n",
      "| 75|      54|\n",
      "| 90|      18|\n",
      "|104|      26|\n",
      "|124|      18|\n",
      "|184|      56|\n",
      "|199|      24|\n",
      "|204|      18|\n",
      "|206|      28|\n",
      "|217|      22|\n",
      "|235|      18|\n",
      "|238|      20|\n",
      "|261|      21|\n",
      "|277|      75|\n",
      "|278|      22|\n",
      "|281|      30|\n",
      "|282|      19|\n",
      "|305|      20|\n",
      "|308|      38|\n",
      "|310|      18|\n",
      "|312|      20|\n",
      "|314|      22|\n",
      "|316|      40|\n",
      "|321|      23|\n",
      "+---+--------+\n",
      "\n",
      "+---+---------+\n",
      "| ID|studytime|\n",
      "+---+---------+\n",
      "| 48|        4|\n",
      "| 67|        4|\n",
      "| 68|        4|\n",
      "| 70|        4|\n",
      "| 71|        4|\n",
      "| 72|        4|\n",
      "| 77|        4|\n",
      "| 78|        4|\n",
      "| 95|        4|\n",
      "| 96|        4|\n",
      "| 99|    10000|\n",
      "|106|        4|\n",
      "|107|        4|\n",
      "|109|        4|\n",
      "|122|        4|\n",
      "|141|        4|\n",
      "|205|        4|\n",
      "|211|        4|\n",
      "|257|        4|\n",
      "|260|        4|\n",
      "|272|        4|\n",
      "|283|        4|\n",
      "|294|        4|\n",
      "|299|        4|\n",
      "|304|        4|\n",
      "|331|        4|\n",
      "|335|        4|\n",
      "|339|        4|\n",
      "+---+---------+\n",
      "\n",
      "+---+--------+\n",
      "| ID|freetime|\n",
      "+---+--------+\n",
      "|  8|       1|\n",
      "| 20|       1|\n",
      "| 49|    3000|\n",
      "| 69|       1|\n",
      "| 90|       1|\n",
      "| 96|       1|\n",
      "|107|       1|\n",
      "|112|       1|\n",
      "|113|       1|\n",
      "|169|       1|\n",
      "|190|       1|\n",
      "|239|       1|\n",
      "|261|       1|\n",
      "|277|       1|\n",
      "|294|       1|\n",
      "|302|       1|\n",
      "|315|       1|\n",
      "|316|       1|\n",
      "|379|       1|\n",
      "|390|       1|\n",
      "+---+--------+\n",
      "\n"
     ]
    }
   ],
   "source": [
    "master_data = master_data.join(outliers, on =\"ID\")\n",
    "master_data.filter(\"Dalc_o\").select(\"ID\", \"Dalc\").show(379)\n",
    "master_data.filter(\"absences_o\").select(\"ID\", \"absences\").show(379)\n",
    "master_data.filter(\"studytime_o\").select(\"ID\", \"studytime\").show(379)\n",
    "master_data.filter(\"freetime_o\").select(\"ID\", \"freetime\").show(379)"
   ]
  },
  {
   "cell_type": "code",
   "execution_count": 36,
   "id": "ed651836",
   "metadata": {},
   "outputs": [],
   "source": [
    "#discarding outliers\n",
    "master_data = master_data.filter((master_data.absences < 18) & (master_data.studytime < 5) & (master_data.freetime < 6))"
   ]
  },
  {
   "cell_type": "code",
   "execution_count": 37,
   "id": "a8eab6c5",
   "metadata": {},
   "outputs": [
    {
     "name": "stdout",
     "output_type": "stream",
     "text": [
      "+-------+------------------+\n",
      "|summary|                ID|\n",
      "+-------+------------------+\n",
      "|  count|               353|\n",
      "|   mean|196.07365439093485|\n",
      "| stddev| 113.8590397081199|\n",
      "|    min|                 2|\n",
      "|    max|               394|\n",
      "+-------+------------------+\n",
      "\n"
     ]
    }
   ],
   "source": [
    "master_data.select(\"ID\").describe().show()"
   ]
  },
  {
   "cell_type": "code",
   "execution_count": 38,
   "id": "5c2f3050",
   "metadata": {},
   "outputs": [
    {
     "data": {
      "text/plain": [
       "[('ID', 'int'),\n",
       " ('paid', 'string'),\n",
       " ('activities', 'string'),\n",
       " ('nursery', 'string'),\n",
       " ('higher', 'string'),\n",
       " ('internet', 'string'),\n",
       " ('romantic', 'string'),\n",
       " ('famrel', 'int'),\n",
       " ('freetime', 'int'),\n",
       " ('goout', 'int'),\n",
       " ('Dalc', 'int'),\n",
       " ('Walc', 'int'),\n",
       " ('health', 'int'),\n",
       " ('absences', 'int'),\n",
       " ('G1', 'int'),\n",
       " ('G2', 'int'),\n",
       " ('G3', 'int'),\n",
       " ('school', 'string'),\n",
       " ('sex', 'string'),\n",
       " ('age', 'int'),\n",
       " ('address', 'string'),\n",
       " ('famsize', 'string'),\n",
       " ('Pstatus', 'string'),\n",
       " ('Medu', 'int'),\n",
       " ('Fedu', 'int'),\n",
       " ('Mjob', 'string'),\n",
       " ('Fjob', 'string'),\n",
       " ('reason', 'string'),\n",
       " ('guardian', 'string'),\n",
       " ('traveltime', 'int'),\n",
       " ('studytime', 'int'),\n",
       " ('failures', 'int'),\n",
       " ('schoolsup', 'string'),\n",
       " ('famsup', 'string'),\n",
       " ('schoolNumericIndex', 'double'),\n",
       " ('schoolVector', 'vector'),\n",
       " ('sexNumericIndex', 'double'),\n",
       " ('sexVector', 'vector'),\n",
       " ('addressNumericIndex', 'double'),\n",
       " ('addressVector', 'vector'),\n",
       " ('famsizeNumericIndex', 'double'),\n",
       " ('famsizeVector', 'vector'),\n",
       " ('PstatusNumericIndex', 'double'),\n",
       " ('PstatusVector', 'vector'),\n",
       " ('schoolsupNumericIndex', 'double'),\n",
       " ('schoolsupVector', 'vector'),\n",
       " ('famsupNumericIndex', 'double'),\n",
       " ('famsupVector', 'vector'),\n",
       " ('paidNumericIndex', 'double'),\n",
       " ('paidVector', 'vector'),\n",
       " ('activitiesNumericIndex', 'double'),\n",
       " ('activitiesVector', 'vector'),\n",
       " ('nurseryNumericIndex', 'double'),\n",
       " ('nurseryVector', 'vector'),\n",
       " ('higherNumericIndex', 'double'),\n",
       " ('higherVector', 'vector'),\n",
       " ('internetNumericIndex', 'double'),\n",
       " ('internetVector', 'vector'),\n",
       " ('romanticNumericIndex', 'double'),\n",
       " ('romanticVector', 'vector'),\n",
       " ('MjobNumericIndex', 'double'),\n",
       " ('MjobVector', 'vector'),\n",
       " ('FjobNumericIndex', 'double'),\n",
       " ('FjobVector', 'vector'),\n",
       " ('reasonNumericIndex', 'double'),\n",
       " ('reasonVector', 'vector'),\n",
       " ('guardianNumericIndex', 'double'),\n",
       " ('guardianVector', 'vector'),\n",
       " ('Dalc_o', 'boolean'),\n",
       " ('absences_o', 'boolean'),\n",
       " ('studytime_o', 'boolean'),\n",
       " ('freetime_o', 'boolean')]"
      ]
     },
     "execution_count": 38,
     "metadata": {},
     "output_type": "execute_result"
    }
   ],
   "source": [
    "master_data.dtypes"
   ]
  },
  {
   "cell_type": "code",
   "execution_count": 39,
   "id": "6b95c194",
   "metadata": {},
   "outputs": [
    {
     "data": {
      "text/plain": [
       "[('ID', 'int'),\n",
       " ('paid', 'string'),\n",
       " ('activities', 'string'),\n",
       " ('nursery', 'string'),\n",
       " ('higher', 'string'),\n",
       " ('internet', 'string'),\n",
       " ('romantic', 'string'),\n",
       " ('famrel', 'int'),\n",
       " ('freetime', 'int'),\n",
       " ('goout', 'int'),\n",
       " ('Dalc', 'int'),\n",
       " ('Walc', 'int'),\n",
       " ('health', 'int'),\n",
       " ('absences', 'int'),\n",
       " ('G1', 'int'),\n",
       " ('G2', 'int'),\n",
       " ('G3', 'int'),\n",
       " ('school', 'string'),\n",
       " ('sex', 'string'),\n",
       " ('age', 'int'),\n",
       " ('address', 'string'),\n",
       " ('famsize', 'string'),\n",
       " ('Pstatus', 'string'),\n",
       " ('Medu', 'int'),\n",
       " ('Fedu', 'int'),\n",
       " ('Mjob', 'string'),\n",
       " ('Fjob', 'string'),\n",
       " ('reason', 'string'),\n",
       " ('guardian', 'string'),\n",
       " ('traveltime', 'int'),\n",
       " ('studytime', 'int'),\n",
       " ('failures', 'int'),\n",
       " ('schoolsup', 'string'),\n",
       " ('famsup', 'string'),\n",
       " ('schoolNumericIndex', 'double'),\n",
       " ('schoolVector', 'vector'),\n",
       " ('sexNumericIndex', 'double'),\n",
       " ('sexVector', 'vector'),\n",
       " ('addressNumericIndex', 'double'),\n",
       " ('addressVector', 'vector'),\n",
       " ('famsizeNumericIndex', 'double'),\n",
       " ('famsizeVector', 'vector'),\n",
       " ('PstatusNumericIndex', 'double'),\n",
       " ('PstatusVector', 'vector'),\n",
       " ('schoolsupNumericIndex', 'double'),\n",
       " ('schoolsupVector', 'vector'),\n",
       " ('famsupNumericIndex', 'double'),\n",
       " ('famsupVector', 'vector'),\n",
       " ('paidNumericIndex', 'double'),\n",
       " ('paidVector', 'vector'),\n",
       " ('activitiesNumericIndex', 'double'),\n",
       " ('activitiesVector', 'vector'),\n",
       " ('nurseryNumericIndex', 'double'),\n",
       " ('nurseryVector', 'vector'),\n",
       " ('higherNumericIndex', 'double'),\n",
       " ('higherVector', 'vector'),\n",
       " ('internetNumericIndex', 'double'),\n",
       " ('internetVector', 'vector'),\n",
       " ('romanticNumericIndex', 'double'),\n",
       " ('romanticVector', 'vector'),\n",
       " ('MjobNumericIndex', 'double'),\n",
       " ('MjobVector', 'vector'),\n",
       " ('FjobNumericIndex', 'double'),\n",
       " ('FjobVector', 'vector'),\n",
       " ('reasonNumericIndex', 'double'),\n",
       " ('reasonVector', 'vector'),\n",
       " ('guardianNumericIndex', 'double'),\n",
       " ('guardianVector', 'vector'),\n",
       " ('Dalc_o', 'boolean'),\n",
       " ('absences_o', 'boolean'),\n",
       " ('studytime_o', 'boolean'),\n",
       " ('freetime_o', 'boolean'),\n",
       " ('features', 'vector')]"
      ]
     },
     "execution_count": 39,
     "metadata": {},
     "output_type": "execute_result"
    }
   ],
   "source": [
    "#making our column list of features\n",
    "\n",
    "#importing VectorAssembler and Vectors\n",
    "from pyspark.ml.linalg import Vectors\n",
    "from pyspark.ml.feature import VectorAssembler\n",
    "\n",
    "features_vector_list = ('schoolVector', 'sexVector', 'addressVector', 'famsizeVector', 'PstatusVector', 'schoolsupVector', 'famsupVector', 'paidVector', 'activitiesVector', 'nurseryVector', 'higherVector', 'internetVector', 'romanticVector', 'MjobVector', 'FjobVector', 'reasonVector', 'guardianVector', 'famrel', 'freetime', 'goout', 'Dalc', 'Walc', 'health', 'absences', 'age', 'Medu', 'Fedu', 'traveltime', 'studytime', 'failures')\n",
    "assembler = VectorAssembler(inputCols = features_vector_list, outputCol = \"features\")\n",
    "\n",
    "mining_data_output = assembler.transform(master_data)\n",
    "mining_data_output.dtypes\n"
   ]
  },
  {
   "cell_type": "code",
   "execution_count": 40,
   "id": "aacbcbd3",
   "metadata": {},
   "outputs": [
    {
     "name": "stdout",
     "output_type": "stream",
     "text": [
      "ChiSqSelector output with top 10 features selected\n",
      "+---+----+----------+-------+------+--------+--------+------+--------+-----+----+----+------+--------+---+---+---+------+---+---+-------+-------+-------+----+----+--------+--------+----------+--------+----------+---------+--------+---------+------+------------------+-------------+---------------+-------------+-------------------+-------------+-------------------+-------------+-------------------+-------------+---------------------+---------------+------------------+-------------+----------------+-------------+----------------------+----------------+-------------------+-------------+------------------+-------------+--------------------+--------------+--------------------+--------------+----------------+-------------+----------------+-------------+------------------+-------------+--------------------+--------------+------+----------+-----------+----------+--------------------+--------------------+\n",
      "| ID|paid|activities|nursery|higher|internet|romantic|famrel|freetime|goout|Dalc|Walc|health|absences| G1| G2| G3|school|sex|age|address|famsize|Pstatus|Medu|Fedu|    Mjob|    Fjob|    reason|guardian|traveltime|studytime|failures|schoolsup|famsup|schoolNumericIndex| schoolVector|sexNumericIndex|    sexVector|addressNumericIndex|addressVector|famsizeNumericIndex|famsizeVector|PstatusNumericIndex|PstatusVector|schoolsupNumericIndex|schoolsupVector|famsupNumericIndex| famsupVector|paidNumericIndex|   paidVector|activitiesNumericIndex|activitiesVector|nurseryNumericIndex|nurseryVector|higherNumericIndex| higherVector|internetNumericIndex|internetVector|romanticNumericIndex|romanticVector|MjobNumericIndex|   MjobVector|FjobNumericIndex|   FjobVector|reasonNumericIndex| reasonVector|guardianNumericIndex|guardianVector|Dalc_o|absences_o|studytime_o|freetime_o|            features|    selectedFeatures|\n",
      "+---+----+----------+-------+------+--------+--------+------+--------+-----+----+----+------+--------+---+---+---+------+---+---+-------+-------+-------+----+----+--------+--------+----------+--------+----------+---------+--------+---------+------+------------------+-------------+---------------+-------------+-------------------+-------------+-------------------+-------------+-------------------+-------------+---------------------+---------------+------------------+-------------+----------------+-------------+----------------------+----------------+-------------------+-------------+------------------+-------------+--------------------+--------------+--------------------+--------------+----------------+-------------+----------------+-------------+------------------+-------------+--------------------+--------------+------+----------+-----------+----------+--------------------+--------------------+\n",
      "|148| yes|        no|     no|   yes|     yes|      no|     4|       3|    2|   1|   1|     5|       2| 10| 11| 11|    GP|  F| 15|      U|    GT3|      T|   1|   2| at_home|   other|    course|  mother|         1|        2|       0|       no|   yes|               0.0|(1,[0],[1.0])|            0.0|(1,[0],[1.0])|                0.0|(1,[0],[1.0])|                0.0|(1,[0],[1.0])|                0.0|(1,[0],[1.0])|                  0.0|  (1,[0],[1.0])|               0.0|(1,[0],[1.0])|             1.0|    (1,[],[])|                   1.0|       (1,[],[])|                1.0|    (1,[],[])|               0.0|(1,[0],[1.0])|                 0.0| (1,[0],[1.0])|                 0.0| (1,[0],[1.0])|             2.0|(4,[2],[1.0])|             0.0|(4,[0],[1.0])|               0.0|(3,[0],[1.0])|                 0.0| (2,[0],[1.0])| false|     false|      false|     false|[1.0,1.0,1.0,1.0,...|[1.0,1.0,0.0,1.0,...|\n",
      "|243|  no|       yes|     no|   yes|     yes|      no|     5|       4|    5|   1|   1|     3|       0|  6|  0|  0|    GP|  M| 16|      U|    LE3|      T|   4|   3| teacher|   other|    course|  mother|         1|        1|       0|       no|    no|               0.0|(1,[0],[1.0])|            1.0|    (1,[],[])|                0.0|(1,[0],[1.0])|                1.0|    (1,[],[])|                0.0|(1,[0],[1.0])|                  0.0|  (1,[0],[1.0])|               1.0|    (1,[],[])|             0.0|(1,[0],[1.0])|                   0.0|   (1,[0],[1.0])|                1.0|    (1,[],[])|               0.0|(1,[0],[1.0])|                 0.0| (1,[0],[1.0])|                 0.0| (1,[0],[1.0])|             3.0|(4,[3],[1.0])|             0.0|(4,[0],[1.0])|               0.0|(3,[0],[1.0])|                 0.0| (2,[0],[1.0])| false|     false|      false|     false|(39,[0,2,4,5,7,8,...|(10,[0,1,2,3,8],[...|\n",
      "|392|  no|        no|     no|   yes|     yes|      no|     2|       4|    5|   3|   4|     2|       3| 14| 16| 16|    MS|  M| 17|      U|    LE3|      T|   3|   1|services|services|    course|  mother|         2|        1|       0|       no|    no|               1.0|    (1,[],[])|            1.0|    (1,[],[])|                0.0|(1,[0],[1.0])|                1.0|    (1,[],[])|                0.0|(1,[0],[1.0])|                  0.0|  (1,[0],[1.0])|               1.0|    (1,[],[])|             0.0|(1,[0],[1.0])|                   1.0|       (1,[],[])|                1.0|    (1,[],[])|               0.0|(1,[0],[1.0])|                 0.0| (1,[0],[1.0])|                 0.0| (1,[0],[1.0])|             1.0|(4,[1],[1.0])|             1.0|(4,[1],[1.0])|               0.0|(3,[0],[1.0])|                 0.0| (2,[0],[1.0])| false|     false|      false|     false|(39,[2,4,5,7,10,1...|(10,[0,1,2,3,4,7,...|\n",
      "| 31| yes|        no|     no|   yes|     yes|      no|     5|       4|    2|   3|   4|     5|       0|  9| 11| 12|    GP|  M| 15|      U|    GT3|      T|   4|   4|  health|services|      home|  mother|         1|        2|       0|       no|   yes|               0.0|(1,[0],[1.0])|            1.0|    (1,[],[])|                0.0|(1,[0],[1.0])|                0.0|(1,[0],[1.0])|                0.0|(1,[0],[1.0])|                  0.0|  (1,[0],[1.0])|               0.0|(1,[0],[1.0])|             1.0|    (1,[],[])|                   1.0|       (1,[],[])|                1.0|    (1,[],[])|               0.0|(1,[0],[1.0])|                 0.0| (1,[0],[1.0])|                 0.0| (1,[0],[1.0])|             4.0|    (4,[],[])|             1.0|(4,[1],[1.0])|               1.0|(3,[1],[1.0])|                 0.0| (2,[0],[1.0])| false|     false|      false|     false|(39,[0,2,3,4,5,6,...|(10,[0,1,3,8],[1....|\n",
      "| 85|  no|       yes|     no|   yes|     yes|      no|     4|       3|    2|   2|   3|     4|       2|  9| 10| 10|    GP|  F| 15|      U|    GT3|      T|   1|   1|   other|   other|      home|  father|         1|        2|       0|       no|   yes|               0.0|(1,[0],[1.0])|            0.0|(1,[0],[1.0])|                0.0|(1,[0],[1.0])|                0.0|(1,[0],[1.0])|                0.0|(1,[0],[1.0])|                  0.0|  (1,[0],[1.0])|               0.0|(1,[0],[1.0])|             0.0|(1,[0],[1.0])|                   0.0|   (1,[0],[1.0])|                1.0|    (1,[],[])|               0.0|(1,[0],[1.0])|                 0.0| (1,[0],[1.0])|                 0.0| (1,[0],[1.0])|             0.0|(4,[0],[1.0])|             0.0|(4,[0],[1.0])|               1.0|(3,[1],[1.0])|                 1.0| (2,[1],[1.0])| false|     false|      false|     false|[1.0,1.0,1.0,1.0,...|[1.0,1.0,1.0,1.0,...|\n",
      "|137|  no|        no|    yes|   yes|      no|      no|     5|       4|    5|   2|   4|     5|       0| 10|  0|  0|    GP|  M| 17|      R|    GT3|      T|   3|   4| at_home|   other|    course|  mother|         3|        2|       0|       no|    no|               0.0|(1,[0],[1.0])|            1.0|    (1,[],[])|                1.0|    (1,[],[])|                0.0|(1,[0],[1.0])|                0.0|(1,[0],[1.0])|                  0.0|  (1,[0],[1.0])|               1.0|    (1,[],[])|             0.0|(1,[0],[1.0])|                   1.0|       (1,[],[])|                0.0|(1,[0],[1.0])|               0.0|(1,[0],[1.0])|                 1.0|     (1,[],[])|                 0.0| (1,[0],[1.0])|             2.0|(4,[2],[1.0])|             0.0|(4,[0],[1.0])|               0.0|(3,[0],[1.0])|                 0.0| (2,[0],[1.0])| false|     false|      false|     false|(39,[0,3,4,5,7,9,...|(10,[1,2,3,5,8],[...|\n",
      "|251|  no|        no|    yes|    no|     yes|      no|     4|       4|    5|   2|   4|     5|       0|  6|  8|  8|    GP|  M| 18|      U|    GT3|      T|   3|   2|services|   other|    course|  mother|         2|        1|       1|       no|    no|               0.0|(1,[0],[1.0])|            1.0|    (1,[],[])|                0.0|(1,[0],[1.0])|                0.0|(1,[0],[1.0])|                0.0|(1,[0],[1.0])|                  0.0|  (1,[0],[1.0])|               1.0|    (1,[],[])|             0.0|(1,[0],[1.0])|                   1.0|       (1,[],[])|                0.0|(1,[0],[1.0])|               1.0|    (1,[],[])|                 0.0| (1,[0],[1.0])|                 0.0| (1,[0],[1.0])|             1.0|(4,[1],[1.0])|             0.0|(4,[0],[1.0])|               0.0|(3,[0],[1.0])|                 0.0| (2,[0],[1.0])| false|     false|      false|     false|[1.0,0.0,1.0,1.0,...|[1.0,1.0,1.0,1.0,...|\n",
      "| 65|  no|       yes|    yes|   yes|     yes|     yes|     4|       4|    4|   2|   4|     2|       0| 10| 10| 10|    GP|  F| 15|      U|    LE3|      T|   4|   3|services|services|reputation|  father|         1|        2|       0|      yes|    no|               0.0|(1,[0],[1.0])|            0.0|(1,[0],[1.0])|                0.0|(1,[0],[1.0])|                1.0|    (1,[],[])|                0.0|(1,[0],[1.0])|                  1.0|      (1,[],[])|               1.0|    (1,[],[])|             0.0|(1,[0],[1.0])|                   0.0|   (1,[0],[1.0])|                0.0|(1,[0],[1.0])|               0.0|(1,[0],[1.0])|                 0.0| (1,[0],[1.0])|                 1.0|     (1,[],[])|             1.0|(4,[1],[1.0])|             1.0|(4,[1],[1.0])|               2.0|(3,[2],[1.0])|                 1.0| (2,[1],[1.0])| false|     false|      false|     false|(39,[0,1,2,4,7,8,...|(10,[0,2,4,8],[1....|\n",
      "| 53|  no|        no|    yes|   yes|      no|      no|     5|       5|    5|   3|   4|     5|       6| 11| 11| 10|    GP|  M| 15|      U|    LE3|      A|   4|   2|  health|  health|     other|  father|         2|        1|       1|       no|    no|               0.0|(1,[0],[1.0])|            1.0|    (1,[],[])|                0.0|(1,[0],[1.0])|                1.0|    (1,[],[])|                1.0|    (1,[],[])|                  0.0|  (1,[0],[1.0])|               1.0|    (1,[],[])|             0.0|(1,[0],[1.0])|                   1.0|       (1,[],[])|                0.0|(1,[0],[1.0])|               0.0|(1,[0],[1.0])|                 1.0|     (1,[],[])|                 0.0| (1,[0],[1.0])|             4.0|    (4,[],[])|             4.0|    (4,[],[])|               3.0|    (3,[],[])|                 1.0| (2,[1],[1.0])| false|     false|      false|     false|(39,[0,2,5,7,9,10...|(10,[0,1,2,3,7,8,...|\n",
      "|255|  no|        no|     no|   yes|     yes|      no|     4|       4|    2|   2|   4|     5|       0|  8| 12| 12|    GP|  M| 17|      R|    GT3|      T|   2|   1|   other|   other|    course|  mother|         1|        1|       0|       no|    no|               0.0|(1,[0],[1.0])|            1.0|    (1,[],[])|                1.0|    (1,[],[])|                0.0|(1,[0],[1.0])|                0.0|(1,[0],[1.0])|                  0.0|  (1,[0],[1.0])|               1.0|    (1,[],[])|             0.0|(1,[0],[1.0])|                   1.0|       (1,[],[])|                1.0|    (1,[],[])|               0.0|(1,[0],[1.0])|                 0.0| (1,[0],[1.0])|                 0.0| (1,[0],[1.0])|             0.0|(4,[0],[1.0])|             0.0|(4,[0],[1.0])|               0.0|(3,[0],[1.0])|                 0.0| (2,[0],[1.0])| false|     false|      false|     false|(39,[0,3,4,5,7,10...|(10,[1,2,3,8],[1....|\n",
      "|133|  no|        no|    yes|   yes|     yes|     yes|     3|       4|    4|   1|   3|     5|      12| 10| 13| 12|    GP|  F| 17|      U|    LE3|      T|   2|   2|   other|   other|    course|  father|         1|        1|       0|       no|   yes|               0.0|(1,[0],[1.0])|            0.0|(1,[0],[1.0])|                0.0|(1,[0],[1.0])|                1.0|    (1,[],[])|                0.0|(1,[0],[1.0])|                  0.0|  (1,[0],[1.0])|               0.0|(1,[0],[1.0])|             0.0|(1,[0],[1.0])|                   1.0|       (1,[],[])|                0.0|(1,[0],[1.0])|               0.0|(1,[0],[1.0])|                 0.0| (1,[0],[1.0])|                 1.0|     (1,[],[])|             0.0|(4,[0],[1.0])|             0.0|(4,[0],[1.0])|               0.0|(3,[0],[1.0])|                 1.0| (2,[1],[1.0])| false|     false|      false|     false|[1.0,1.0,1.0,0.0,...|[1.0,1.0,1.0,0.0,...|\n",
      "|296| yes|        no|    yes|   yes|     yes|      no|     4|       4|    3|   1|   3|     5|       4| 14| 12| 11|    GP|  M| 17|      U|    GT3|      T|   3|   3|  health|   other|      home|  mother|         1|        1|       0|       no|   yes|               0.0|(1,[0],[1.0])|            1.0|    (1,[],[])|                0.0|(1,[0],[1.0])|                0.0|(1,[0],[1.0])|                0.0|(1,[0],[1.0])|                  0.0|  (1,[0],[1.0])|               0.0|(1,[0],[1.0])|             1.0|    (1,[],[])|                   1.0|       (1,[],[])|                0.0|(1,[0],[1.0])|               0.0|(1,[0],[1.0])|                 0.0| (1,[0],[1.0])|                 0.0| (1,[0],[1.0])|             4.0|    (4,[],[])|             0.0|(4,[0],[1.0])|               1.0|(3,[1],[1.0])|                 0.0| (2,[0],[1.0])| false|     false|      false|     false|[1.0,0.0,1.0,1.0,...|[1.0,1.0,0.0,1.0,...|\n",
      "| 78| yes|        no|    yes|   yes|     yes|     yes|     5|       2|    3|   1|   3|     3|       0| 11| 11| 11|    GP|  F| 16|      U|    GT3|      T|   2|   2|   other|   other|reputation|  mother|         1|        4|       0|       no|    no|               0.0|(1,[0],[1.0])|            0.0|(1,[0],[1.0])|                0.0|(1,[0],[1.0])|                0.0|(1,[0],[1.0])|                0.0|(1,[0],[1.0])|                  0.0|  (1,[0],[1.0])|               1.0|    (1,[],[])|             1.0|    (1,[],[])|                   1.0|       (1,[],[])|                0.0|(1,[0],[1.0])|               0.0|(1,[0],[1.0])|                 0.0| (1,[0],[1.0])|                 1.0|     (1,[],[])|             0.0|(4,[0],[1.0])|             0.0|(4,[0],[1.0])|               2.0|(3,[2],[1.0])|                 0.0| (2,[0],[1.0])| false|     false|       true|     false|(39,[0,1,2,3,4,5,...|(10,[0,1,8],[1.0,...|\n",
      "|322|  no|        no|    yes|   yes|      no|     yes|     4|       2|    2|   1|   1|     3|      12| 11|  9|  9|    GP|  F| 17|      U|    GT3|      T|   2|   2|   other|   other|    course|  mother|         1|        2|       0|       no|   yes|               0.0|(1,[0],[1.0])|            0.0|(1,[0],[1.0])|                0.0|(1,[0],[1.0])|                0.0|(1,[0],[1.0])|                0.0|(1,[0],[1.0])|                  0.0|  (1,[0],[1.0])|               0.0|(1,[0],[1.0])|             0.0|(1,[0],[1.0])|                   1.0|       (1,[],[])|                0.0|(1,[0],[1.0])|               0.0|(1,[0],[1.0])|                 1.0|     (1,[],[])|                 1.0|     (1,[],[])|             0.0|(4,[0],[1.0])|             0.0|(4,[0],[1.0])|               0.0|(3,[0],[1.0])|                 0.0| (2,[0],[1.0])| false|     false|      false|     false|[1.0,1.0,1.0,1.0,...|[1.0,1.0,1.0,0.0,...|\n",
      "|362|  no|       yes|     no|    no|      no|      no|     4|       4|    3|   2|   3|     5|       2| 13| 12| 12|    MS|  M| 18|      R|    LE3|      T|   1|   1| at_home|   other|     other|  mother|         2|        2|       1|       no|    no|               1.0|    (1,[],[])|            1.0|    (1,[],[])|                1.0|    (1,[],[])|                1.0|    (1,[],[])|                0.0|(1,[0],[1.0])|                  0.0|  (1,[0],[1.0])|               1.0|    (1,[],[])|             0.0|(1,[0],[1.0])|                   0.0|   (1,[0],[1.0])|                1.0|    (1,[],[])|               1.0|    (1,[],[])|                 1.0|     (1,[],[])|                 0.0| (1,[0],[1.0])|             2.0|(4,[2],[1.0])|             0.0|(4,[0],[1.0])|               3.0|    (3,[],[])|                 0.0| (2,[0],[1.0])| false|     false|      false|     false|(39,[4,5,7,8,12,1...|(10,[1,2,3,5,7,8,...|\n",
      "|375|  no|        no|    yes|   yes|     yes|      no|     5|       4|    4|   1|   1|     1|       0| 19| 18| 19|    MS|  F| 18|      R|    LE3|      T|   4|   4|   other|   other|reputation|  mother|         2|        3|       0|       no|    no|               1.0|    (1,[],[])|            0.0|(1,[0],[1.0])|                1.0|    (1,[],[])|                1.0|    (1,[],[])|                0.0|(1,[0],[1.0])|                  0.0|  (1,[0],[1.0])|               1.0|    (1,[],[])|             0.0|(1,[0],[1.0])|                   1.0|       (1,[],[])|                0.0|(1,[0],[1.0])|               0.0|(1,[0],[1.0])|                 0.0| (1,[0],[1.0])|                 0.0| (1,[0],[1.0])|             0.0|(4,[0],[1.0])|             0.0|(4,[0],[1.0])|               2.0|(3,[2],[1.0])|                 0.0| (2,[0],[1.0])| false|     false|      false|     false|(39,[1,4,5,7,9,10...|(10,[1,2,3,8],[1....|\n",
      "|108|  no|       yes|    yes|   yes|     yes|      no|     5|       3|    3|   1|   1|     5|       2| 16| 18| 18|    GP|  M| 16|      U|    GT3|      T|   3|   3|services|   other|      home|  father|         1|        3|       0|       no|   yes|               0.0|(1,[0],[1.0])|            1.0|    (1,[],[])|                0.0|(1,[0],[1.0])|                0.0|(1,[0],[1.0])|                0.0|(1,[0],[1.0])|                  0.0|  (1,[0],[1.0])|               0.0|(1,[0],[1.0])|             0.0|(1,[0],[1.0])|                   0.0|   (1,[0],[1.0])|                0.0|(1,[0],[1.0])|               0.0|(1,[0],[1.0])|                 0.0| (1,[0],[1.0])|                 0.0| (1,[0],[1.0])|             1.0|(4,[1],[1.0])|             0.0|(4,[0],[1.0])|               1.0|(3,[1],[1.0])|                 1.0| (2,[1],[1.0])| false|     false|      false|     false|[1.0,0.0,1.0,1.0,...|[1.0,1.0,1.0,1.0,...|\n",
      "|155|  no|        no|    yes|   yes|      no|     yes|     4|       2|    1|   1|   1|     4|       0| 11| 11| 12|    GP|  F| 17|      U|    GT3|      T|   4|   4|   other| teacher|    course|  mother|         1|        1|       0|      yes|   yes|               0.0|(1,[0],[1.0])|            0.0|(1,[0],[1.0])|                0.0|(1,[0],[1.0])|                0.0|(1,[0],[1.0])|                0.0|(1,[0],[1.0])|                  1.0|      (1,[],[])|               0.0|(1,[0],[1.0])|             0.0|(1,[0],[1.0])|                   1.0|       (1,[],[])|                0.0|(1,[0],[1.0])|               0.0|(1,[0],[1.0])|                 1.0|     (1,[],[])|                 1.0|     (1,[],[])|             0.0|(4,[0],[1.0])|             2.0|(4,[2],[1.0])|               0.0|(3,[0],[1.0])|                 0.0| (2,[0],[1.0])| false|     false|      false|     false|(39,[0,1,2,3,4,6,...|(10,[0,2,6,8],[1....|\n",
      "| 34|  no|       yes|     no|   yes|     yes|      no|     5|       3|    2|   1|   1|     2|       0|  8| 10| 12|    GP|  M| 15|      U|    LE3|      T|   3|   3|   other|   other|    course|  mother|         1|        2|       0|       no|    no|               0.0|(1,[0],[1.0])|            1.0|    (1,[],[])|                0.0|(1,[0],[1.0])|                1.0|    (1,[],[])|                0.0|(1,[0],[1.0])|                  0.0|  (1,[0],[1.0])|               1.0|    (1,[],[])|             0.0|(1,[0],[1.0])|                   0.0|   (1,[0],[1.0])|                1.0|    (1,[],[])|               0.0|(1,[0],[1.0])|                 0.0| (1,[0],[1.0])|                 0.0| (1,[0],[1.0])|             0.0|(4,[0],[1.0])|             0.0|(4,[0],[1.0])|               0.0|(3,[0],[1.0])|                 0.0| (2,[0],[1.0])| false|     false|      false|     false|(39,[0,2,4,5,7,8,...|(10,[0,1,2,3,8],[...|\n",
      "|193| yes|       yes|     no|   yes|     yes|      no|     4|       4|    4|   4|   5|     5|      12|  7|  8|  8|    GP|  M| 17|      U|    GT3|      T|   1|   2| at_home|services|     other|   other|         2|        2|       0|       no|    no|               0.0|(1,[0],[1.0])|            1.0|    (1,[],[])|                0.0|(1,[0],[1.0])|                0.0|(1,[0],[1.0])|                0.0|(1,[0],[1.0])|                  0.0|  (1,[0],[1.0])|               1.0|    (1,[],[])|             1.0|    (1,[],[])|                   0.0|   (1,[0],[1.0])|                1.0|    (1,[],[])|               0.0|(1,[0],[1.0])|                 0.0| (1,[0],[1.0])|                 0.0| (1,[0],[1.0])|             2.0|(4,[2],[1.0])|             1.0|(4,[1],[1.0])|               3.0|    (3,[],[])|                 2.0|     (2,[],[])|  true|     false|      false|     false|(39,[0,2,3,4,5,8,...|(10,[0,1,3,5,7,8]...|\n",
      "+---+----+----------+-------+------+--------+--------+------+--------+-----+----+----+------+--------+---+---+---+------+---+---+-------+-------+-------+----+----+--------+--------+----------+--------+----------+---------+--------+---------+------+------------------+-------------+---------------+-------------+-------------------+-------------+-------------------+-------------+-------------------+-------------+---------------------+---------------+------------------+-------------+----------------+-------------+----------------------+----------------+-------------------+-------------+------------------+-------------+--------------------+--------------+--------------------+--------------+----------------+-------------+----------------+-------------+------------------+-------------+--------------------+--------------+------+----------+-----------+----------+--------------------+--------------------+\n",
      "only showing top 20 rows\n",
      "\n"
     ]
    }
   ],
   "source": [
    "from pyspark.ml.feature import ChiSqSelector\n",
    "\n",
    "selector = ChiSqSelector(numTopFeatures=10, featuresCol=\"features\",\n",
    "                         outputCol=\"selectedFeatures\", labelCol=\"G3\")\n",
    "\n",
    "result_df = selector.fit(mining_data_output).transform(mining_data_output)\n",
    "\n",
    "print(\"ChiSqSelector output with top %d features selected\" % selector.getNumTopFeatures())\n",
    "result_df.show()"
   ]
  },
  {
   "cell_type": "code",
   "execution_count": 41,
   "id": "44c7fe9f",
   "metadata": {},
   "outputs": [
    {
     "name": "stdout",
     "output_type": "stream",
     "text": [
      "+--------------------+\n",
      "|    selectedFeatures|\n",
      "+--------------------+\n",
      "|[1.0,1.0,1.0,1.0,...|\n",
      "|(10,[0,3,5,7,8,9]...|\n",
      "|[1.0,1.0,0.0,0.0,...|\n",
      "|[1.0,1.0,0.0,1.0,...|\n",
      "|[1.0,1.0,0.0,1.0,...|\n",
      "|(10,[0,1,2,3,8],[...|\n",
      "|[1.0,0.0,1.0,1.0,...|\n",
      "|[1.0,1.0,0.0,1.0,...|\n",
      "|[1.0,1.0,0.0,1.0,...|\n",
      "|[1.0,1.0,1.0,1.0,...|\n",
      "|[1.0,1.0,0.0,1.0,...|\n",
      "|[1.0,1.0,0.0,1.0,...|\n",
      "|(10,[0,1,2,8],[1....|\n",
      "|[1.0,1.0,1.0,1.0,...|\n",
      "|[1.0,1.0,0.0,1.0,...|\n",
      "|[1.0,1.0,1.0,1.0,...|\n",
      "|(10,[0,1,3,7,8],[...|\n",
      "|[1.0,1.0,1.0,1.0,...|\n",
      "|(10,[0,1,3,8],[1....|\n",
      "|[1.0,1.0,1.0,1.0,...|\n",
      "+--------------------+\n",
      "only showing top 20 rows\n",
      "\n"
     ]
    }
   ],
   "source": [
    "result_df.select(\"selectedFeatures\").show()"
   ]
  },
  {
   "cell_type": "code",
   "execution_count": 42,
   "id": "21fde2cd",
   "metadata": {},
   "outputs": [],
   "source": [
    "#from pyspark.ml.linalg import Vectors\n",
    "#from pyspark.ml.stat import ChiSquareTest\n",
    "#dataset = [[0, Vectors.dense([0, 0, 1])],\n",
    "           #[0, Vectors.dense([1, 0, 1])],\n",
    "           #[1, Vectors.dense([2, 1, 1])],\n",
    "           #[1, Vectors.dense([3, 1, 1])]]\n",
    "#dataset = spark.createDataFrame(dataset, [\"label\", \"features\"])\n",
    "#chiSqResult = ChiSquareTest.test(dataset, 'features', 'label')\n",
    "#chiSqResult.select(\"degreesOfFreedom\").collect()[0]\n",
    "\n",
    "#chiSqResult = ChiSquareTest.test(dataset, 'features', 'label', True)\n",
    "#row = chiSqResult.orderBy(\"featureIndex\").collect()\n",
    "#row[0].statistic\n",
    "\n",
    "#print(\"predictor_values: \" + str(chiSqResult.pValues))"
   ]
  },
  {
   "cell_type": "code",
   "execution_count": 43,
   "id": "bca6c848",
   "metadata": {},
   "outputs": [
    {
     "name": "stdout",
     "output_type": "stream",
     "text": [
      "Normalized features\n",
      "+---+----+----------+-------+------+--------+--------+------+--------+-----+----+----+------+--------+---+---+---+------+---+---+-------+-------+-------+----+----+--------+--------+----------+--------+----------+---------+--------+---------+------+------------------+-------------+---------------+-------------+-------------------+-------------+-------------------+-------------+-------------------+-------------+---------------------+---------------+------------------+-------------+----------------+-------------+----------------------+----------------+-------------------+-------------+------------------+-------------+--------------------+--------------+--------------------+--------------+----------------+-------------+----------------+-------------+------------------+-------------+--------------------+--------------+------+----------+-----------+----------+--------------------+--------------------+\n",
      "| ID|paid|activities|nursery|higher|internet|romantic|famrel|freetime|goout|Dalc|Walc|health|absences| G1| G2| G3|school|sex|age|address|famsize|Pstatus|Medu|Fedu|    Mjob|    Fjob|    reason|guardian|traveltime|studytime|failures|schoolsup|famsup|schoolNumericIndex| schoolVector|sexNumericIndex|    sexVector|addressNumericIndex|addressVector|famsizeNumericIndex|famsizeVector|PstatusNumericIndex|PstatusVector|schoolsupNumericIndex|schoolsupVector|famsupNumericIndex| famsupVector|paidNumericIndex|   paidVector|activitiesNumericIndex|activitiesVector|nurseryNumericIndex|nurseryVector|higherNumericIndex| higherVector|internetNumericIndex|internetVector|romanticNumericIndex|romanticVector|MjobNumericIndex|   MjobVector|FjobNumericIndex|   FjobVector|reasonNumericIndex| reasonVector|guardianNumericIndex|guardianVector|Dalc_o|absences_o|studytime_o|freetime_o|            features|  normalizedFeatures|\n",
      "+---+----+----------+-------+------+--------+--------+------+--------+-----+----+----+------+--------+---+---+---+------+---+---+-------+-------+-------+----+----+--------+--------+----------+--------+----------+---------+--------+---------+------+------------------+-------------+---------------+-------------+-------------------+-------------+-------------------+-------------+-------------------+-------------+---------------------+---------------+------------------+-------------+----------------+-------------+----------------------+----------------+-------------------+-------------+------------------+-------------+--------------------+--------------+--------------------+--------------+----------------+-------------+----------------+-------------+------------------+-------------+--------------------+--------------+------+----------+-----------+----------+--------------------+--------------------+\n",
      "|148| yes|        no|     no|   yes|     yes|      no|     4|       3|    2|   1|   1|     5|       2| 10| 11| 11|    GP|  F| 15|      U|    GT3|      T|   1|   2| at_home|   other|    course|  mother|         1|        2|       0|       no|   yes|               0.0|(1,[0],[1.0])|            0.0|(1,[0],[1.0])|                0.0|(1,[0],[1.0])|                0.0|(1,[0],[1.0])|                0.0|(1,[0],[1.0])|                  0.0|  (1,[0],[1.0])|               0.0|(1,[0],[1.0])|             1.0|    (1,[],[])|                   1.0|       (1,[],[])|                1.0|    (1,[],[])|               0.0|(1,[0],[1.0])|                 0.0| (1,[0],[1.0])|                 0.0| (1,[0],[1.0])|             2.0|(4,[2],[1.0])|             0.0|(4,[0],[1.0])|               0.0|(3,[0],[1.0])|                 0.0| (2,[0],[1.0])| false|     false|      false|     false|[1.0,1.0,1.0,1.0,...|[0.01886792452830...|\n",
      "|243|  no|       yes|     no|   yes|     yes|      no|     5|       4|    5|   1|   1|     3|       0|  6|  0|  0|    GP|  M| 16|      U|    LE3|      T|   4|   3| teacher|   other|    course|  mother|         1|        1|       0|       no|    no|               0.0|(1,[0],[1.0])|            1.0|    (1,[],[])|                0.0|(1,[0],[1.0])|                1.0|    (1,[],[])|                0.0|(1,[0],[1.0])|                  0.0|  (1,[0],[1.0])|               1.0|    (1,[],[])|             0.0|(1,[0],[1.0])|                   0.0|   (1,[0],[1.0])|                1.0|    (1,[],[])|               0.0|(1,[0],[1.0])|                 0.0| (1,[0],[1.0])|                 0.0| (1,[0],[1.0])|             3.0|(4,[3],[1.0])|             0.0|(4,[0],[1.0])|               0.0|(3,[0],[1.0])|                 0.0| (2,[0],[1.0])| false|     false|      false|     false|(39,[0,2,4,5,7,8,...|(39,[0,2,4,5,7,8,...|\n",
      "|392|  no|        no|     no|   yes|     yes|      no|     2|       4|    5|   3|   4|     2|       3| 14| 16| 16|    MS|  M| 17|      U|    LE3|      T|   3|   1|services|services|    course|  mother|         2|        1|       0|       no|    no|               1.0|    (1,[],[])|            1.0|    (1,[],[])|                0.0|(1,[0],[1.0])|                1.0|    (1,[],[])|                0.0|(1,[0],[1.0])|                  0.0|  (1,[0],[1.0])|               1.0|    (1,[],[])|             0.0|(1,[0],[1.0])|                   1.0|       (1,[],[])|                1.0|    (1,[],[])|               0.0|(1,[0],[1.0])|                 0.0| (1,[0],[1.0])|                 0.0| (1,[0],[1.0])|             1.0|(4,[1],[1.0])|             1.0|(4,[1],[1.0])|               0.0|(3,[0],[1.0])|                 0.0| (2,[0],[1.0])| false|     false|      false|     false|(39,[2,4,5,7,10,1...|(39,[2,4,5,7,10,1...|\n",
      "| 31| yes|        no|     no|   yes|     yes|      no|     5|       4|    2|   3|   4|     5|       0|  9| 11| 12|    GP|  M| 15|      U|    GT3|      T|   4|   4|  health|services|      home|  mother|         1|        2|       0|       no|   yes|               0.0|(1,[0],[1.0])|            1.0|    (1,[],[])|                0.0|(1,[0],[1.0])|                0.0|(1,[0],[1.0])|                0.0|(1,[0],[1.0])|                  0.0|  (1,[0],[1.0])|               0.0|(1,[0],[1.0])|             1.0|    (1,[],[])|                   1.0|       (1,[],[])|                1.0|    (1,[],[])|               0.0|(1,[0],[1.0])|                 0.0| (1,[0],[1.0])|                 0.0| (1,[0],[1.0])|             4.0|    (4,[],[])|             1.0|(4,[1],[1.0])|               1.0|(3,[1],[1.0])|                 0.0| (2,[0],[1.0])| false|     false|      false|     false|(39,[0,2,3,4,5,6,...|(39,[0,2,3,4,5,6,...|\n",
      "| 85|  no|       yes|     no|   yes|     yes|      no|     4|       3|    2|   2|   3|     4|       2|  9| 10| 10|    GP|  F| 15|      U|    GT3|      T|   1|   1|   other|   other|      home|  father|         1|        2|       0|       no|   yes|               0.0|(1,[0],[1.0])|            0.0|(1,[0],[1.0])|                0.0|(1,[0],[1.0])|                0.0|(1,[0],[1.0])|                0.0|(1,[0],[1.0])|                  0.0|  (1,[0],[1.0])|               0.0|(1,[0],[1.0])|             0.0|(1,[0],[1.0])|                   0.0|   (1,[0],[1.0])|                1.0|    (1,[],[])|               0.0|(1,[0],[1.0])|                 0.0| (1,[0],[1.0])|                 0.0| (1,[0],[1.0])|             0.0|(4,[0],[1.0])|             0.0|(4,[0],[1.0])|               1.0|(3,[1],[1.0])|                 1.0| (2,[1],[1.0])| false|     false|      false|     false|[1.0,1.0,1.0,1.0,...|[0.01785714285714...|\n",
      "|137|  no|        no|    yes|   yes|      no|      no|     5|       4|    5|   2|   4|     5|       0| 10|  0|  0|    GP|  M| 17|      R|    GT3|      T|   3|   4| at_home|   other|    course|  mother|         3|        2|       0|       no|    no|               0.0|(1,[0],[1.0])|            1.0|    (1,[],[])|                1.0|    (1,[],[])|                0.0|(1,[0],[1.0])|                0.0|(1,[0],[1.0])|                  0.0|  (1,[0],[1.0])|               1.0|    (1,[],[])|             0.0|(1,[0],[1.0])|                   1.0|       (1,[],[])|                0.0|(1,[0],[1.0])|               0.0|(1,[0],[1.0])|                 1.0|     (1,[],[])|                 0.0| (1,[0],[1.0])|             2.0|(4,[2],[1.0])|             0.0|(4,[0],[1.0])|               0.0|(3,[0],[1.0])|                 0.0| (2,[0],[1.0])| false|     false|      false|     false|(39,[0,3,4,5,7,9,...|(39,[0,3,4,5,7,9,...|\n",
      "|251|  no|        no|    yes|    no|     yes|      no|     4|       4|    5|   2|   4|     5|       0|  6|  8|  8|    GP|  M| 18|      U|    GT3|      T|   3|   2|services|   other|    course|  mother|         2|        1|       1|       no|    no|               0.0|(1,[0],[1.0])|            1.0|    (1,[],[])|                0.0|(1,[0],[1.0])|                0.0|(1,[0],[1.0])|                0.0|(1,[0],[1.0])|                  0.0|  (1,[0],[1.0])|               1.0|    (1,[],[])|             0.0|(1,[0],[1.0])|                   1.0|       (1,[],[])|                0.0|(1,[0],[1.0])|               1.0|    (1,[],[])|                 0.0| (1,[0],[1.0])|                 0.0| (1,[0],[1.0])|             1.0|(4,[1],[1.0])|             0.0|(4,[0],[1.0])|               0.0|(3,[0],[1.0])|                 0.0| (2,[0],[1.0])| false|     false|      false|     false|[1.0,0.0,1.0,1.0,...|[0.015625,0.0,0.0...|\n",
      "| 65|  no|       yes|    yes|   yes|     yes|     yes|     4|       4|    4|   2|   4|     2|       0| 10| 10| 10|    GP|  F| 15|      U|    LE3|      T|   4|   3|services|services|reputation|  father|         1|        2|       0|      yes|    no|               0.0|(1,[0],[1.0])|            0.0|(1,[0],[1.0])|                0.0|(1,[0],[1.0])|                1.0|    (1,[],[])|                0.0|(1,[0],[1.0])|                  1.0|      (1,[],[])|               1.0|    (1,[],[])|             0.0|(1,[0],[1.0])|                   0.0|   (1,[0],[1.0])|                0.0|(1,[0],[1.0])|               0.0|(1,[0],[1.0])|                 0.0| (1,[0],[1.0])|                 1.0|     (1,[],[])|             1.0|(4,[1],[1.0])|             1.0|(4,[1],[1.0])|               2.0|(3,[2],[1.0])|                 1.0| (2,[1],[1.0])| false|     false|      false|     false|(39,[0,1,2,4,7,8,...|(39,[0,1,2,4,7,8,...|\n",
      "| 53|  no|        no|    yes|   yes|      no|      no|     5|       5|    5|   3|   4|     5|       6| 11| 11| 10|    GP|  M| 15|      U|    LE3|      A|   4|   2|  health|  health|     other|  father|         2|        1|       1|       no|    no|               0.0|(1,[0],[1.0])|            1.0|    (1,[],[])|                0.0|(1,[0],[1.0])|                1.0|    (1,[],[])|                1.0|    (1,[],[])|                  0.0|  (1,[0],[1.0])|               1.0|    (1,[],[])|             0.0|(1,[0],[1.0])|                   1.0|       (1,[],[])|                0.0|(1,[0],[1.0])|               0.0|(1,[0],[1.0])|                 1.0|     (1,[],[])|                 0.0| (1,[0],[1.0])|             4.0|    (4,[],[])|             4.0|    (4,[],[])|               3.0|    (3,[],[])|                 1.0| (2,[1],[1.0])| false|     false|      false|     false|(39,[0,2,5,7,9,10...|(39,[0,2,5,7,9,10...|\n",
      "|255|  no|        no|     no|   yes|     yes|      no|     4|       4|    2|   2|   4|     5|       0|  8| 12| 12|    GP|  M| 17|      R|    GT3|      T|   2|   1|   other|   other|    course|  mother|         1|        1|       0|       no|    no|               0.0|(1,[0],[1.0])|            1.0|    (1,[],[])|                1.0|    (1,[],[])|                0.0|(1,[0],[1.0])|                0.0|(1,[0],[1.0])|                  0.0|  (1,[0],[1.0])|               1.0|    (1,[],[])|             0.0|(1,[0],[1.0])|                   1.0|       (1,[],[])|                1.0|    (1,[],[])|               0.0|(1,[0],[1.0])|                 0.0| (1,[0],[1.0])|                 0.0| (1,[0],[1.0])|             0.0|(4,[0],[1.0])|             0.0|(4,[0],[1.0])|               0.0|(3,[0],[1.0])|                 0.0| (2,[0],[1.0])| false|     false|      false|     false|(39,[0,3,4,5,7,10...|(39,[0,3,4,5,7,10...|\n",
      "|133|  no|        no|    yes|   yes|     yes|     yes|     3|       4|    4|   1|   3|     5|      12| 10| 13| 12|    GP|  F| 17|      U|    LE3|      T|   2|   2|   other|   other|    course|  father|         1|        1|       0|       no|   yes|               0.0|(1,[0],[1.0])|            0.0|(1,[0],[1.0])|                0.0|(1,[0],[1.0])|                1.0|    (1,[],[])|                0.0|(1,[0],[1.0])|                  0.0|  (1,[0],[1.0])|               0.0|(1,[0],[1.0])|             0.0|(1,[0],[1.0])|                   1.0|       (1,[],[])|                0.0|(1,[0],[1.0])|               0.0|(1,[0],[1.0])|                 0.0| (1,[0],[1.0])|                 1.0|     (1,[],[])|             0.0|(4,[0],[1.0])|             0.0|(4,[0],[1.0])|               0.0|(3,[0],[1.0])|                 1.0| (2,[1],[1.0])| false|     false|      false|     false|[1.0,1.0,1.0,0.0,...|[0.01449275362318...|\n",
      "|296| yes|        no|    yes|   yes|     yes|      no|     4|       4|    3|   1|   3|     5|       4| 14| 12| 11|    GP|  M| 17|      U|    GT3|      T|   3|   3|  health|   other|      home|  mother|         1|        1|       0|       no|   yes|               0.0|(1,[0],[1.0])|            1.0|    (1,[],[])|                0.0|(1,[0],[1.0])|                0.0|(1,[0],[1.0])|                0.0|(1,[0],[1.0])|                  0.0|  (1,[0],[1.0])|               0.0|(1,[0],[1.0])|             1.0|    (1,[],[])|                   1.0|       (1,[],[])|                0.0|(1,[0],[1.0])|               0.0|(1,[0],[1.0])|                 0.0| (1,[0],[1.0])|                 0.0| (1,[0],[1.0])|             4.0|    (4,[],[])|             0.0|(4,[0],[1.0])|               1.0|(3,[1],[1.0])|                 0.0| (2,[0],[1.0])| false|     false|      false|     false|[1.0,0.0,1.0,1.0,...|[0.01612903225806...|\n",
      "| 78| yes|        no|    yes|   yes|     yes|     yes|     5|       2|    3|   1|   3|     3|       0| 11| 11| 11|    GP|  F| 16|      U|    GT3|      T|   2|   2|   other|   other|reputation|  mother|         1|        4|       0|       no|    no|               0.0|(1,[0],[1.0])|            0.0|(1,[0],[1.0])|                0.0|(1,[0],[1.0])|                0.0|(1,[0],[1.0])|                0.0|(1,[0],[1.0])|                  0.0|  (1,[0],[1.0])|               1.0|    (1,[],[])|             1.0|    (1,[],[])|                   1.0|       (1,[],[])|                0.0|(1,[0],[1.0])|               0.0|(1,[0],[1.0])|                 0.0| (1,[0],[1.0])|                 1.0|     (1,[],[])|             0.0|(4,[0],[1.0])|             0.0|(4,[0],[1.0])|               2.0|(3,[2],[1.0])|                 0.0| (2,[0],[1.0])| false|     false|       true|     false|(39,[0,1,2,3,4,5,...|(39,[0,1,2,3,4,5,...|\n",
      "|322|  no|        no|    yes|   yes|      no|     yes|     4|       2|    2|   1|   1|     3|      12| 11|  9|  9|    GP|  F| 17|      U|    GT3|      T|   2|   2|   other|   other|    course|  mother|         1|        2|       0|       no|   yes|               0.0|(1,[0],[1.0])|            0.0|(1,[0],[1.0])|                0.0|(1,[0],[1.0])|                0.0|(1,[0],[1.0])|                0.0|(1,[0],[1.0])|                  0.0|  (1,[0],[1.0])|               0.0|(1,[0],[1.0])|             0.0|(1,[0],[1.0])|                   1.0|       (1,[],[])|                0.0|(1,[0],[1.0])|               0.0|(1,[0],[1.0])|                 1.0|     (1,[],[])|                 1.0|     (1,[],[])|             0.0|(4,[0],[1.0])|             0.0|(4,[0],[1.0])|               0.0|(3,[0],[1.0])|                 0.0| (2,[0],[1.0])| false|     false|      false|     false|[1.0,1.0,1.0,1.0,...|[0.01587301587301...|\n",
      "|362|  no|       yes|     no|    no|      no|      no|     4|       4|    3|   2|   3|     5|       2| 13| 12| 12|    MS|  M| 18|      R|    LE3|      T|   1|   1| at_home|   other|     other|  mother|         2|        2|       1|       no|    no|               1.0|    (1,[],[])|            1.0|    (1,[],[])|                1.0|    (1,[],[])|                1.0|    (1,[],[])|                0.0|(1,[0],[1.0])|                  0.0|  (1,[0],[1.0])|               1.0|    (1,[],[])|             0.0|(1,[0],[1.0])|                   0.0|   (1,[0],[1.0])|                1.0|    (1,[],[])|               1.0|    (1,[],[])|                 1.0|     (1,[],[])|                 0.0| (1,[0],[1.0])|             2.0|(4,[2],[1.0])|             0.0|(4,[0],[1.0])|               3.0|    (3,[],[])|                 0.0| (2,[0],[1.0])| false|     false|      false|     false|(39,[4,5,7,8,12,1...|(39,[4,5,7,8,12,1...|\n",
      "|375|  no|        no|    yes|   yes|     yes|      no|     5|       4|    4|   1|   1|     1|       0| 19| 18| 19|    MS|  F| 18|      R|    LE3|      T|   4|   4|   other|   other|reputation|  mother|         2|        3|       0|       no|    no|               1.0|    (1,[],[])|            0.0|(1,[0],[1.0])|                1.0|    (1,[],[])|                1.0|    (1,[],[])|                0.0|(1,[0],[1.0])|                  0.0|  (1,[0],[1.0])|               1.0|    (1,[],[])|             0.0|(1,[0],[1.0])|                   1.0|       (1,[],[])|                0.0|(1,[0],[1.0])|               0.0|(1,[0],[1.0])|                 0.0| (1,[0],[1.0])|                 0.0| (1,[0],[1.0])|             0.0|(4,[0],[1.0])|             0.0|(4,[0],[1.0])|               2.0|(3,[2],[1.0])|                 0.0| (2,[0],[1.0])| false|     false|      false|     false|(39,[1,4,5,7,9,10...|(39,[1,4,5,7,9,10...|\n",
      "|108|  no|       yes|    yes|   yes|     yes|      no|     5|       3|    3|   1|   1|     5|       2| 16| 18| 18|    GP|  M| 16|      U|    GT3|      T|   3|   3|services|   other|      home|  father|         1|        3|       0|       no|   yes|               0.0|(1,[0],[1.0])|            1.0|    (1,[],[])|                0.0|(1,[0],[1.0])|                0.0|(1,[0],[1.0])|                0.0|(1,[0],[1.0])|                  0.0|  (1,[0],[1.0])|               0.0|(1,[0],[1.0])|             0.0|(1,[0],[1.0])|                   0.0|   (1,[0],[1.0])|                0.0|(1,[0],[1.0])|               0.0|(1,[0],[1.0])|                 0.0| (1,[0],[1.0])|                 0.0| (1,[0],[1.0])|             1.0|(4,[1],[1.0])|             0.0|(4,[0],[1.0])|               1.0|(3,[1],[1.0])|                 1.0| (2,[1],[1.0])| false|     false|      false|     false|[1.0,0.0,1.0,1.0,...|[0.01612903225806...|\n",
      "|155|  no|        no|    yes|   yes|      no|     yes|     4|       2|    1|   1|   1|     4|       0| 11| 11| 12|    GP|  F| 17|      U|    GT3|      T|   4|   4|   other| teacher|    course|  mother|         1|        1|       0|      yes|   yes|               0.0|(1,[0],[1.0])|            0.0|(1,[0],[1.0])|                0.0|(1,[0],[1.0])|                0.0|(1,[0],[1.0])|                0.0|(1,[0],[1.0])|                  1.0|      (1,[],[])|               0.0|(1,[0],[1.0])|             0.0|(1,[0],[1.0])|                   1.0|       (1,[],[])|                0.0|(1,[0],[1.0])|               0.0|(1,[0],[1.0])|                 1.0|     (1,[],[])|                 1.0|     (1,[],[])|             0.0|(4,[0],[1.0])|             2.0|(4,[2],[1.0])|               0.0|(3,[0],[1.0])|                 0.0| (2,[0],[1.0])| false|     false|      false|     false|(39,[0,1,2,3,4,6,...|(39,[0,1,2,3,4,6,...|\n",
      "| 34|  no|       yes|     no|   yes|     yes|      no|     5|       3|    2|   1|   1|     2|       0|  8| 10| 12|    GP|  M| 15|      U|    LE3|      T|   3|   3|   other|   other|    course|  mother|         1|        2|       0|       no|    no|               0.0|(1,[0],[1.0])|            1.0|    (1,[],[])|                0.0|(1,[0],[1.0])|                1.0|    (1,[],[])|                0.0|(1,[0],[1.0])|                  0.0|  (1,[0],[1.0])|               1.0|    (1,[],[])|             0.0|(1,[0],[1.0])|                   0.0|   (1,[0],[1.0])|                1.0|    (1,[],[])|               0.0|(1,[0],[1.0])|                 0.0| (1,[0],[1.0])|                 0.0| (1,[0],[1.0])|             0.0|(4,[0],[1.0])|             0.0|(4,[0],[1.0])|               0.0|(3,[0],[1.0])|                 0.0| (2,[0],[1.0])| false|     false|      false|     false|(39,[0,2,4,5,7,8,...|(39,[0,2,4,5,7,8,...|\n",
      "|193| yes|       yes|     no|   yes|     yes|      no|     4|       4|    4|   4|   5|     5|      12|  7|  8|  8|    GP|  M| 17|      U|    GT3|      T|   1|   2| at_home|services|     other|   other|         2|        2|       0|       no|    no|               0.0|(1,[0],[1.0])|            1.0|    (1,[],[])|                0.0|(1,[0],[1.0])|                0.0|(1,[0],[1.0])|                0.0|(1,[0],[1.0])|                  0.0|  (1,[0],[1.0])|               1.0|    (1,[],[])|             1.0|    (1,[],[])|                   0.0|   (1,[0],[1.0])|                1.0|    (1,[],[])|               0.0|(1,[0],[1.0])|                 0.0| (1,[0],[1.0])|                 0.0| (1,[0],[1.0])|             2.0|(4,[2],[1.0])|             1.0|(4,[1],[1.0])|               3.0|    (3,[],[])|                 2.0|     (2,[],[])|  true|     false|      false|     false|(39,[0,2,3,4,5,8,...|(39,[0,2,3,4,5,8,...|\n",
      "+---+----+----------+-------+------+--------+--------+------+--------+-----+----+----+------+--------+---+---+---+------+---+---+-------+-------+-------+----+----+--------+--------+----------+--------+----------+---------+--------+---------+------+------------------+-------------+---------------+-------------+-------------------+-------------+-------------------+-------------+-------------------+-------------+---------------------+---------------+------------------+-------------+----------------+-------------+----------------------+----------------+-------------------+-------------+------------------+-------------+--------------------+--------------+--------------------+--------------+----------------+-------------+----------------+-------------+------------------+-------------+--------------------+--------------+------+----------+-----------+----------+--------------------+--------------------+\n",
      "only showing top 20 rows\n",
      "\n"
     ]
    },
    {
     "name": "stdout",
     "output_type": "stream",
     "text": [
      "+--------------------+\n",
      "|  normalizedFeatures|\n",
      "+--------------------+\n",
      "|[0.01754385964912...|\n",
      "|(39,[0,1,2,4,9,10...|\n",
      "|[0.01818181818181...|\n",
      "|[0.01666666666666...|\n",
      "|[0.01449275362318...|\n",
      "|(39,[0,2,4,5,7,9,...|\n",
      "|[0.01666666666666...|\n",
      "|[0.01724137931034...|\n",
      "|[0.01851851851851...|\n",
      "|[0.01666666666666...|\n",
      "|[0.01694915254237...|\n",
      "|[0.01666666666666...|\n",
      "|(39,[0,2,3,5,6,7,...|\n",
      "|[0.01612903225806...|\n",
      "|[0.01587301587301...|\n",
      "|[0.01176470588235...|\n",
      "|(39,[0,2,4,5,8,9,...|\n",
      "|[0.01960784313725...|\n",
      "|(39,[0,2,3,4,5,6,...|\n",
      "|[0.01666666666666...|\n",
      "+--------------------+\n",
      "only showing top 20 rows\n",
      "\n"
     ]
    },
    {
     "data": {
      "text/plain": [
       "74"
      ]
     },
     "execution_count": 43,
     "metadata": {},
     "output_type": "execute_result"
    }
   ],
   "source": [
    "#normalising the data\n",
    "\n",
    "#importing libraries\n",
    "from pyspark.ml.feature import Normalizer\n",
    "from pyspark.ml.linalg import Vectors\n",
    "\n",
    "#normalizing each vector using l^1 norm (Euclidean norm)\n",
    "normalizer = Normalizer(inputCol=\"features\", outputCol=\"normalizedFeatures\", p=1.0)\n",
    "cleaned_NormalizedData = normalizer.transform(mining_data_output)\n",
    "print(\"Normalized features\")\n",
    "cleaned_NormalizedData.show()\n",
    "cleaned_NormalizedData.select(\"normalizedFeatures\").show()\n",
    "\n",
    "len(cleaned_NormalizedData.dtypes)"
   ]
  },
  {
   "cell_type": "code",
   "execution_count": 44,
   "id": "d8cd49bb",
   "metadata": {
    "scrolled": true
   },
   "outputs": [
    {
     "name": "stderr",
     "output_type": "stream",
     "text": [
      "22/10/13 05:36:05 WARN DAGScheduler: Broadcasting large task binary with size 1092.2 KiB\n",
      "22/10/13 05:36:05 WARN DAGScheduler: Broadcasting large task binary with size 1343.8 KiB\n",
      "22/10/13 05:36:12 WARN DAGScheduler: Broadcasting large task binary with size 1095.3 KiB\n",
      "22/10/13 05:36:12 WARN DAGScheduler: Broadcasting large task binary with size 1356.4 KiB\n",
      "22/10/13 05:36:19 WARN DAGScheduler: Broadcasting large task binary with size 1113.2 KiB\n",
      "22/10/13 05:36:19 WARN DAGScheduler: Broadcasting large task binary with size 1389.2 KiB\n",
      "22/10/13 05:36:22 WARN DAGScheduler: Broadcasting large task binary with size 1486.9 KiB\n"
     ]
    },
    {
     "name": "stdout",
     "output_type": "stream",
     "text": [
      "+--------------------+---+--------------------+--------------------+----------+\n",
      "|  normalizedFeatures| G1|       rawPrediction|         probability|prediction|\n",
      "+--------------------+---+--------------------+--------------------+----------+\n",
      "|(39,[0,1,2,3,4,5,...|  8|[0.0,0.0,0.0,0.0,...|[0.0,0.0,0.0,0.0,...|      14.0|\n",
      "|(39,[0,1,2,3,4,5,...| 14|[0.0,0.0,0.0,0.0,...|[0.0,0.0,0.0,0.0,...|      15.0|\n",
      "|(39,[0,1,2,3,5,8,...|  8|[0.0,0.0,0.0,0.0,...|[0.0,0.0,0.0,0.0,...|      10.0|\n",
      "|(39,[0,1,2,3,6,9,...| 12|[0.0,0.0,0.0,0.0,...|[0.0,0.0,0.0,0.0,...|      12.0|\n",
      "|(39,[0,1,2,3,7,9,...| 10|[0.0,0.0,0.0,0.0,...|[0.0,0.0,0.0,0.0,...|      11.0|\n",
      "|(39,[0,1,2,5,6,7,...| 12|[0.0,0.0,0.0,0.0,...|[0.0,0.0,0.0,0.0,...|       9.0|\n",
      "|(39,[0,1,2,6,8,9,...|  8|[0.0,0.0,0.0,0.0,...|[0.0,0.0,0.0,0.0,...|      10.0|\n",
      "|(39,[0,1,3,5,9,10...| 14|[0.0,0.0,0.0,0.0,...|[0.0,0.0,0.0,0.0,...|      12.0|\n",
      "|(39,[0,1,4,5,6,9,...|  8|[0.0,0.0,0.0,0.0,...|[0.0,0.0,0.0,0.0,...|      10.0|\n",
      "|(39,[0,2,3,4,5,6,...| 10|[0.0,0.0,0.0,0.0,...|[0.0,0.0,0.0,0.0,...|      10.0|\n",
      "|(39,[0,2,3,4,5,6,...| 12|[0.0,0.0,0.0,0.0,...|[0.0,0.0,0.0,0.0,...|      11.0|\n",
      "|(39,[0,2,3,4,5,8,...|  9|[0.0,0.0,0.0,0.0,...|[0.0,0.0,0.0,0.0,...|      10.0|\n",
      "|(39,[0,2,3,4,7,9,...| 13|[0.0,0.0,0.0,0.0,...|[0.0,0.0,0.0,0.0,...|      10.0|\n",
      "|(39,[0,2,3,5,6,7,...| 14|[0.0,0.0,0.0,0.0,...|[0.0,0.0,0.0,0.0,...|       8.0|\n",
      "|(39,[0,2,4,5,6,9,...| 12|[0.0,0.0,0.0,0.0,...|[0.0,0.0,0.0,0.0,...|      10.0|\n",
      "|(39,[0,2,4,5,7,8,...| 12|[0.0,0.0,0.0,0.0,...|[0.0,0.0,0.0,0.0,...|      10.0|\n",
      "|(39,[0,2,4,5,7,8,...|  8|[0.0,0.0,0.0,0.0,...|[0.0,0.0,0.0,0.0,...|       8.0|\n",
      "|(39,[0,2,4,5,7,9,...|  6|[0.0,0.0,0.0,0.0,...|[0.0,0.0,0.0,0.0,...|       7.0|\n",
      "|(39,[0,2,4,5,8,9,...| 15|[0.0,0.0,0.0,0.0,...|[0.0,0.0,0.0,0.0,...|       8.0|\n",
      "|(39,[0,2,5,7,9,10...| 11|[0.0,0.0,0.0,0.0,...|[0.0,0.0,0.0,0.0,...|      10.0|\n",
      "+--------------------+---+--------------------+--------------------+----------+\n",
      "only showing top 20 rows\n",
      "\n"
     ]
    },
    {
     "name": "stderr",
     "output_type": "stream",
     "text": [
      "22/10/13 05:36:23 WARN DAGScheduler: Broadcasting large task binary with size 1502.5 KiB\n"
     ]
    },
    {
     "name": "stdout",
     "output_type": "stream",
     "text": [
      "+--------------------+---+--------------------+--------------------+----------+\n",
      "|  normalizedFeatures| G2|       rawPrediction|         probability|prediction|\n",
      "+--------------------+---+--------------------+--------------------+----------+\n",
      "|(39,[0,1,2,3,4,5,...|  0|[3.29328442652512...|[0.05145756916445...|       9.0|\n",
      "|(39,[0,1,2,3,4,5,...| 15|[1.68018598589258...|[0.02625290602957...|      15.0|\n",
      "|(39,[0,1,2,3,7,9,...| 11|[1.55853388522819...|[0.02435209195669...|      10.0|\n",
      "|(39,[0,1,2,4,5,6,...| 15|[3.31256348242534...|[0.05175880441289...|       9.0|\n",
      "|(39,[0,1,2,4,5,6,...|  8|[1.31360475677219...|[0.02052507432456...|      13.0|\n",
      "|(39,[0,1,2,4,5,7,...|  9|[4.33856528506479...|[0.06779008257913...|      12.0|\n",
      "|(39,[0,1,2,4,6,9,...| 12|[1.36680873121929...|[0.02135638642530...|      10.0|\n",
      "|(39,[0,1,2,7,8,9,...| 10|[0.69884605710909...|[0.01091946964232...|      10.0|\n",
      "|(39,[0,1,3,4,5,6,...|  0|[3.62614354743807...|[0.05665849292871...|       9.0|\n",
      "|(39,[0,2,3,4,5,6,...| 14|[2.59250886516685...|[0.04050795101823...|      15.0|\n",
      "|(39,[0,2,3,4,5,6,...| 11|[3.87549637430779...|[0.06055463084855...|      11.0|\n",
      "|(39,[0,2,3,4,5,8,...|  8|[1.53966269114014...|[0.02405722954906...|      10.0|\n",
      "|(39,[0,2,3,4,7,9,...| 13|[6.00818867579992...|[0.09387794805937...|       9.0|\n",
      "|(39,[0,3,4,5,7,8,...| 12|[4.55959551971558...|[0.07124367999555...|      11.0|\n",
      "|(39,[0,3,4,5,7,8,...|  9|[4.05831404437878...|[0.06341115694341...|      12.0|\n",
      "|(39,[0,3,4,5,7,9,...| 15|[1.10181745975293...|[0.01721589780863...|      13.0|\n",
      "|(39,[0,3,4,5,7,10...| 15|[2.54926147824307...|[0.03983221059754...|      12.0|\n",
      "|(39,[0,4,5,7,8,9,...|  6|[6.05156817162816...|[0.09455575268169...|       8.0|\n",
      "|(39,[0,5,6,9,10,1...| 11|[1.97742827699810...|[0.03089731682809...|      13.0|\n",
      "|(39,[1,2,3,4,5,6,...| 11|[2.61946951258200...|[0.04092921113409...|      12.0|\n",
      "+--------------------+---+--------------------+--------------------+----------+\n",
      "only showing top 20 rows\n",
      "\n",
      "+--------------------+---+--------------------+--------------------+----------+\n",
      "|  normalizedFeatures| G3|       rawPrediction|         probability|prediction|\n",
      "+--------------------+---+--------------------+--------------------+----------+\n",
      "|(39,[0,1,2,3,4,5,...| 11|[14.3527905264170...|[0.22426235197526...|       0.0|\n",
      "|(39,[0,1,2,3,4,5,...| 16|[13.8330386100222...|[0.21614122828159...|       0.0|\n",
      "|(39,[0,1,2,3,6,9,...| 14|[13.8833526397965...|[0.21692738499682...|       0.0|\n",
      "|(39,[0,1,2,3,7,9,...| 11|[1.63039465956911...|[0.02547491655576...|      11.0|\n",
      "|(39,[0,1,2,4,5,6,...|  8|[1.38655235584235...|[0.02166488056003...|      11.0|\n",
      "|(39,[0,1,2,4,5,7,...|  0|[12.8072377861137...|[0.20011309040802...|      12.0|\n",
      "|(39,[0,1,2,4,5,7,...|  0|[23.4725834496614...|[0.36675911640095...|       0.0|\n",
      "|(39,[0,1,2,4,5,7,...| 15|[14.2726558260617...|[0.22301024728221...|       0.0|\n",
      "|(39,[0,1,2,4,5,8,...|  0|[8.67080226061385...|[0.13548128532209...|      15.0|\n",
      "|(39,[0,1,3,4,5,6,...|  0|[18.8946362187710...|[0.29522869091829...|       0.0|\n",
      "|(39,[0,1,4,5,6,9,...| 10|[1.90668125277102...|[0.02979189457454...|      11.0|\n",
      "|(39,[0,2,3,4,5,6,...|  9|[7.56595583909965...|[0.11821805998593...|      12.0|\n",
      "|(39,[0,2,3,4,5,8,...|  8|[0.92009739956620...|[0.01437652186822...|      10.0|\n",
      "|(39,[0,2,3,4,5,9,...| 15|[3.49116857100699...|[0.05454950892198...|      13.0|\n",
      "|(39,[0,2,3,4,5,10...| 15|[10.4628554354288...|[0.16348211617857...|      15.0|\n",
      "|(39,[0,2,3,4,6,7,...| 10|[1.45183661307604...|[0.02268494707931...|      10.0|\n",
      "|(39,[0,2,3,5,6,7,...| 16|[10.7031198425657...|[0.16723624754008...|      15.0|\n",
      "|(39,[0,2,4,5,6,9,...| 13|[0.74798061378782...|[0.01168719709043...|      11.0|\n",
      "|(39,[0,2,4,5,7,8,...| 12|[0.70140071614410...|[0.01095938618975...|      11.0|\n",
      "|(39,[0,2,4,5,7,8,...|  0|[7.37772083346493...|[0.11527688802288...|      16.0|\n",
      "+--------------------+---+--------------------+--------------------+----------+\n",
      "only showing top 20 rows\n",
      "\n"
     ]
    },
    {
     "name": "stderr",
     "output_type": "stream",
     "text": [
      "22/10/13 05:36:25 WARN DAGScheduler: Broadcasting large task binary with size 1525.3 KiB\n"
     ]
    }
   ],
   "source": [
    "#random forest classifier\n",
    "#importing random forest classifier\n",
    "from pyspark.ml.classification import RandomForestClassifier\n",
    "\n",
    "g1_df = cleaned_NormalizedData.select('normalizedFeatures', 'G1')\n",
    "g2_df = cleaned_NormalizedData.select('normalizedFeatures', 'G2')\n",
    "g3_df = cleaned_NormalizedData.select('normalizedFeatures', 'G3')\n",
    "\n",
    "#training data and testing data split\n",
    "trainingData_g1, testingData_g1 = g1_df.randomSplit([0.7,0.3])\n",
    "trainingData_g2, testingData_g2 = g2_df.randomSplit([0.7,0.3])\n",
    "trainingData_g3, testingData_g3 = g3_df.randomSplit([0.7,0.3])\n",
    "\n",
    "#creating our model\n",
    "rfc_g1 = RandomForestClassifier(labelCol='G1',featuresCol='normalizedFeatures', numTrees = 64) #grade1_rfc\n",
    "rfc_g2 = RandomForestClassifier(labelCol='G2',featuresCol='normalizedFeatures', numTrees = 64) #grade2_rfc\n",
    "rfc_g3 = RandomForestClassifier(labelCol='G3',featuresCol='normalizedFeatures', numTrees = 64) #grade3_rfc\n",
    "\n",
    "#training our model\n",
    "rf_model_g1 = rfc_g1.fit(trainingData_g1)\n",
    "rf_model_g2 = rfc_g2.fit(trainingData_g2)\n",
    "rf_model_g3 = rfc_g3.fit(trainingData_g3)\n",
    "\n",
    "#transformation\n",
    "prediction_rf_model_g1 = rf_model_g1.transform(testingData_g1)\n",
    "prediction_rf_model_g1.show()\n",
    "\n",
    "prediction_rf_model_g2 = rf_model_g2.transform(testingData_g2)\n",
    "prediction_rf_model_g2.show()\n",
    "\n",
    "prediction_rf_model_g3 = rf_model_g3.transform(testingData_g3)\n",
    "prediction_rf_model_g3.show()"
   ]
  },
  {
   "cell_type": "code",
   "execution_count": 51,
   "id": "4f282d38",
   "metadata": {},
   "outputs": [],
   "source": [
    "from pyspark.ml.evaluation import MulticlassClassificationEvaluator\n",
    "\n",
    "eval_g1 = MulticlassClassificationEvaluator(labelCol = 'G1', predictionCol=\"prediction\", metricName=\"accuracy\")\n",
    "eval_g2 = MulticlassClassificationEvaluator(labelCol = 'G2', predictionCol=\"prediction\", metricName=\"accuracy\")\n",
    "eval_g3 = MulticlassClassificationEvaluator(labelCol = 'G3', predictionCol=\"prediction\", metricName=\"accuracy\")"
   ]
  },
  {
   "cell_type": "code",
   "execution_count": 52,
   "id": "e2b9a378",
   "metadata": {},
   "outputs": [
    {
     "name": "stderr",
     "output_type": "stream",
     "text": [
      "22/10/13 06:15:02 WARN DAGScheduler: Broadcasting large task binary with size 1489.9 KiB\n",
      "22/10/13 06:15:04 WARN DAGScheduler: Broadcasting large task binary with size 1505.6 KiB\n",
      "22/10/13 06:15:04 WARN DAGScheduler: Broadcasting large task binary with size 1528.4 KiB\n"
     ]
    }
   ],
   "source": [
    "g1_acc = eval_g1.evaluate(prediction_rf_model_g1)\n",
    "g2_acc = eval_g2.evaluate(prediction_rf_model_g2)\n",
    "g3_acc = eval_g3.evaluate(prediction_rf_model_g3)"
   ]
  },
  {
   "cell_type": "code",
   "execution_count": 53,
   "id": "896508e9",
   "metadata": {},
   "outputs": [
    {
     "name": "stdout",
     "output_type": "stream",
     "text": [
      "A random forest for G1 ensemble has an accuracy of: 14.68%\n",
      "----------------------------------------\n",
      "A random forest for G2 ensemble has an accuracy of: 13.33%\n",
      "----------------------------------------\n",
      "A random forest for G3 ensemble has an accuracy of: 16.67%\n",
      "----------------------------------------\n"
     ]
    }
   ],
   "source": [
    "print('A random forest for G1 ensemble has an accuracy of: {0:2.2f}%'.format(g1_acc*100))\n",
    "print('-'*40)\n",
    "\n",
    "print('A random forest for G2 ensemble has an accuracy of: {0:2.2f}%'.format(g2_acc*100))\n",
    "print('-'*40)\n",
    "\n",
    "print('A random forest for G3 ensemble has an accuracy of: {0:2.2f}%'.format(g3_acc*100))\n",
    "print('-'*40)"
   ]
  },
  {
   "cell_type": "code",
   "execution_count": 81,
   "id": "fdb814a2",
   "metadata": {},
   "outputs": [
    {
     "data": {
      "image/png": "[encoded data removed]",
      "text/plain": [
       "<Figure size 144x144 with 1 Axes>"
      ]
     },
     "metadata": {
      "needs_background": "light"
     },
     "output_type": "display_data"
    }
   ],
   "source": [
    "#visualisations\n",
    "%matplotlib inline\n",
    "\n",
    "#creating arrays for Fedu, and G3\n",
    "address_array = np.array(cleaned_NormalizedData.select(\"address\").collect())\n",
    "g2_array = np.array(cleaned_NormalizedData.select(\"G2\").collect())\n",
    "\n",
    "#xpos = np.arange(len(\"ad\"))\n",
    "\n",
    "plt.style.use('_mpl-gallery')\n",
    "plt.hist(\"g2_array\")\n",
    "plt.show()"
   ]
  },
  {
   "cell_type": "code",
   "execution_count": 86,
   "id": "c9816bd0",
   "metadata": {},
   "outputs": [
    {
     "data": {
      "image/png": "[encoded data removed]",
      "text/plain": [
       "<Figure size 432x288 with 1 Axes>"
      ]
     },
     "metadata": {
      "needs_background": "light"
     },
     "output_type": "display_data"
    },
    {
     "name": "stdout",
     "output_type": "stream",
     "text": [
      "[[17]\n",
      " [15]\n",
      " [15]\n",
      " [16]\n",
      " [16]\n",
      " [16]\n",
      " [17]\n",
      " [15]\n",
      " [15]\n",
      " [15]\n",
      " [15]\n",
      " [15]\n",
      " [15]\n",
      " [16]\n",
      " [16]\n",
      " [17]\n",
      " [16]\n",
      " [15]\n",
      " [15]\n",
      " [16]\n",
      " [16]\n",
      " [16]\n",
      " [15]\n",
      " [15]\n",
      " [16]\n",
      " [16]\n",
      " [15]\n",
      " [15]\n",
      " [15]\n",
      " [15]\n",
      " [16]\n",
      " [15]\n",
      " [15]\n",
      " [16]\n",
      " [16]\n",
      " [15]\n",
      " [15]\n",
      " [15]\n",
      " [15]\n",
      " [16]\n",
      " [15]\n",
      " [16]\n",
      " [16]\n",
      " [15]\n",
      " [16]\n",
      " [15]\n",
      " [15]\n",
      " [15]\n",
      " [15]\n",
      " [16]\n",
      " [15]\n",
      " [15]\n",
      " [15]\n",
      " [16]\n",
      " [16]\n",
      " [16]\n",
      " [16]\n",
      " [16]\n",
      " [15]\n",
      " [16]\n",
      " [15]\n",
      " [16]\n",
      " [15]\n",
      " [15]\n",
      " [16]\n",
      " [15]\n",
      " [15]\n",
      " [16]\n",
      " [15]\n",
      " [15]\n",
      " [16]\n",
      " [17]\n",
      " [16]\n",
      " [15]\n",
      " [15]\n",
      " [15]\n",
      " [15]\n",
      " [15]\n",
      " [16]\n",
      " [15]\n",
      " [16]\n",
      " [16]\n",
      " [15]\n",
      " [16]\n",
      " [16]\n",
      " [15]\n",
      " [15]\n",
      " [16]\n",
      " [16]\n",
      " [16]\n",
      " [16]\n",
      " [16]\n",
      " [15]\n",
      " [15]\n",
      " [15]\n",
      " [15]\n",
      " [16]\n",
      " [15]\n",
      " [16]\n",
      " [15]\n",
      " [16]\n",
      " [16]\n",
      " [15]\n",
      " [15]\n",
      " [16]\n",
      " [15]\n",
      " [16]\n",
      " [15]\n",
      " [15]\n",
      " [15]\n",
      " [16]\n",
      " [16]\n",
      " [15]\n",
      " [15]\n",
      " [19]\n",
      " [18]\n",
      " [16]\n",
      " [15]\n",
      " [15]\n",
      " [17]\n",
      " [16]\n",
      " [15]\n",
      " [15]\n",
      " [17]\n",
      " [16]\n",
      " [16]\n",
      " [15]\n",
      " [15]\n",
      " [16]\n",
      " [15]\n",
      " [16]\n",
      " [17]\n",
      " [15]\n",
      " [15]\n",
      " [15]\n",
      " [15]\n",
      " [18]\n",
      " [16]\n",
      " [15]\n",
      " [19]\n",
      " [17]\n",
      " [15]\n",
      " [17]\n",
      " [18]\n",
      " [16]\n",
      " [16]\n",
      " [17]\n",
      " [15]\n",
      " [16]\n",
      " [17]\n",
      " [17]\n",
      " [16]\n",
      " [16]\n",
      " [16]\n",
      " [16]\n",
      " [16]\n",
      " [16]\n",
      " [16]\n",
      " [17]\n",
      " [16]\n",
      " [16]\n",
      " [17]\n",
      " [16]\n",
      " [17]\n",
      " [16]\n",
      " [17]\n",
      " [16]\n",
      " [16]\n",
      " [17]\n",
      " [16]\n",
      " [17]\n",
      " [16]\n",
      " [16]\n",
      " [17]\n",
      " [17]\n",
      " [16]\n",
      " [17]\n",
      " [17]\n",
      " [16]\n",
      " [16]\n",
      " [17]\n",
      " [17]\n",
      " [16]\n",
      " [16]\n",
      " [16]\n",
      " [16]\n",
      " [17]\n",
      " [16]\n",
      " [16]\n",
      " [16]\n",
      " [16]\n",
      " [17]\n",
      " [19]\n",
      " [17]\n",
      " [16]\n",
      " [18]\n",
      " [17]\n",
      " [17]\n",
      " [18]\n",
      " [17]\n",
      " [17]\n",
      " [17]\n",
      " [17]\n",
      " [16]\n",
      " [18]\n",
      " [16]\n",
      " [18]\n",
      " [17]\n",
      " [17]\n",
      " [18]\n",
      " [17]\n",
      " [17]\n",
      " [17]\n",
      " [17]\n",
      " [16]\n",
      " [16]\n",
      " [17]\n",
      " [17]\n",
      " [18]\n",
      " [17]\n",
      " [17]\n",
      " [16]\n",
      " [16]\n",
      " [18]\n",
      " [16]\n",
      " [17]\n",
      " [16]\n",
      " [18]\n",
      " [16]\n",
      " [16]\n",
      " [17]\n",
      " [17]\n",
      " [17]\n",
      " [19]\n",
      " [18]\n",
      " [17]\n",
      " [18]\n",
      " [18]\n",
      " [17]\n",
      " [18]\n",
      " [18]\n",
      " [17]\n",
      " [18]\n",
      " [18]\n",
      " [18]\n",
      " [19]\n",
      " [18]\n",
      " [18]\n",
      " [17]\n",
      " [17]\n",
      " [17]\n",
      " [18]\n",
      " [18]\n",
      " [18]\n",
      " [18]\n",
      " [17]\n",
      " [17]\n",
      " [18]\n",
      " [17]\n",
      " [18]\n",
      " [18]\n",
      " [18]\n",
      " [17]\n",
      " [18]\n",
      " [17]\n",
      " [18]\n",
      " [17]\n",
      " [19]\n",
      " [18]\n",
      " [18]\n",
      " [18]\n",
      " [18]\n",
      " [17]\n",
      " [17]\n",
      " [17]\n",
      " [18]\n",
      " [19]\n",
      " [19]\n",
      " [19]\n",
      " [19]\n",
      " [18]\n",
      " [18]\n",
      " [17]\n",
      " [18]\n",
      " [17]\n",
      " [17]\n",
      " [17]\n",
      " [17]\n",
      " [18]\n",
      " [17]\n",
      " [17]\n",
      " [17]\n",
      " [17]\n",
      " [18]\n",
      " [17]\n",
      " [18]\n",
      " [18]\n",
      " [18]\n",
      " [17]\n",
      " [19]\n",
      " [17]\n",
      " [18]\n",
      " [17]\n",
      " [19]\n",
      " [18]\n",
      " [18]\n",
      " [17]\n",
      " [18]\n",
      " [18]\n",
      " [18]\n",
      " [18]\n",
      " [18]\n",
      " [19]\n",
      " [17]\n",
      " [18]\n",
      " [19]\n",
      " [17]\n",
      " [18]\n",
      " [17]\n",
      " [17]\n",
      " [18]\n",
      " [18]\n",
      " [18]\n",
      " [18]\n",
      " [18]\n",
      " [17]\n",
      " [17]\n",
      " [18]\n",
      " [18]\n",
      " [17]\n",
      " [18]\n",
      " [18]\n",
      " [19]\n",
      " [18]\n",
      " [17]\n",
      " [17]\n",
      " [18]\n",
      " [18]\n",
      " [18]\n",
      " [18]\n",
      " [17]\n",
      " [18]\n",
      " [18]\n",
      " [17]\n",
      " [19]\n",
      " [18]\n",
      " [18]\n",
      " [18]\n",
      " [19]\n",
      " [18]\n",
      " [18]\n",
      " [17]\n",
      " [18]]\n"
     ]
    }
   ],
   "source": [
    "#Data visualisation \n",
    "#importing python libraries\n",
    "import numpy as np\n",
    "import matplotlib.pyplot as plt\n",
    "%matplotlib inline\n",
    "\n",
    "#converting age into an array using Numpy and plotting it using pyplot\n",
    "age_array = np.array(cleaned_NormalizedData.select('age').collect())\n",
    "plt.hist(age_array)\n",
    "plt.show()\n",
    "print(age_array)"
   ]
  },
  {
   "cell_type": "code",
   "execution_count": 125,
   "id": "0449163c",
   "metadata": {},
   "outputs": [
    {
     "name": "stdout",
     "output_type": "stream",
     "text": [
      "+------------------+----+\n",
      "|           avg(G3)|Fedu|\n",
      "+------------------+----+\n",
      "| 9.178082191780822|   1|\n",
      "|10.674157303370787|   3|\n",
      "|11.616279069767442|   4|\n",
      "|10.155339805825243|   2|\n",
      "|              13.0|   0|\n",
      "+------------------+----+\n",
      "\n",
      "xpos [0 1 2 3 4]\n",
      "g3 array [[ 9.17808219]\n",
      " [10.6741573 ]\n",
      " [11.61627907]\n",
      " [10.15533981]\n",
      " [13.        ]]\n",
      "[9.178082191780822, 10.674157303370787, 11.616279069767442, 10.155339805825243, 13.0]\n"
     ]
    },
    {
     "data": {
      "image/png": "[encoded data removed]",
      "text/plain": [
       "<Figure size 432x288 with 1 Axes>"
      ]
     },
     "metadata": {
      "needs_background": "light"
     },
     "output_type": "display_data"
    }
   ],
   "source": [
    "cleaned_NormalizedData.createOrReplaceTempView(\"test\")\n",
    "cleaned_NormalizedData.dtypes\n",
    "test = spark.sql('SELECT AVG(G3), Fedu FROM test GROUP BY Fedu')\n",
    "test.show()\n",
    "\n",
    "Fedu_array = np.array(test.select('Fedu').collect())\n",
    "g3_array = np.array(test.select('avg(G3)').collect())\n",
    "\n",
    "Fedu_array = [str(i) for i in Fedu_array]    \n",
    "xpos = np.arange(len(Fedu_array))\n",
    "print('xpos', xpos)\n",
    "print('g3 array', g3_array)\n",
    "\n",
    "flat= [y for sublist in g3_array for y in sublist]\n",
    "print(flat)\n",
    "\n",
    "#converting g3, Fedu into an array using Numpy and plotting it using pyplot\n",
    "plt.bar(xpos, flat)\n",
    "plt.show()"
   ]
  },
  {
   "cell_type": "code",
   "execution_count": null,
   "id": "1cb2dfff",
   "metadata": {},
   "outputs": [],
   "source": []
  }
 ],
 "metadata": {
  "kernelspec": {
   "display_name": "Python 3 (ipykernel)",
   "language": "python",
   "name": "python3"
  },
  "language_info": {
   "codemirror_mode": {
    "name": "ipython",
    "version": 3
   },
   "file_extension": ".py",
   "mimetype": "text/x-python",
   "name": "python",
   "nbconvert_exporter": "python",
   "pygments_lexer": "ipython3",
   "version": "3.10.4"
  }
 },
 "nbformat": 4,
 "nbformat_minor": 5
}
